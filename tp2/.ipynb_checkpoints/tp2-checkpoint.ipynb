{
 "cells": [
  {
   "cell_type": "code",
   "execution_count": 235,
   "id": "161e024d-82c2-4ff1-bfe8-e81279aac0d4",
   "metadata": {},
   "outputs": [],
   "source": [
    "# les importations\n",
    "import pandas as pd\n",
    "import numpy as np\n",
    "import matplotlib as mpl\n",
    "import matplotlib.pyplot as plt"
   ]
  },
  {
   "cell_type": "code",
   "execution_count": 274,
   "id": "a8fc3216-6b7d-4324-952e-6aa8b9faf436",
   "metadata": {},
   "outputs": [],
   "source": [
    "# importation de la dataset\n",
    "df = pd.read_csv('scorm_tracking_copy.csv', delimiter=';')\n",
    "df.object_id"
   ]
  },
  {
   "cell_type": "markdown",
   "id": "05dc369c",
   "metadata": {
    "tags": []
   },
   "source": [
    "# Partie 1:"
   ]
  },
  {
   "cell_type": "markdown",
   "id": "f421f4d5-b9c4-4b4e-865e-8bed3c834894",
   "metadata": {},
   "source": [
    "A partir du jeu de données original, créer:\n",
    "- un Dataframe comportant tous les modules en précisant l’effectif des\n",
    "apprenants, le nombre total de sessions, le score maximal, le score minimal,\n",
    "le taux de réussite (pour les apprenants des scores > 50)\n",
    "- un tableau 2D Numpy avec les données des 10 tops modules selon les taux\n",
    "de réussites (Chaque ligne représente un module)"
   ]
  },
  {
   "cell_type": "code",
   "execution_count": 5,
   "id": "c5e94148-47b7-4975-a0c5-c7e6adf3bb95",
   "metadata": {},
   "outputs": [],
   "source": [
    "# calcule de l'effectif des apprenants pour chaque module, en faisant attention parce que les apprenants peuvent se répeter\n",
    "effectif_apprenant = df.groupby(\"object_id\").actor.nunique()\n",
    "#effectif_apprenant # effectif des apprenants"
   ]
  },
  {
   "cell_type": "code",
   "execution_count": 6,
   "id": "e0a96f97-6120-4ebe-9a11-efe3efa3882d",
   "metadata": {},
   "outputs": [],
   "source": [
    "# calcule du nombre total de session pour chaque module\n",
    "nombre_total_session = df.groupby(\"object_id\").session_uuid.count()\n",
    "#nombre_total_session # nombre total de session"
   ]
  },
  {
   "cell_type": "code",
   "execution_count": 8,
   "id": "55f273a5-3847-4688-94c9-1a12a7007bf5",
   "metadata": {},
   "outputs": [],
   "source": [
    "# calcule du score maximal pour chaque module\n",
    "score_max = df.groupby(\"object_id\").score.max()\n",
    "#score_max # score maximal"
   ]
  },
  {
   "cell_type": "code",
   "execution_count": 9,
   "id": "c8a02946-ad5a-4646-9f0b-b95e14b0fad1",
   "metadata": {},
   "outputs": [],
   "source": [
    "# calcule du score minimal pour chaque module\n",
    "score_min = df.groupby(\"object_id\").score.min()\n",
    "#score_min # score minimal"
   ]
  },
  {
   "cell_type": "code",
   "execution_count": 10,
   "id": "3f0a8eb7-4402-48f0-a153-7daeeacb7514",
   "metadata": {},
   "outputs": [],
   "source": [
    "# calcule du nombre d'apprenant pour chaque module dont le score est >=50\n",
    "# taux de ressite = (nombre_eleve_plus_de_50 x 100) / effective_apprenant\n",
    "nombre_apprenant_admis = df.loc[df.score>=50].groupby(\"object_id\").actor.nunique()\n",
    "#nombre_apprenant_admis"
   ]
  },
  {
   "cell_type": "code",
   "execution_count": 15,
   "id": "bd979130-d33b-472e-8355-987994c88ac1",
   "metadata": {},
   "outputs": [],
   "source": [
    "# creation de mon data frame final\n",
    "\n",
    "my_dict = {\"effectif\": effectif_apprenant, \"nombre_total_session\": nombre_total_session, \"score_max\": score_max, \"score_min\": score_min, \"taux_de_reussite\": (nombre_apprenant_admis*100)/effectif_apprenant}\n",
    "df_tp2 = pd.DataFrame(my_dict)\n",
    "#df_tp2.dropna(axis=0, inplace = True) # supprime les NaN dans le data frame\n",
    "df_tp2.replace(np.nan, 0, inplace=True)"
   ]
  },
  {
   "cell_type": "code",
   "execution_count": 16,
   "id": "f90e4a58-d066-464e-9371-4a0915fd1d61",
   "metadata": {},
   "outputs": [],
   "source": [
    "# le data frame contenat les top 10\n",
    "top_10 = df_tp2.sort_values(by='taux_de_reussite', ascending=False).head(10)\n",
    "#top_10"
   ]
  },
  {
   "cell_type": "code",
   "execution_count": 17,
   "id": "c3fef91d-531c-4e52-8306-edbedfc5d6ae",
   "metadata": {},
   "outputs": [],
   "source": [
    "# conversion du data frame en tableau numpy\n",
    "np_array = np.array(top_10)\n",
    "#np_array"
   ]
  },
  {
   "cell_type": "markdown",
   "id": "60b64140-b79b-4a55-8c90-383d4e334800",
   "metadata": {},
   "source": [
    "# Partie 2:"
   ]
  },
  {
   "cell_type": "markdown",
   "id": "fc2cb7e4-5aff-40c2-afa9-9b6e9b982a3a",
   "metadata": {},
   "source": [
    "Pour le top module et le dernier:\n",
    "- créer un Dataframe avec les données résumées de chaque apprenants:\n",
    "nombre total de sessions, nombre total de temps, score, resultat final (de\n",
    "valeur 0 si score < 50 et 1 sinon)"
   ]
  },
  {
   "cell_type": "code",
   "execution_count": 19,
   "id": "118f8ef0-00e1-4b27-99b4-f7765ed1c9a5",
   "metadata": {},
   "outputs": [],
   "source": [
    "# determination du nom du top module\n",
    "taux_max = max(top_10.taux_de_reussite)\n",
    "top_module = top_10.loc[top_10.taux_de_reussite == taux_max]\n",
    "name_top_module = top_module.index[0]\n",
    "#name_top_module # le nom du premier module des tops 10"
   ]
  },
  {
   "cell_type": "code",
   "execution_count": 20,
   "id": "515ad729-70f6-46fa-a5e3-737bced8f279",
   "metadata": {},
   "outputs": [],
   "source": [
    "# determination du nom du dernier module\n",
    "taux_min = min(top_10.taux_de_reussite)\n",
    "dernier_module = top_10.loc[top_10.taux_de_reussite == taux_min]\n",
    "#dernier_module\n",
    "name_dernier_module = dernier_module.index[0]\n",
    "#name_dernier_module # les nom des dernier module des tops 10"
   ]
  },
  {
   "cell_type": "markdown",
   "id": "0adb2aa9-8ac7-4855-905f-b414d567a7f9",
   "metadata": {},
   "source": [
    "## Pour le top module:"
   ]
  },
  {
   "cell_type": "code",
   "execution_count": 21,
   "id": "19c438b1-9ff0-4715-941f-29115f591fa7",
   "metadata": {},
   "outputs": [],
   "source": [
    "# le data frame dont le nom de module correspond au nom du top module trié par un nombre précis de champ voulue\n",
    "df_tm = df.loc[df.object_id == name_top_module, [\"actor\",\"session_uuid\",\"object_id\",\"score\",\"temps\"]]\n",
    "#df_tm"
   ]
  },
  {
   "cell_type": "code",
   "execution_count": 22,
   "id": "9dc7b14d-2de9-49a6-8518-fcc14a137259",
   "metadata": {},
   "outputs": [],
   "source": [
    "# calcul du nombre total de session pour le top module regrouper par apprenant\n",
    "nbre_total_session_tm = df_tm.groupby(\"actor\").session_uuid.nunique()\n",
    "#nbre_total_session_tm"
   ]
  },
  {
   "cell_type": "code",
   "execution_count": 23,
   "id": "12579ba4-5c42-4eae-9de1-5ff6acaa4124",
   "metadata": {},
   "outputs": [],
   "source": [
    "# calcul du nombre total de temps pour le top module régroupé par apprenant\n",
    "nbre_total_temps_tm = df_tm.groupby(\"actor\").temps.sum()\n",
    "#nbre_total_temps_tm"
   ]
  },
  {
   "cell_type": "code",
   "execution_count": 24,
   "id": "53672736-6910-40c7-a744-f438a4839a1c",
   "metadata": {},
   "outputs": [],
   "source": [
    "# calcul du score maximal pour le top modul régroupé par apprenant\n",
    "score_tm = df_tm.groupby(\"actor\").score.max()\n",
    "#score_tm"
   ]
  },
  {
   "cell_type": "code",
   "execution_count": 25,
   "id": "62ff5216-b0d0-49a8-80c8-d632aaf38668",
   "metadata": {},
   "outputs": [],
   "source": [
    "# fonction permettant de retourner 0 ou 1 en fonction de la valeur donnée comme paramettre\n",
    "def resultat(value):\n",
    "    ''' \n",
    "        retourne 0 ou 1 en fonction de la valeur donnée en paramettre\n",
    "        param: entier\n",
    "        retour: 0 ou 1\n",
    "    '''\n",
    "    if value >=50:\n",
    "        return 1\n",
    "    else:\n",
    "        return 0"
   ]
  },
  {
   "cell_type": "code",
   "execution_count": 26,
   "id": "2e05e179-5a59-4571-9876-8e19779f20b1",
   "metadata": {},
   "outputs": [],
   "source": [
    "# calcul de la colonne pour le résultat final (1 si score>= et 0 sinon)\n",
    "resultat_final_tm = score_tm.map(lambda x: resultat(x)) # la fonction joue sur les Series\n",
    "#resultat_final_tm"
   ]
  },
  {
   "cell_type": "code",
   "execution_count": 27,
   "id": "afe3eefc-f0b1-4634-bb1e-385021204ca3",
   "metadata": {},
   "outputs": [],
   "source": [
    "# creation du data frame final à partir des données precedemment calculer\n",
    "top_module_dict = {\"nbre_total_session\": nbre_total_session_tm, \"nbre_total_temps\": nbre_total_temps_tm, \"score\": score_tm, \"resultat\":resultat_final_tm}\n",
    "df_top_modul = pd.DataFrame(top_module_dict)\n",
    "#df_top_modul"
   ]
  },
  {
   "cell_type": "markdown",
   "id": "cf053897-ec0a-4d9b-8b6c-272a6280f59d",
   "metadata": {},
   "source": [
    "## Pour le dernier module:"
   ]
  },
  {
   "cell_type": "code",
   "execution_count": 28,
   "id": "ca909f63-b3c8-4a36-b9ba-62e04b7e12c4",
   "metadata": {},
   "outputs": [],
   "source": [
    "# la data frame dont le nom de module correspond au nom du dernier module trié par un nombre précis de champ voulue\n",
    "df_dm = df.loc[df.object_id == name_dernier_module, [\"actor\",\"session_uuid\",\"object_id\",\"score\",\"temps\"]]\n",
    "#df_dm"
   ]
  },
  {
   "cell_type": "code",
   "execution_count": 29,
   "id": "8251bb7b-05de-40de-ba22-1c0698e3a100",
   "metadata": {},
   "outputs": [],
   "source": [
    "# calcul du nombre total de session pour le dernier module regrouper par apprenant\n",
    "nbre_total_session_dm = df_dm.groupby(\"actor\").session_uuid.nunique()\n",
    "#nbre_total_session_dm"
   ]
  },
  {
   "cell_type": "code",
   "execution_count": 30,
   "id": "0731f514-476e-4d36-8a61-167a34fdf81c",
   "metadata": {},
   "outputs": [],
   "source": [
    "# calcul du nombre total de temps pour le dernier module régroupé par apprenant\n",
    "nbre_total_temps_dm = df_dm.groupby(\"actor\").temps.sum()\n",
    "#nbre_total_temps_dm"
   ]
  },
  {
   "cell_type": "code",
   "execution_count": 31,
   "id": "7ba132f1-4243-4e41-a548-8c487619f5d4",
   "metadata": {},
   "outputs": [],
   "source": [
    "# calcul du score maximal pour le dernier modul régroupé par apprenant\n",
    "score_dm = df_dm.groupby(\"actor\").score.max()\n",
    "#score_dm"
   ]
  },
  {
   "cell_type": "code",
   "execution_count": 32,
   "id": "d8bb787b-46a5-45fc-b684-7d22f5636cb4",
   "metadata": {},
   "outputs": [],
   "source": [
    "# calcul de la colonne pour le résultat final (1 si score>= et 0 sinon)\n",
    "resultat_final_dm = score_dm.map(lambda x: resultat(x)) # la fonction joue sur les Series\n",
    "#resultat_final_dm"
   ]
  },
  {
   "cell_type": "code",
   "execution_count": 33,
   "id": "8658e9a6-334b-4c7c-b4e4-25a6a23e0796",
   "metadata": {},
   "outputs": [],
   "source": [
    "# creation du data frame final à partir des données precedemment calculer\n",
    "last_module_dict = {\"nbre_total_session\": nbre_total_session_dm, \"nbre_total_temps\": nbre_total_temps_dm, \"score\": score_dm, \"resulat\": resultat_final_dm}\n",
    "df_last_modul = pd.DataFrame(last_module_dict)\n",
    "#df_last_modul"
   ]
  },
  {
   "cell_type": "markdown",
   "id": "02faaa52-665e-4f08-bc8b-aecb6560fb4b",
   "metadata": {},
   "source": [
    "# Partie 3: Les graphes"
   ]
  },
  {
   "cell_type": "markdown",
   "id": "5d8fa84a-9171-4701-b48e-6fb8c48cf1f1",
   "metadata": {},
   "source": [
    "## Pour les 10 top module:\n",
    "- Représenter par une courbe ces derniers dans un même repère sur une figure unique. A chaque apprenant correspond un point dont l’abscisse est le temps en minutes de celui-ci. L’ordonné est déterminé par son score maximum.\n",
    "- Un diagramme en bâton avec le taux de réussite de chaque module.\n"
   ]
  },
  {
   "cell_type": "code",
   "execution_count": 225,
   "id": "1caf6629-6b5b-4373-9a93-59ac0ebf8ece",
   "metadata": {},
   "outputs": [
    {
     "data": {
      "text/html": [
       "<div>\n",
       "<style scoped>\n",
       "    .dataframe tbody tr th:only-of-type {\n",
       "        vertical-align: middle;\n",
       "    }\n",
       "\n",
       "    .dataframe tbody tr th {\n",
       "        vertical-align: top;\n",
       "    }\n",
       "\n",
       "    .dataframe thead th {\n",
       "        text-align: right;\n",
       "    }\n",
       "</style>\n",
       "<table border=\"1\" class=\"dataframe\">\n",
       "  <thead>\n",
       "    <tr style=\"text-align: right;\">\n",
       "      <th></th>\n",
       "      <th>effectif</th>\n",
       "      <th>nombre_total_session</th>\n",
       "      <th>score_max</th>\n",
       "      <th>score_min</th>\n",
       "      <th>taux_de_reussite</th>\n",
       "    </tr>\n",
       "    <tr>\n",
       "      <th>object_id</th>\n",
       "      <th></th>\n",
       "      <th></th>\n",
       "      <th></th>\n",
       "      <th></th>\n",
       "      <th></th>\n",
       "    </tr>\n",
       "  </thead>\n",
       "  <tbody>\n",
       "    <tr>\n",
       "      <th>752-etudes-de-cas-et-questions</th>\n",
       "      <td>123</td>\n",
       "      <td>216</td>\n",
       "      <td>100.0</td>\n",
       "      <td>0.0</td>\n",
       "      <td>99.186992</td>\n",
       "    </tr>\n",
       "    <tr>\n",
       "      <th>734-risques-psychosociaux</th>\n",
       "      <td>124</td>\n",
       "      <td>153</td>\n",
       "      <td>100.0</td>\n",
       "      <td>0.0</td>\n",
       "      <td>98.387097</td>\n",
       "    </tr>\n",
       "    <tr>\n",
       "      <th>819-informatique</th>\n",
       "      <td>59</td>\n",
       "      <td>68</td>\n",
       "      <td>100.0</td>\n",
       "      <td>0.0</td>\n",
       "      <td>98.305085</td>\n",
       "    </tr>\n",
       "    <tr>\n",
       "      <th>755-verhalten-des-mitarbeitenden</th>\n",
       "      <td>94</td>\n",
       "      <td>233</td>\n",
       "      <td>100.0</td>\n",
       "      <td>0.0</td>\n",
       "      <td>97.872340</td>\n",
       "    </tr>\n",
       "    <tr>\n",
       "      <th>761-fallstudien-und-fragen</th>\n",
       "      <td>89</td>\n",
       "      <td>242</td>\n",
       "      <td>100.0</td>\n",
       "      <td>0.0</td>\n",
       "      <td>97.752809</td>\n",
       "    </tr>\n",
       "    <tr>\n",
       "      <th>765-urlaub</th>\n",
       "      <td>88</td>\n",
       "      <td>308</td>\n",
       "      <td>100.0</td>\n",
       "      <td>0.0</td>\n",
       "      <td>97.727273</td>\n",
       "    </tr>\n",
       "    <tr>\n",
       "      <th>766-unbezahlter-urlaub</th>\n",
       "      <td>88</td>\n",
       "      <td>188</td>\n",
       "      <td>100.0</td>\n",
       "      <td>0.0</td>\n",
       "      <td>97.727273</td>\n",
       "    </tr>\n",
       "    <tr>\n",
       "      <th>729-salaire</th>\n",
       "      <td>129</td>\n",
       "      <td>255</td>\n",
       "      <td>100.0</td>\n",
       "      <td>0.0</td>\n",
       "      <td>97.674419</td>\n",
       "    </tr>\n",
       "    <tr>\n",
       "      <th>747-modification-des-rapports-de-travail</th>\n",
       "      <td>124</td>\n",
       "      <td>242</td>\n",
       "      <td>100.0</td>\n",
       "      <td>0.0</td>\n",
       "      <td>97.580645</td>\n",
       "    </tr>\n",
       "    <tr>\n",
       "      <th>736-conge-non-paye</th>\n",
       "      <td>122</td>\n",
       "      <td>270</td>\n",
       "      <td>100.0</td>\n",
       "      <td>0.0</td>\n",
       "      <td>96.721311</td>\n",
       "    </tr>\n",
       "  </tbody>\n",
       "</table>\n",
       "</div>"
      ],
      "text/plain": [
       "                                          effectif  nombre_total_session  \\\n",
       "object_id                                                                  \n",
       "752-etudes-de-cas-et-questions                 123                   216   \n",
       "734-risques-psychosociaux                      124                   153   \n",
       "819-informatique                                59                    68   \n",
       "755-verhalten-des-mitarbeitenden                94                   233   \n",
       "761-fallstudien-und-fragen                      89                   242   \n",
       "765-urlaub                                      88                   308   \n",
       "766-unbezahlter-urlaub                          88                   188   \n",
       "729-salaire                                    129                   255   \n",
       "747-modification-des-rapports-de-travail       124                   242   \n",
       "736-conge-non-paye                             122                   270   \n",
       "\n",
       "                                          score_max  score_min  \\\n",
       "object_id                                                        \n",
       "752-etudes-de-cas-et-questions                100.0        0.0   \n",
       "734-risques-psychosociaux                     100.0        0.0   \n",
       "819-informatique                              100.0        0.0   \n",
       "755-verhalten-des-mitarbeitenden              100.0        0.0   \n",
       "761-fallstudien-und-fragen                    100.0        0.0   \n",
       "765-urlaub                                    100.0        0.0   \n",
       "766-unbezahlter-urlaub                        100.0        0.0   \n",
       "729-salaire                                   100.0        0.0   \n",
       "747-modification-des-rapports-de-travail      100.0        0.0   \n",
       "736-conge-non-paye                            100.0        0.0   \n",
       "\n",
       "                                          taux_de_reussite  \n",
       "object_id                                                   \n",
       "752-etudes-de-cas-et-questions                   99.186992  \n",
       "734-risques-psychosociaux                        98.387097  \n",
       "819-informatique                                 98.305085  \n",
       "755-verhalten-des-mitarbeitenden                 97.872340  \n",
       "761-fallstudien-und-fragen                       97.752809  \n",
       "765-urlaub                                       97.727273  \n",
       "766-unbezahlter-urlaub                           97.727273  \n",
       "729-salaire                                      97.674419  \n",
       "747-modification-des-rapports-de-travail         97.580645  \n",
       "736-conge-non-paye                               96.721311  "
      ]
     },
     "execution_count": 225,
     "metadata": {},
     "output_type": "execute_result"
    }
   ],
   "source": [
    "top_10"
   ]
  },
  {
   "cell_type": "code",
   "execution_count": 67,
   "id": "fe8e74c4-a17d-44ee-8079-bfc3925c4e18",
   "metadata": {},
   "outputs": [],
   "source": [
    "# fonction pour obtenir le nom d'un module precis du top 10 des module\n",
    "def get_module_name(index):\n",
    "    return top_10.index[index]"
   ]
  },
  {
   "cell_type": "code",
   "execution_count": 271,
   "id": "6850ad8b-5f39-4d1e-a8d4-debbf3bafa4b",
   "metadata": {},
   "outputs": [],
   "source": [
    "def get_all_module_name(index):\n",
    "    return df.object_id[index]"
   ]
  },
  {
   "cell_type": "code",
   "execution_count": 227,
   "id": "120dfe2a-0f3e-436e-b629-1c919390964b",
   "metadata": {},
   "outputs": [],
   "source": [
    "# fonction pour obtenir la liste des noms des apprenants d'un module precis\n",
    "def get_list_learner_names(module_name):\n",
    "    learners_from_module = df.loc[df.object_id == module_name, [\"object_id\",\"actor\"]]\n",
    "    learner_names = learners_from_module.groupby(\"object_id\").actor.unique().values\n",
    "    return learner_names"
   ]
  },
  {
   "cell_type": "code",
   "execution_count": 258,
   "id": "098cbce4-0f8d-4179-9d6e-e8871c71ec0b",
   "metadata": {},
   "outputs": [
    {
     "data": {
      "text/html": [
       "<div>\n",
       "<style scoped>\n",
       "    .dataframe tbody tr th:only-of-type {\n",
       "        vertical-align: middle;\n",
       "    }\n",
       "\n",
       "    .dataframe tbody tr th {\n",
       "        vertical-align: top;\n",
       "    }\n",
       "\n",
       "    .dataframe thead th {\n",
       "        text-align: right;\n",
       "    }\n",
       "</style>\n",
       "<table border=\"1\" class=\"dataframe\">\n",
       "  <thead>\n",
       "    <tr style=\"text-align: right;\">\n",
       "      <th></th>\n",
       "      <th>actor</th>\n",
       "      <th>object_id</th>\n",
       "      <th>score</th>\n",
       "      <th>temps</th>\n",
       "    </tr>\n",
       "  </thead>\n",
       "  <tbody>\n",
       "    <tr>\n",
       "      <th>20964</th>\n",
       "      <td>dtic@mobiletic.com</td>\n",
       "      <td>752-etudes-de-cas-et-questions</td>\n",
       "      <td>0.0</td>\n",
       "      <td>10.0</td>\n",
       "    </tr>\n",
       "    <tr>\n",
       "      <th>21031</th>\n",
       "      <td>dtic@mobiletic.com</td>\n",
       "      <td>752-etudes-de-cas-et-questions</td>\n",
       "      <td>0.0</td>\n",
       "      <td>16.0</td>\n",
       "    </tr>\n",
       "    <tr>\n",
       "      <th>21032</th>\n",
       "      <td>dtic@mobiletic.com</td>\n",
       "      <td>752-etudes-de-cas-et-questions</td>\n",
       "      <td>0.0</td>\n",
       "      <td>162.0</td>\n",
       "    </tr>\n",
       "    <tr>\n",
       "      <th>24071</th>\n",
       "      <td>dtic@mobiletic.com</td>\n",
       "      <td>752-etudes-de-cas-et-questions</td>\n",
       "      <td>83.0</td>\n",
       "      <td>1358.0</td>\n",
       "    </tr>\n",
       "  </tbody>\n",
       "</table>\n",
       "</div>"
      ],
      "text/plain": [
       "                    actor                       object_id  score   temps\n",
       "20964  dtic@mobiletic.com  752-etudes-de-cas-et-questions    0.0    10.0\n",
       "21031  dtic@mobiletic.com  752-etudes-de-cas-et-questions    0.0    16.0\n",
       "21032  dtic@mobiletic.com  752-etudes-de-cas-et-questions    0.0   162.0\n",
       "24071  dtic@mobiletic.com  752-etudes-de-cas-et-questions   83.0  1358.0"
      ]
     },
     "execution_count": 258,
     "metadata": {},
     "output_type": "execute_result"
    }
   ],
   "source": [
    "def get_df_leaner_for_module(name_of_learner, module_name):\n",
    "     # obtention d'un data frame contenant la liste des score et leur temps pour un apprenant precis dans un module precis\n",
    "    df_learner = df[[\"actor\", \"object_id\", \"score\", \"temps\"]].where((df.actor == name_of_learner) & (df.object_id == module_name)).dropna(axis=0)\n",
    "    return df_learner\n",
    "get_df_leaner_for_module(\"dtic@mobiletic.com\", \"752-etudes-de-cas-et-questions\")"
   ]
  },
  {
   "cell_type": "code",
   "execution_count": 268,
   "id": "b9270360-1a97-401b-b438-e6230b48c767",
   "metadata": {},
   "outputs": [
    {
     "data": {
      "text/html": [
       "<div>\n",
       "<style scoped>\n",
       "    .dataframe tbody tr th:only-of-type {\n",
       "        vertical-align: middle;\n",
       "    }\n",
       "\n",
       "    .dataframe tbody tr th {\n",
       "        vertical-align: top;\n",
       "    }\n",
       "\n",
       "    .dataframe thead th {\n",
       "        text-align: right;\n",
       "    }\n",
       "</style>\n",
       "<table border=\"1\" class=\"dataframe\">\n",
       "  <thead>\n",
       "    <tr style=\"text-align: right;\">\n",
       "      <th></th>\n",
       "      <th>score_max</th>\n",
       "      <th>temps_total</th>\n",
       "    </tr>\n",
       "  </thead>\n",
       "  <tbody>\n",
       "    <tr>\n",
       "      <th>0</th>\n",
       "      <td>83.0</td>\n",
       "      <td>1546.0</td>\n",
       "    </tr>\n",
       "  </tbody>\n",
       "</table>\n",
       "</div>"
      ],
      "text/plain": [
       "   score_max  temps_total\n",
       "0       83.0       1546.0"
      ]
     },
     "execution_count": 268,
     "metadata": {},
     "output_type": "execute_result"
    }
   ],
   "source": [
    "df_test = get_df_leaner_for_module(\"dtic@mobiletic.com\", \"752-etudes-de-cas-et-questions\")\n",
    "total_time = df_test[\"temps\"].sum()\n",
    "total_time\n",
    "score_maximal = df_test[\"score\"].max()\n",
    "my_dicte = {\"score_max\": [score_maximal], \"temps_total\": [total_time]}\n",
    "\n",
    "my_dicte\n",
    "pd.DataFrame(my_dicte)\n"
   ]
  },
  {
   "cell_type": "code",
   "execution_count": 221,
   "id": "38c86978-7ed9-47f2-9f87-5d5abc745523",
   "metadata": {},
   "outputs": [],
   "source": [
    "# fonction pour obtenit le score maximal pour un apprenant dans un module precis\n",
    "def get_score_max(df_learner):\n",
    "    # obtention du score maximal\n",
    "    score_max = df_learner[\"score\"].max()\n",
    "    return score_max"
   ]
  },
  {
   "cell_type": "code",
   "execution_count": 222,
   "id": "60a9aad4-7d23-4538-9706-675898572362",
   "metadata": {},
   "outputs": [],
   "source": [
    "# fonction pour obtenir le data frame des score maximal\n",
    "def get_df_score_max(df_learner, score_max):\n",
    "    # obtention du data frame contenant uniquement le score maximal avec les differents temps\n",
    "    df_score_max = df_learner.loc[df_learner.score == score_max]\n",
    "    return df_score_max"
   ]
  },
  {
   "cell_type": "code",
   "execution_count": 223,
   "id": "7e979b81-f263-4005-ad4e-aa1c3972723d",
   "metadata": {},
   "outputs": [],
   "source": [
    "# fonction pour obtenit le time minimal pour un score maximal donnée\n",
    "def get_time_min(df_score_max):\n",
    "    # obtention du temps minimal\n",
    "    time_series = df_score_max.groupby(\"score\").temps.min()\n",
    "    time_min = time_series.values[0]/60\n",
    "    return time_min"
   ]
  },
  {
   "cell_type": "code",
   "execution_count": 270,
   "id": "5681a755-3c22-4625-9f4c-06b69f3c9922",
   "metadata": {},
   "outputs": [],
   "source": [
    "def get_total_time(df_learner):\n",
    "    total_time = df_learner[\"temps\"].sum()\n",
    "    return total_time"
   ]
  },
  {
   "cell_type": "code",
   "execution_count": 284,
   "id": "9b06d4e2-af1a-4f2e-b952-107ba1916546",
   "metadata": {},
   "outputs": [],
   "source": [
    "# fonction pour obtenir le data frame du score et du temps d'un apprenant pour un module precis\n",
    "def get_df_score_time_for_module(index):\n",
    "    score_list = []\n",
    "    time_list = []\n",
    "    # obtention du  nom du module\n",
    "    module_name = get_module_name(index=index)\n",
    "    # obtention de la liste des apprenants d'un module precis\n",
    "    learner_names = get_list_learner_names(module_name=module_name)\n",
    "    # obtention du score et du temps pour un apprenant precis d'un module precis\n",
    "    for i in range(len(learner_names[0])):\n",
    "        df_learner = get_df_leaner_for_module(name_of_learner=learner_names[0][i], module_name=module_name)\n",
    "        score_max = get_score_max(df_learner=df_learner)\n",
    "        df_score_max = get_df_score_max(df_learner=df_learner, score_max=score_max)\n",
    "        time_min = get_time_min(df_score_max=df_score_max)\n",
    "        score_list.append(score_max)\n",
    "        time_list.append(time_min)\n",
    "    # creation et renvoi de notre data frame\n",
    "    return pd.DataFrame({\"score\": score_list,\"temps\": time_list})"
   ]
  },
  {
   "cell_type": "code",
   "execution_count": 293,
   "id": "c3e92199-99d7-4ccb-b8d9-9681967b6cd9",
   "metadata": {},
   "outputs": [
    {
     "data": {
      "text/html": [
       "<div>\n",
       "<style scoped>\n",
       "    .dataframe tbody tr th:only-of-type {\n",
       "        vertical-align: middle;\n",
       "    }\n",
       "\n",
       "    .dataframe tbody tr th {\n",
       "        vertical-align: top;\n",
       "    }\n",
       "\n",
       "    .dataframe thead th {\n",
       "        text-align: right;\n",
       "    }\n",
       "</style>\n",
       "<table border=\"1\" class=\"dataframe\">\n",
       "  <thead>\n",
       "    <tr style=\"text-align: right;\">\n",
       "      <th></th>\n",
       "      <th>score_max</th>\n",
       "      <th>temps_total</th>\n",
       "      <th>rang</th>\n",
       "    </tr>\n",
       "  </thead>\n",
       "  <tbody>\n",
       "    <tr>\n",
       "      <th>27</th>\n",
       "      <td>100.0</td>\n",
       "      <td>33.0</td>\n",
       "      <td>1</td>\n",
       "    </tr>\n",
       "    <tr>\n",
       "      <th>216</th>\n",
       "      <td>100.0</td>\n",
       "      <td>74.0</td>\n",
       "      <td>2</td>\n",
       "    </tr>\n",
       "    <tr>\n",
       "      <th>72</th>\n",
       "      <td>100.0</td>\n",
       "      <td>100.0</td>\n",
       "      <td>3</td>\n",
       "    </tr>\n",
       "    <tr>\n",
       "      <th>20</th>\n",
       "      <td>100.0</td>\n",
       "      <td>115.0</td>\n",
       "      <td>4</td>\n",
       "    </tr>\n",
       "    <tr>\n",
       "      <th>96</th>\n",
       "      <td>100.0</td>\n",
       "      <td>125.0</td>\n",
       "      <td>5</td>\n",
       "    </tr>\n",
       "    <tr>\n",
       "      <th>...</th>\n",
       "      <td>...</td>\n",
       "      <td>...</td>\n",
       "      <td>...</td>\n",
       "    </tr>\n",
       "    <tr>\n",
       "      <th>116</th>\n",
       "      <td>0.0</td>\n",
       "      <td>669.0</td>\n",
       "      <td>239</td>\n",
       "    </tr>\n",
       "    <tr>\n",
       "      <th>167</th>\n",
       "      <td>0.0</td>\n",
       "      <td>730.0</td>\n",
       "      <td>240</td>\n",
       "    </tr>\n",
       "    <tr>\n",
       "      <th>16</th>\n",
       "      <td>0.0</td>\n",
       "      <td>1837.0</td>\n",
       "      <td>241</td>\n",
       "    </tr>\n",
       "    <tr>\n",
       "      <th>168</th>\n",
       "      <td>0.0</td>\n",
       "      <td>3458.0</td>\n",
       "      <td>242</td>\n",
       "    </tr>\n",
       "    <tr>\n",
       "      <th>15</th>\n",
       "      <td>0.0</td>\n",
       "      <td>5318.0</td>\n",
       "      <td>243</td>\n",
       "    </tr>\n",
       "  </tbody>\n",
       "</table>\n",
       "<p>243 rows × 3 columns</p>\n",
       "</div>"
      ],
      "text/plain": [
       "     score_max  temps_total  rang\n",
       "27       100.0         33.0     1\n",
       "216      100.0         74.0     2\n",
       "72       100.0        100.0     3\n",
       "20       100.0        115.0     4\n",
       "96       100.0        125.0     5\n",
       "..         ...          ...   ...\n",
       "116        0.0        669.0   239\n",
       "167        0.0        730.0   240\n",
       "16         0.0       1837.0   241\n",
       "168        0.0       3458.0   242\n",
       "15         0.0       5318.0   243\n",
       "\n",
       "[243 rows x 3 columns]"
      ]
     },
     "execution_count": 293,
     "metadata": {},
     "output_type": "execute_result"
    }
   ],
   "source": [
    "# fonction pour obtenir le data frame du score, du temps total et du rang d'un apprenant pour un module precis\n",
    "def get_df_score_total_time_for_module(index):\n",
    "    score_list = []\n",
    "    time_list = []\n",
    "    # obtention du  nom du module\n",
    "    module_name = get_all_module_name(index=index)\n",
    "    # obtention de la liste des apprenants d'un module precis\n",
    "    learner_names = get_list_learner_names(module_name=module_name)\n",
    "    # obtention du score et du temps pour un apprenant precis d'un module precis\n",
    "    for i in range(len(learner_names[0])):\n",
    "        df_learner = get_df_leaner_for_module(name_of_learner=learner_names[0][i], module_name=module_name)\n",
    "        score_max = get_score_max(df_learner=df_learner)\n",
    "        total_time = get_total_time(df_learner=df_learner)\n",
    "        score_list.append(score_max)\n",
    "        time_list.append(total_time)\n",
    "    # creation et renvoi de notre data frame\n",
    "    df_final = pd.DataFrame({\"score_max\": score_list,\"temps_total\": time_list})\n",
    "    df_final.sort_values(by=[\"score_max\", \"temps_total\"], ascending=[False, True], inplace=True)\n",
    "    df_final[\"rang\"] = [i+1 for i in range(len(df_final))]\n",
    "    return df_final"
   ]
  },
  {
   "cell_type": "code",
   "execution_count": 93,
   "id": "05fb2ae3-9954-4c98-ba25-50d51bf9f6a5",
   "metadata": {},
   "outputs": [],
   "source": [
    "# fonction pour trier, par temps, un data frame dans lordre croissant\n",
    "def sort_df(df):\n",
    "    return df.sort_values(by=\"temps\")"
   ]
  },
  {
   "cell_type": "code",
   "execution_count": null,
   "id": "a3152d01-ecc3-4a14-9611-bb50dc44edfb",
   "metadata": {},
   "outputs": [],
   "source": []
  },
  {
   "cell_type": "code",
   "execution_count": null,
   "id": "2762d073-9011-4236-afb2-b45a1cbd1d91",
   "metadata": {},
   "outputs": [],
   "source": []
  },
  {
   "cell_type": "code",
   "execution_count": 195,
   "id": "7aac8c4e-749a-45a1-9a49-02c40fe366fa",
   "metadata": {},
   "outputs": [],
   "source": [
    "top_module_0 = sort_df(get_df_score_time_for_module(0))\n",
    "top_module_1 = sort_df(get_df_score_time_for_module(1))\n",
    "top_module_2 = sort_df(get_df_score_time_for_module(2))\n",
    "top_module_3 = sort_df(get_df_score_time_for_module(3))\n",
    "top_module_4 = sort_df(get_df_score_time_for_module(4))\n",
    "top_module_5 = sort_df(get_df_score_time_for_module(5))\n",
    "top_module_6 = sort_df(get_df_score_time_for_module(6))\n",
    "top_module_7 = sort_df(get_df_score_time_for_module(7))\n",
    "top_module_8 = sort_df(get_df_score_time_for_module(8))\n",
    "top_module_9 = sort_df(get_df_score_time_for_module(9))"
   ]
  },
  {
   "cell_type": "code",
   "execution_count": null,
   "id": "ab2cefe2-07ec-461f-9974-d311e26783a1",
   "metadata": {},
   "outputs": [],
   "source": []
  },
  {
   "cell_type": "code",
   "execution_count": null,
   "id": "5a8728b8-1de9-4a59-a663-090a6b7c1b1a",
   "metadata": {},
   "outputs": [],
   "source": []
  },
  {
   "cell_type": "code",
   "execution_count": 196,
   "id": "839e5ac9-f7b4-4637-b222-2ea92021df79",
   "metadata": {
    "tags": []
   },
   "outputs": [
    {
     "data": {
      "text/plain": [
       "Text(0, 0.5, 'Ordonnées (scores)')"
      ]
     },
     "execution_count": 196,
     "metadata": {},
     "output_type": "execute_result"
    },
    {
     "data": {
      "image/png": "[encoded data removed]",
      "text/plain": [
       "<Figure size 640x480 with 1 Axes>"
      ]
     },
     "metadata": {},
     "output_type": "display_data"
    }
   ],
   "source": [
    "# la courbe dont chaque point representre un apprenant\n",
    "fig, ax = plt.subplots()\n",
    "ax.plot(top_module_0[\"temps\"], top_module_0[\"score\"], label='top 0')\n",
    "ax.plot(top_module_1[\"temps\"], top_module_1[\"score\"], label='top 1')\n",
    "ax.plot(top_module_2[\"temps\"], top_module_2[\"score\"], label='top 2')\n",
    "ax.plot(top_module_3[\"temps\"], top_module_3[\"score\"], label='top 3')\n",
    "ax.plot(top_module_4[\"temps\"], top_module_4[\"score\"], label='top 4')\n",
    "ax.plot(top_module_5[\"temps\"], top_module_5[\"score\"], label='top 5')\n",
    "ax.plot(top_module_6[\"temps\"], top_module_6[\"score\"], label='top 6')\n",
    "ax.plot(top_module_7[\"temps\"], top_module_7[\"score\"], label='top 7')\n",
    "ax.plot(top_module_8[\"temps\"], top_module_8[\"score\"], label='top 8')\n",
    "ax.plot(top_module_9[\"temps\"], top_module_9[\"score\"], label='top 9')\n",
    "\n",
    "\n",
    "ax.set_xlabel(\"Abscisses (temps)\")\n",
    "ax.set_ylabel(\"Ordonnées (scores)\")\n",
    "\n",
    "#plt.show()"
   ]
  },
  {
   "cell_type": "code",
   "execution_count": null,
   "id": "40ad8ffc-47fc-4996-9d33-1f6b5708c4dc",
   "metadata": {},
   "outputs": [],
   "source": []
  },
  {
   "cell_type": "code",
   "execution_count": 26,
   "id": "63fd6df0-aad1-48b1-b5bd-add85a03f094",
   "metadata": {},
   "outputs": [
    {
     "data": {
      "image/png": "[encoded data removed]",
      "text/plain": [
       "<Figure size 640x480 with 1 Axes>"
      ]
     },
     "metadata": {},
     "output_type": "display_data"
    }
   ],
   "source": [
    "# le positionnement par rapport à l'axe des abscisses\n",
    "x = [1,2,3,4,5,6,7,8,9,10]\n",
    "# le positionnement par rapport à l'axe des ordonnées\n",
    "height = top_10[\"taux_de_reussite\"]\n",
    "# la largeur de chaque bar\n",
    "width = 0.05\n",
    "\n",
    "# reglage sur les bars\n",
    "plt.bar(x, height, width, color=(0.65098041296005249, 0.80784314870834351, 0.89019608497619629, 1))\n",
    "# le reglage des point noir sur le bout des bars\n",
    "plt.scatter(x,height,color='k',s=40)\n",
    "\n",
    "# xlim determine la valeur maximal de la graduation. Si c'est 0.11 allors la valeur maximal est 11\n",
    "plt.xlim(0,11)\n",
    "# ylim determine la valeur maximal de la graduation. Si c'est 0.14 allors la valeur maximal est 14\n",
    "plt.ylim(1)\n",
    "plt.title('Diagramme en Batons')\n",
    "\n",
    "plt.show()"
   ]
  },
  {
   "cell_type": "markdown",
   "id": "cc552125-840f-466c-ab19-9639214af2eb",
   "metadata": {},
   "source": [
    "## Pour les 3 top module:\n",
    "Représenter par une courbe chacun dans un même repère différent sur une même figure horizontalement subdivisée en trois.\n",
    "A chaque apprenant correspond un point dont l’abscisse est le rang de celui-ci. \n",
    "L’ordonné est déterminé par son score maximum."
   ]
  },
  {
   "cell_type": "code",
   "execution_count": 198,
   "id": "ce0bb6e3-65b0-4355-b835-ba311511c632",
   "metadata": {},
   "outputs": [],
   "source": [
    "df_top_3 = top_10.head(3)"
   ]
  },
  {
   "cell_type": "code",
   "execution_count": 199,
   "id": "29f9298e-685e-41d2-a0c1-55d9de7cd564",
   "metadata": {},
   "outputs": [],
   "source": [
    "top_module_0[\"rang\"] = [i+1 for i in range(len(top_module_0))]\n",
    "top_module_1[\"rang\"] = [i+1 for i in range(len(top_module_1))]\n",
    "top_module_2[\"rang\"] = [i+1 for i in range(len(top_module_2))]"
   ]
  },
  {
   "cell_type": "code",
   "execution_count": 145,
   "id": "daf9e43e-e400-4da2-bc40-91dba1ea4986",
   "metadata": {},
   "outputs": [],
   "source": [
    "def display_3_fig(nb_fig):\n",
    "    fig, ax = plt.subplots(nb_fig, 1,sharex=True)\n",
    "    fig.subplots_adjust(hspace=0)\n",
    "    for i in range(nb_fig):\n",
    "        ax[i].plot(top_module_0[\"rang\"], top_module_0[\"score\"])\n",
    "        \n",
    "        ax[i].set_xlabel(\"Rang\")\n",
    "        ax[i].set_ylabel(\"Score Max\")\n",
    "       \n",
    "        ax[i].set_title(df_top_3.index[i]);"
   ]
  },
  {
   "cell_type": "code",
   "execution_count": 200,
   "id": "b1d91352-e837-43cc-8397-8151bb27b51d",
   "metadata": {},
   "outputs": [
    {
     "data": {
      "image/png": "[encoded data removed]",
      "text/plain": [
       "<Figure size 640x480 with 3 Axes>"
      ]
     },
     "metadata": {},
     "output_type": "display_data"
    }
   ],
   "source": [
    "fig, ax = plt.subplots(3, 1,sharex=True)\n",
    "fig.subplots_adjust(hspace=0)\n",
    "ax[0].plot(top_module_0[\"rang\"], top_module_0[\"score\"])\n",
    "ax[1].plot(top_module_1[\"rang\"], top_module_1[\"score\"])\n",
    "ax[2].plot(top_module_2[\"rang\"], top_module_2[\"score\"])\n",
    "\n",
    "ax[0].set_xlabel(\"Rang\")\n",
    "ax[1].set_xlabel(\"Rang\")\n",
    "ax[2].set_xlabel(\"Rang\")\n",
    "\n",
    "ax[0].set_ylabel(\"Score Max\")\n",
    "ax[1].set_ylabel(\"Score Max\")\n",
    "ax[2].set_ylabel(\"Score Max\")\n",
    "\n",
    "ax[0].set_title(df_top_3.index[0]);\n",
    "ax[1].set_title(df_top_3.index[1]);\n",
    "ax[2].set_title(df_top_3.index[2]);"
   ]
  },
  {
   "cell_type": "markdown",
   "id": "92a01c0a-8731-43c3-bd6a-bebf59349cb5",
   "metadata": {},
   "source": [
    "# Pour tous les modules:\n",
    "- Représenter l’ensemble par un nuage de points dans un même repère sur une même figure. A chaque apprenant correspond un point dont l’abscisse est le rang de celui-ci. L’ordonné est déterminé par le temps global sur le module.\n",
    "- Un camembert avec le taux des modules catégorisés en quatre classes: \n",
    "    - Classe A: taux de réussite > = 80%\n",
    "    - Classe B: taux de réussite > = 60%\n",
    "    - Classe C: taux de réussite > = 50%\n",
    "    - Classe D: taux de réussite < 50%\n"
   ]
  },
  {
   "cell_type": "code",
   "execution_count": 324,
   "id": "d7f9a1fe-8c9f-471d-868a-9d17be782ea1",
   "metadata": {},
   "outputs": [],
   "source": [
    "df_p3 = df[[\"id\", \"actor\", \"object_id\", \"score\", \"temps\"]]\n",
    "name_all_module = df_p3.groupby(\"object_id\").object_id.unique().index\n",
    "total_time_module = df_p3.groupby(\"object_id\").temps.sum()\n",
    "score_max_module = df_p3.groupby(\"object_id\").score.max()\n",
    "df_scatter = pd.DataFrame({\"score_max\": score_max_module, \"temps_total\": total_time_module/60})\n",
    "df_scatter.sort_values(by=[\"score_max\", \"temps_total\"], ascending=[False, True], inplace=True)\n",
    "df_scatter[\"rang\"] = [i+1 for i in range(len(df_scatter))]"
   ]
  },
  {
   "cell_type": "code",
   "execution_count": 331,
   "id": "39d70386-694c-4b57-8431-16f08333df4c",
   "metadata": {},
   "outputs": [
    {
     "data": {
      "text/plain": [
       "Text(0, 0.5, 'y (Temps global)')"
      ]
     },
     "execution_count": 331,
     "metadata": {},
     "output_type": "execute_result"
    },
    {
     "data": {
      "image/png": "[encoded data removed]",
      "text/plain": [
       "<Figure size 500x270 with 1 Axes>"
      ]
     },
     "metadata": {},
     "output_type": "display_data"
    }
   ],
   "source": [
    "data = {'x':df_scatter[\"rang\"],\n",
    "        'c': np.random.randint(0, 50, len(df_scatter)),\n",
    "        'd': np.random.randn(len(df_scatter))}\n",
    "data['y'] = df_scatter[\"temps_total\"]\n",
    "data['d'] = np.abs(data['d']) * 100\n",
    "\n",
    "fig, ax = plt.subplots(figsize=(5, 2.7), layout='constrained')\n",
    "ax.scatter('x', 'y', c='c', s='d', data=data)\n",
    "\n",
    "plt.title('Nuage de points')\n",
    "plt.xlabel('x (Rang)')\n",
    "plt.ylabel('y (Temps global)')"
   ]
  },
  {
   "cell_type": "code",
   "execution_count": null,
   "id": "b9b9df51-3846-4bc3-89bd-42f1d18e3c39",
   "metadata": {},
   "outputs": [],
   "source": []
  }
 ],
 "metadata": {
  "kernelspec": {
   "display_name": "Python 3 (ipykernel)",
   "language": "python",
   "name": "python3"
  },
  "language_info": {
   "codemirror_mode": {
    "name": "ipython",
    "version": 3
   },
   "file_extension": ".py",
   "mimetype": "text/x-python",
   "name": "python",
   "nbconvert_exporter": "python",
   "pygments_lexer": "ipython3",
   "version": "3.9.13"
  }
 },
 "nbformat": 4,
 "nbformat_minor": 5
}
