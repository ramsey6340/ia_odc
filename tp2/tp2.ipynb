{
 "cells": [
  {
   "cell_type": "code",
   "execution_count": 1,
   "id": "161e024d-82c2-4ff1-bfe8-e81279aac0d4",
   "metadata": {},
   "outputs": [],
   "source": [
    "# les importations\n",
    "import pandas as pd\n",
    "import numpy as np\n",
    "import matplotlib as mpl\n",
    "import matplotlib.pyplot as plt"
   ]
  },
  {
   "cell_type": "code",
   "execution_count": 2,
   "id": "a8fc3216-6b7d-4324-952e-6aa8b9faf436",
   "metadata": {},
   "outputs": [],
   "source": [
    "# importation de la dataset\n",
    "df = pd.read_csv('scorm_tracking_copy.csv', delimiter=';')"
   ]
  },
  {
   "cell_type": "markdown",
   "id": "05dc369c",
   "metadata": {
    "tags": []
   },
   "source": [
    "# Partie 1:"
   ]
  },
  {
   "cell_type": "markdown",
   "id": "f421f4d5-b9c4-4b4e-865e-8bed3c834894",
   "metadata": {},
   "source": [
    "A partir du jeu de données original, créer:\n",
    "- un Dataframe comportant tous les modules en précisant l’effectif des\n",
    "apprenants, le nombre total de sessions, le score maximal, le score minimal,\n",
    "le taux de réussite (pour les apprenants des scores > 50)\n",
    "- un tableau 2D Numpy avec les données des 10 tops modules selon les taux\n",
    "de réussites (Chaque ligne représente un module)"
   ]
  },
  {
   "cell_type": "code",
   "execution_count": 3,
   "id": "c5e94148-47b7-4975-a0c5-c7e6adf3bb95",
   "metadata": {},
   "outputs": [],
   "source": [
    "# calcule de l'effectif des apprenants pour chaque module, en faisant attention parce que les apprenants peuvent se répeter\n",
    "effectif_apprenant = df.groupby(\"object_id\").actor.nunique()\n",
    "#effectif_apprenant # effectif des apprenants"
   ]
  },
  {
   "cell_type": "code",
   "execution_count": 4,
   "id": "e0a96f97-6120-4ebe-9a11-efe3efa3882d",
   "metadata": {},
   "outputs": [],
   "source": [
    "# calcule du nombre total de session pour chaque module\n",
    "nombre_total_session = df.groupby(\"object_id\").session_uuid.count()\n",
    "#nombre_total_session # nombre total de session"
   ]
  },
  {
   "cell_type": "code",
   "execution_count": 5,
   "id": "55f273a5-3847-4688-94c9-1a12a7007bf5",
   "metadata": {},
   "outputs": [],
   "source": [
    "# calcule du score maximal pour chaque module\n",
    "score_max = df.groupby(\"object_id\").score.max()\n",
    "#score_max # score maximal"
   ]
  },
  {
   "cell_type": "code",
   "execution_count": 6,
   "id": "c8a02946-ad5a-4646-9f0b-b95e14b0fad1",
   "metadata": {},
   "outputs": [],
   "source": [
    "# calcule du score minimal pour chaque module\n",
    "score_min = df.groupby(\"object_id\").score.min()\n",
    "#score_min # score minimal"
   ]
  },
  {
   "cell_type": "code",
   "execution_count": 7,
   "id": "3f0a8eb7-4402-48f0-a153-7daeeacb7514",
   "metadata": {},
   "outputs": [],
   "source": [
    "# calcule du nombre d'apprenant pour chaque module dont le score est >=50\n",
    "# taux de ressite = (nombre_eleve_plus_de_50 x 100) / effective_apprenant\n",
    "nombre_apprenant_admis = df.loc[df.score>=50].groupby(\"object_id\").actor.nunique()\n",
    "#nombre_apprenant_admis"
   ]
  },
  {
   "cell_type": "code",
   "execution_count": 8,
   "id": "bd979130-d33b-472e-8355-987994c88ac1",
   "metadata": {},
   "outputs": [
    {
     "data": {
      "text/html": [
       "<div>\n",
       "<style scoped>\n",
       "    .dataframe tbody tr th:only-of-type {\n",
       "        vertical-align: middle;\n",
       "    }\n",
       "\n",
       "    .dataframe tbody tr th {\n",
       "        vertical-align: top;\n",
       "    }\n",
       "\n",
       "    .dataframe thead th {\n",
       "        text-align: right;\n",
       "    }\n",
       "</style>\n",
       "<table border=\"1\" class=\"dataframe\">\n",
       "  <thead>\n",
       "    <tr style=\"text-align: right;\">\n",
       "      <th></th>\n",
       "      <th>effectif</th>\n",
       "      <th>nombre_total_session</th>\n",
       "      <th>score_max</th>\n",
       "      <th>score_min</th>\n",
       "      <th>taux_de_reussite</th>\n",
       "    </tr>\n",
       "    <tr>\n",
       "      <th>object_id</th>\n",
       "      <th></th>\n",
       "      <th></th>\n",
       "      <th></th>\n",
       "      <th></th>\n",
       "      <th></th>\n",
       "    </tr>\n",
       "  </thead>\n",
       "  <tbody>\n",
       "    <tr>\n",
       "      <th>632-le-hibou-grand-duc</th>\n",
       "      <td>1</td>\n",
       "      <td>1</td>\n",
       "      <td>0.0</td>\n",
       "      <td>0.0</td>\n",
       "      <td>0.000000</td>\n",
       "    </tr>\n",
       "    <tr>\n",
       "      <th>669-vallee-trient-finhaut-source-de-bien-etre</th>\n",
       "      <td>1</td>\n",
       "      <td>1</td>\n",
       "      <td>0.0</td>\n",
       "      <td>0.0</td>\n",
       "      <td>0.000000</td>\n",
       "    </tr>\n",
       "    <tr>\n",
       "      <th>671-presentation</th>\n",
       "      <td>340</td>\n",
       "      <td>634</td>\n",
       "      <td>100.0</td>\n",
       "      <td>0.0</td>\n",
       "      <td>90.588235</td>\n",
       "    </tr>\n",
       "    <tr>\n",
       "      <th>674-strategie-et-croissance</th>\n",
       "      <td>327</td>\n",
       "      <td>471</td>\n",
       "      <td>100.0</td>\n",
       "      <td>0.0</td>\n",
       "      <td>91.131498</td>\n",
       "    </tr>\n",
       "    <tr>\n",
       "      <th>677-affaires-medicales</th>\n",
       "      <td>322</td>\n",
       "      <td>469</td>\n",
       "      <td>100.0</td>\n",
       "      <td>0.0</td>\n",
       "      <td>91.614907</td>\n",
       "    </tr>\n",
       "    <tr>\n",
       "      <th>...</th>\n",
       "      <td>...</td>\n",
       "      <td>...</td>\n",
       "      <td>...</td>\n",
       "      <td>...</td>\n",
       "      <td>...</td>\n",
       "    </tr>\n",
       "    <tr>\n",
       "      <th>824-nescens</th>\n",
       "      <td>12</td>\n",
       "      <td>22</td>\n",
       "      <td>0.0</td>\n",
       "      <td>0.0</td>\n",
       "      <td>0.000000</td>\n",
       "    </tr>\n",
       "    <tr>\n",
       "      <th>825-die-dienstleistungen-f-r-den-patienten</th>\n",
       "      <td>61</td>\n",
       "      <td>156</td>\n",
       "      <td>100.0</td>\n",
       "      <td>0.0</td>\n",
       "      <td>91.803279</td>\n",
       "    </tr>\n",
       "    <tr>\n",
       "      <th>826-i-servizi-ai-pazienti</th>\n",
       "      <td>12</td>\n",
       "      <td>35</td>\n",
       "      <td>100.0</td>\n",
       "      <td>0.0</td>\n",
       "      <td>83.333333</td>\n",
       "    </tr>\n",
       "    <tr>\n",
       "      <th>827-quiz</th>\n",
       "      <td>60</td>\n",
       "      <td>283</td>\n",
       "      <td>100.0</td>\n",
       "      <td>0.0</td>\n",
       "      <td>83.333333</td>\n",
       "    </tr>\n",
       "    <tr>\n",
       "      <th>828-quiz</th>\n",
       "      <td>12</td>\n",
       "      <td>81</td>\n",
       "      <td>100.0</td>\n",
       "      <td>0.0</td>\n",
       "      <td>58.333333</td>\n",
       "    </tr>\n",
       "  </tbody>\n",
       "</table>\n",
       "<p>152 rows × 5 columns</p>\n",
       "</div>"
      ],
      "text/plain": [
       "                                               effectif  nombre_total_session  \\\n",
       "object_id                                                                       \n",
       "632-le-hibou-grand-duc                                1                     1   \n",
       "669-vallee-trient-finhaut-source-de-bien-etre         1                     1   \n",
       "671-presentation                                    340                   634   \n",
       "674-strategie-et-croissance                         327                   471   \n",
       "677-affaires-medicales                              322                   469   \n",
       "...                                                 ...                   ...   \n",
       "824-nescens                                          12                    22   \n",
       "825-die-dienstleistungen-f-r-den-patienten           61                   156   \n",
       "826-i-servizi-ai-pazienti                            12                    35   \n",
       "827-quiz                                             60                   283   \n",
       "828-quiz                                             12                    81   \n",
       "\n",
       "                                               score_max  score_min  \\\n",
       "object_id                                                             \n",
       "632-le-hibou-grand-duc                               0.0        0.0   \n",
       "669-vallee-trient-finhaut-source-de-bien-etre        0.0        0.0   \n",
       "671-presentation                                   100.0        0.0   \n",
       "674-strategie-et-croissance                        100.0        0.0   \n",
       "677-affaires-medicales                             100.0        0.0   \n",
       "...                                                  ...        ...   \n",
       "824-nescens                                          0.0        0.0   \n",
       "825-die-dienstleistungen-f-r-den-patienten         100.0        0.0   \n",
       "826-i-servizi-ai-pazienti                          100.0        0.0   \n",
       "827-quiz                                           100.0        0.0   \n",
       "828-quiz                                           100.0        0.0   \n",
       "\n",
       "                                               taux_de_reussite  \n",
       "object_id                                                        \n",
       "632-le-hibou-grand-duc                                 0.000000  \n",
       "669-vallee-trient-finhaut-source-de-bien-etre          0.000000  \n",
       "671-presentation                                      90.588235  \n",
       "674-strategie-et-croissance                           91.131498  \n",
       "677-affaires-medicales                                91.614907  \n",
       "...                                                         ...  \n",
       "824-nescens                                            0.000000  \n",
       "825-die-dienstleistungen-f-r-den-patienten            91.803279  \n",
       "826-i-servizi-ai-pazienti                             83.333333  \n",
       "827-quiz                                              83.333333  \n",
       "828-quiz                                              58.333333  \n",
       "\n",
       "[152 rows x 5 columns]"
      ]
     },
     "execution_count": 8,
     "metadata": {},
     "output_type": "execute_result"
    }
   ],
   "source": [
    "# creation de mon data frame final\n",
    "\n",
    "my_dict = {\"effectif\": effectif_apprenant, \"nombre_total_session\": nombre_total_session, \"score_max\": score_max, \"score_min\": score_min, \"taux_de_reussite\": (nombre_apprenant_admis*100)/effectif_apprenant}\n",
    "df_tp2 = pd.DataFrame(my_dict)\n",
    "#df_tp2.dropna(axis=0, inplace = True) # supprime les NaN dans le data frame\n",
    "df_tp2.replace(np.nan, 0, inplace=True)\n",
    "df_tp2"
   ]
  },
  {
   "cell_type": "code",
   "execution_count": 9,
   "id": "f90e4a58-d066-464e-9371-4a0915fd1d61",
   "metadata": {},
   "outputs": [],
   "source": [
    "# le data frame contenat les top 10\n",
    "top_10 = df_tp2.sort_values(by='taux_de_reussite', ascending=False).head(10)\n",
    "#top_10"
   ]
  },
  {
   "cell_type": "code",
   "execution_count": 11,
   "id": "c3fef91d-531c-4e52-8306-edbedfc5d6ae",
   "metadata": {},
   "outputs": [],
   "source": [
    "# conversion du data frame en tableau numpy\n",
    "np_array = np.array(top_10)\n",
    "#np_array"
   ]
  },
  {
   "cell_type": "markdown",
   "id": "60b64140-b79b-4a55-8c90-383d4e334800",
   "metadata": {},
   "source": [
    "# Partie 2:"
   ]
  },
  {
   "cell_type": "markdown",
   "id": "fc2cb7e4-5aff-40c2-afa9-9b6e9b982a3a",
   "metadata": {},
   "source": [
    "Pour le top module et le dernier:\n",
    "- créer un Dataframe avec les données résumées de chaque apprenants:\n",
    "nombre total de sessions, nombre total de temps, score, resultat final (de\n",
    "valeur 0 si score < 50 et 1 sinon)"
   ]
  },
  {
   "cell_type": "code",
   "execution_count": 12,
   "id": "118f8ef0-00e1-4b27-99b4-f7765ed1c9a5",
   "metadata": {},
   "outputs": [
    {
     "data": {
      "text/plain": [
       "'752-etudes-de-cas-et-questions'"
      ]
     },
     "execution_count": 12,
     "metadata": {},
     "output_type": "execute_result"
    }
   ],
   "source": [
    "# determination du nom du top module\n",
    "taux_max = max(top_10.taux_de_reussite)\n",
    "top_module = top_10.loc[top_10.taux_de_reussite == taux_max]\n",
    "name_top_module = top_module.index[0]\n",
    "name_top_module # le nom du premier module des tops 10"
   ]
  },
  {
   "cell_type": "code",
   "execution_count": 13,
   "id": "515ad729-70f6-46fa-a5e3-737bced8f279",
   "metadata": {},
   "outputs": [
    {
     "data": {
      "text/plain": [
       "'736-conge-non-paye'"
      ]
     },
     "execution_count": 13,
     "metadata": {},
     "output_type": "execute_result"
    }
   ],
   "source": [
    "# determination du nom du dernier module\n",
    "taux_min = min(top_10.taux_de_reussite)\n",
    "dernier_module = top_10.loc[top_10.taux_de_reussite == taux_min]\n",
    "#dernier_module\n",
    "name_dernier_module = dernier_module.index[0]\n",
    "name_dernier_module # les nom des dernier module des tops 10"
   ]
  },
  {
   "cell_type": "markdown",
   "id": "0adb2aa9-8ac7-4855-905f-b414d567a7f9",
   "metadata": {},
   "source": [
    "## Pour le top module:"
   ]
  },
  {
   "cell_type": "code",
   "execution_count": 22,
   "id": "19c438b1-9ff0-4715-941f-29115f591fa7",
   "metadata": {},
   "outputs": [
    {
     "data": {
      "text/html": [
       "<div>\n",
       "<style scoped>\n",
       "    .dataframe tbody tr th:only-of-type {\n",
       "        vertical-align: middle;\n",
       "    }\n",
       "\n",
       "    .dataframe tbody tr th {\n",
       "        vertical-align: top;\n",
       "    }\n",
       "\n",
       "    .dataframe thead th {\n",
       "        text-align: right;\n",
       "    }\n",
       "</style>\n",
       "<table border=\"1\" class=\"dataframe\">\n",
       "  <thead>\n",
       "    <tr style=\"text-align: right;\">\n",
       "      <th></th>\n",
       "      <th>actor</th>\n",
       "      <th>session_uuid</th>\n",
       "      <th>object_id</th>\n",
       "      <th>score</th>\n",
       "      <th>temps</th>\n",
       "    </tr>\n",
       "  </thead>\n",
       "  <tbody>\n",
       "    <tr>\n",
       "      <th>5928</th>\n",
       "      <td>ga2018_6tje@yopmail.com</td>\n",
       "      <td>ffa98e31-344e-4db7-b1e9-eac2604e8309</td>\n",
       "      <td>752-etudes-de-cas-et-questions</td>\n",
       "      <td>100.0</td>\n",
       "      <td>1347.0</td>\n",
       "    </tr>\n",
       "    <tr>\n",
       "      <th>6582</th>\n",
       "      <td>ga2018_fg3a@yopmail.com</td>\n",
       "      <td>5ccb316f-1a69-4adc-bca3-02cb7d19d0f9</td>\n",
       "      <td>752-etudes-de-cas-et-questions</td>\n",
       "      <td>100.0</td>\n",
       "      <td>305.0</td>\n",
       "    </tr>\n",
       "    <tr>\n",
       "      <th>6796</th>\n",
       "      <td>ga2018_r0eg@yopmail.com</td>\n",
       "      <td>888a1a0b-42df-4b14-8f4b-e22e78c0887b</td>\n",
       "      <td>752-etudes-de-cas-et-questions</td>\n",
       "      <td>0.0</td>\n",
       "      <td>636.0</td>\n",
       "    </tr>\n",
       "    <tr>\n",
       "      <th>6804</th>\n",
       "      <td>ga2018_r0eg@yopmail.com</td>\n",
       "      <td>4110fc2f-06c2-481f-bd24-ccba115f39c4</td>\n",
       "      <td>752-etudes-de-cas-et-questions</td>\n",
       "      <td>100.0</td>\n",
       "      <td>94.0</td>\n",
       "    </tr>\n",
       "    <tr>\n",
       "      <th>7340</th>\n",
       "      <td>ga2018_ay6r@yopmail.com</td>\n",
       "      <td>bdc8598c-09d0-4773-bf50-b5183c860320</td>\n",
       "      <td>752-etudes-de-cas-et-questions</td>\n",
       "      <td>67.0</td>\n",
       "      <td>318.0</td>\n",
       "    </tr>\n",
       "    <tr>\n",
       "      <th>...</th>\n",
       "      <td>...</td>\n",
       "      <td>...</td>\n",
       "      <td>...</td>\n",
       "      <td>...</td>\n",
       "      <td>...</td>\n",
       "    </tr>\n",
       "    <tr>\n",
       "      <th>24529</th>\n",
       "      <td>ga2018_u53p@yopmail.com</td>\n",
       "      <td>2723c65b-8c84-4e1a-b61a-b70e51921f9f</td>\n",
       "      <td>752-etudes-de-cas-et-questions</td>\n",
       "      <td>83.0</td>\n",
       "      <td>478.0</td>\n",
       "    </tr>\n",
       "    <tr>\n",
       "      <th>24562</th>\n",
       "      <td>ga2018_pzi6@yopmail.com</td>\n",
       "      <td>ab40c727-4057-4875-8d0a-af2664673f4f</td>\n",
       "      <td>752-etudes-de-cas-et-questions</td>\n",
       "      <td>83.0</td>\n",
       "      <td>212.0</td>\n",
       "    </tr>\n",
       "    <tr>\n",
       "      <th>25651</th>\n",
       "      <td>ga2018_xa9k@yopmail.com</td>\n",
       "      <td>1aaf3399-1e4f-4174-9840-ffea7a78cbc9</td>\n",
       "      <td>752-etudes-de-cas-et-questions</td>\n",
       "      <td>83.0</td>\n",
       "      <td>497.0</td>\n",
       "    </tr>\n",
       "    <tr>\n",
       "      <th>25652</th>\n",
       "      <td>ga2018_xa9k@yopmail.com</td>\n",
       "      <td>79d5831d-d1cb-439d-8750-b4fefcafb15a</td>\n",
       "      <td>752-etudes-de-cas-et-questions</td>\n",
       "      <td>0.0</td>\n",
       "      <td>4.0</td>\n",
       "    </tr>\n",
       "    <tr>\n",
       "      <th>27299</th>\n",
       "      <td>ga2018_05n7@yopmail.com</td>\n",
       "      <td>edac2a54-3eb7-4970-a129-b8ef554b0ea2</td>\n",
       "      <td>752-etudes-de-cas-et-questions</td>\n",
       "      <td>67.0</td>\n",
       "      <td>425.0</td>\n",
       "    </tr>\n",
       "  </tbody>\n",
       "</table>\n",
       "<p>216 rows × 5 columns</p>\n",
       "</div>"
      ],
      "text/plain": [
       "                         actor                          session_uuid  \\\n",
       "5928   ga2018_6tje@yopmail.com  ffa98e31-344e-4db7-b1e9-eac2604e8309   \n",
       "6582   ga2018_fg3a@yopmail.com  5ccb316f-1a69-4adc-bca3-02cb7d19d0f9   \n",
       "6796   ga2018_r0eg@yopmail.com  888a1a0b-42df-4b14-8f4b-e22e78c0887b   \n",
       "6804   ga2018_r0eg@yopmail.com  4110fc2f-06c2-481f-bd24-ccba115f39c4   \n",
       "7340   ga2018_ay6r@yopmail.com  bdc8598c-09d0-4773-bf50-b5183c860320   \n",
       "...                        ...                                   ...   \n",
       "24529  ga2018_u53p@yopmail.com  2723c65b-8c84-4e1a-b61a-b70e51921f9f   \n",
       "24562  ga2018_pzi6@yopmail.com  ab40c727-4057-4875-8d0a-af2664673f4f   \n",
       "25651  ga2018_xa9k@yopmail.com  1aaf3399-1e4f-4174-9840-ffea7a78cbc9   \n",
       "25652  ga2018_xa9k@yopmail.com  79d5831d-d1cb-439d-8750-b4fefcafb15a   \n",
       "27299  ga2018_05n7@yopmail.com  edac2a54-3eb7-4970-a129-b8ef554b0ea2   \n",
       "\n",
       "                            object_id  score   temps  \n",
       "5928   752-etudes-de-cas-et-questions  100.0  1347.0  \n",
       "6582   752-etudes-de-cas-et-questions  100.0   305.0  \n",
       "6796   752-etudes-de-cas-et-questions    0.0   636.0  \n",
       "6804   752-etudes-de-cas-et-questions  100.0    94.0  \n",
       "7340   752-etudes-de-cas-et-questions   67.0   318.0  \n",
       "...                               ...    ...     ...  \n",
       "24529  752-etudes-de-cas-et-questions   83.0   478.0  \n",
       "24562  752-etudes-de-cas-et-questions   83.0   212.0  \n",
       "25651  752-etudes-de-cas-et-questions   83.0   497.0  \n",
       "25652  752-etudes-de-cas-et-questions    0.0     4.0  \n",
       "27299  752-etudes-de-cas-et-questions   67.0   425.0  \n",
       "\n",
       "[216 rows x 5 columns]"
      ]
     },
     "execution_count": 22,
     "metadata": {},
     "output_type": "execute_result"
    }
   ],
   "source": [
    "# le data frame dont le nom de module correspond au nom du top module trié par un nombre précis de champ voulue\n",
    "df_tm = df.loc[df.object_id == name_top_module, [\"actor\",\"session_uuid\",\"object_id\",\"score\",\"temps\"]]\n",
    "df_tm"
   ]
  },
  {
   "cell_type": "code",
   "execution_count": 15,
   "id": "9dc7b14d-2de9-49a6-8518-fcc14a137259",
   "metadata": {},
   "outputs": [],
   "source": [
    "# calcul du nombre total de session pour le top module regrouper par apprenant\n",
    "nbre_total_session_tm = df_tm.groupby(\"actor\").session_uuid.nunique()\n",
    "#nbre_total_session_tm"
   ]
  },
  {
   "cell_type": "code",
   "execution_count": 16,
   "id": "12579ba4-5c42-4eae-9de1-5ff6acaa4124",
   "metadata": {},
   "outputs": [],
   "source": [
    "# calcul du nombre total de temps pour le top module régroupé par apprenant\n",
    "nbre_total_temps_tm = df_tm.groupby(\"actor\").temps.sum()\n",
    "#nbre_total_temps_tm"
   ]
  },
  {
   "cell_type": "code",
   "execution_count": 17,
   "id": "53672736-6910-40c7-a744-f438a4839a1c",
   "metadata": {},
   "outputs": [],
   "source": [
    "# calcul du score maximal pour le top modul régroupé par apprenant\n",
    "score_tm = df_tm.groupby(\"actor\").score.max()\n",
    "#score_tm"
   ]
  },
  {
   "cell_type": "code",
   "execution_count": 18,
   "id": "62ff5216-b0d0-49a8-80c8-d632aaf38668",
   "metadata": {},
   "outputs": [],
   "source": [
    "# fonction permettant de retourner 0 ou 1 en fonction de la valeur donnée comme paramettre\n",
    "def resultat(value):\n",
    "    ''' \n",
    "        retourne 0 ou 1 en fonction de la valeur donnée en paramettre\n",
    "        param: entier\n",
    "        retour: 0 ou 1\n",
    "    '''\n",
    "    if value >=50:\n",
    "        return 1\n",
    "    else:\n",
    "        return 0"
   ]
  },
  {
   "cell_type": "code",
   "execution_count": 19,
   "id": "2e05e179-5a59-4571-9876-8e19779f20b1",
   "metadata": {},
   "outputs": [],
   "source": [
    "# calcul de la colonne pour le résultat final (1 si score>= et 0 sinon)\n",
    "resultat_final_tm = score_tm.map(lambda x: resultat(x)) # la fonction joue sur les Series\n",
    "#resultat_final_tm"
   ]
  },
  {
   "cell_type": "code",
   "execution_count": 21,
   "id": "afe3eefc-f0b1-4634-bb1e-385021204ca3",
   "metadata": {},
   "outputs": [
    {
     "data": {
      "text/html": [
       "<div>\n",
       "<style scoped>\n",
       "    .dataframe tbody tr th:only-of-type {\n",
       "        vertical-align: middle;\n",
       "    }\n",
       "\n",
       "    .dataframe tbody tr th {\n",
       "        vertical-align: top;\n",
       "    }\n",
       "\n",
       "    .dataframe thead th {\n",
       "        text-align: right;\n",
       "    }\n",
       "</style>\n",
       "<table border=\"1\" class=\"dataframe\">\n",
       "  <thead>\n",
       "    <tr style=\"text-align: right;\">\n",
       "      <th></th>\n",
       "      <th>nbre_total_session</th>\n",
       "      <th>nbre_total_temps</th>\n",
       "      <th>score</th>\n",
       "      <th>resultat</th>\n",
       "    </tr>\n",
       "    <tr>\n",
       "      <th>actor</th>\n",
       "      <th></th>\n",
       "      <th></th>\n",
       "      <th></th>\n",
       "      <th></th>\n",
       "    </tr>\n",
       "  </thead>\n",
       "  <tbody>\n",
       "    <tr>\n",
       "      <th>dtic@mobiletic.com</th>\n",
       "      <td>4</td>\n",
       "      <td>1546.0</td>\n",
       "      <td>83.0</td>\n",
       "      <td>1</td>\n",
       "    </tr>\n",
       "    <tr>\n",
       "      <th>ga2018_05n7@yopmail.com</th>\n",
       "      <td>1</td>\n",
       "      <td>425.0</td>\n",
       "      <td>67.0</td>\n",
       "      <td>1</td>\n",
       "    </tr>\n",
       "    <tr>\n",
       "      <th>ga2018_096a@yopmail.com</th>\n",
       "      <td>4</td>\n",
       "      <td>481.0</td>\n",
       "      <td>100.0</td>\n",
       "      <td>1</td>\n",
       "    </tr>\n",
       "    <tr>\n",
       "      <th>ga2018_0buu@yopmail.com</th>\n",
       "      <td>1</td>\n",
       "      <td>236.0</td>\n",
       "      <td>67.0</td>\n",
       "      <td>1</td>\n",
       "    </tr>\n",
       "    <tr>\n",
       "      <th>ga2018_0hot@yopmail.com</th>\n",
       "      <td>1</td>\n",
       "      <td>449.0</td>\n",
       "      <td>67.0</td>\n",
       "      <td>1</td>\n",
       "    </tr>\n",
       "    <tr>\n",
       "      <th>...</th>\n",
       "      <td>...</td>\n",
       "      <td>...</td>\n",
       "      <td>...</td>\n",
       "      <td>...</td>\n",
       "    </tr>\n",
       "    <tr>\n",
       "      <th>ga2018_xovt@yopmail.com</th>\n",
       "      <td>1</td>\n",
       "      <td>316.0</td>\n",
       "      <td>50.0</td>\n",
       "      <td>1</td>\n",
       "    </tr>\n",
       "    <tr>\n",
       "      <th>ga2018_xsog@yopmail.com</th>\n",
       "      <td>1</td>\n",
       "      <td>380.0</td>\n",
       "      <td>83.0</td>\n",
       "      <td>1</td>\n",
       "    </tr>\n",
       "    <tr>\n",
       "      <th>ga2018_yap3@yopmail.com</th>\n",
       "      <td>1</td>\n",
       "      <td>686.0</td>\n",
       "      <td>100.0</td>\n",
       "      <td>1</td>\n",
       "    </tr>\n",
       "    <tr>\n",
       "      <th>ga2018_yfb1@yopmail.com</th>\n",
       "      <td>1</td>\n",
       "      <td>302.0</td>\n",
       "      <td>83.0</td>\n",
       "      <td>1</td>\n",
       "    </tr>\n",
       "    <tr>\n",
       "      <th>ga2018_zs6b@yopmail.com</th>\n",
       "      <td>3</td>\n",
       "      <td>228.0</td>\n",
       "      <td>50.0</td>\n",
       "      <td>1</td>\n",
       "    </tr>\n",
       "  </tbody>\n",
       "</table>\n",
       "<p>123 rows × 4 columns</p>\n",
       "</div>"
      ],
      "text/plain": [
       "                         nbre_total_session  nbre_total_temps  score  resultat\n",
       "actor                                                                         \n",
       "dtic@mobiletic.com                        4            1546.0   83.0         1\n",
       "ga2018_05n7@yopmail.com                   1             425.0   67.0         1\n",
       "ga2018_096a@yopmail.com                   4             481.0  100.0         1\n",
       "ga2018_0buu@yopmail.com                   1             236.0   67.0         1\n",
       "ga2018_0hot@yopmail.com                   1             449.0   67.0         1\n",
       "...                                     ...               ...    ...       ...\n",
       "ga2018_xovt@yopmail.com                   1             316.0   50.0         1\n",
       "ga2018_xsog@yopmail.com                   1             380.0   83.0         1\n",
       "ga2018_yap3@yopmail.com                   1             686.0  100.0         1\n",
       "ga2018_yfb1@yopmail.com                   1             302.0   83.0         1\n",
       "ga2018_zs6b@yopmail.com                   3             228.0   50.0         1\n",
       "\n",
       "[123 rows x 4 columns]"
      ]
     },
     "execution_count": 21,
     "metadata": {},
     "output_type": "execute_result"
    }
   ],
   "source": [
    "# creation du data frame final à partir des données precedemment calculer\n",
    "top_module_dict = {\"nbre_total_session\": nbre_total_session_tm, \"nbre_total_temps\": nbre_total_temps_tm, \"score\": score_tm, \"resultat\":resultat_final_tm}\n",
    "df_top_modul = pd.DataFrame(top_module_dict)\n",
    "df_top_modul"
   ]
  },
  {
   "cell_type": "markdown",
   "id": "cf053897-ec0a-4d9b-8b6c-272a6280f59d",
   "metadata": {},
   "source": [
    "## Pour le dernier module:"
   ]
  },
  {
   "cell_type": "code",
   "execution_count": 20,
   "id": "ca909f63-b3c8-4a36-b9ba-62e04b7e12c4",
   "metadata": {},
   "outputs": [],
   "source": [
    "# la data frame dont le nom de module correspond au nom du dernier module trié par un nombre précis de champ voulue\n",
    "df_dm = df.loc[df.object_id == name_dernier_module, [\"actor\",\"session_uuid\",\"object_id\",\"score\",\"temps\"]]\n",
    "#df_dm"
   ]
  },
  {
   "cell_type": "code",
   "execution_count": 21,
   "id": "8251bb7b-05de-40de-ba22-1c0698e3a100",
   "metadata": {},
   "outputs": [],
   "source": [
    "# calcul du nombre total de session pour le dernier module regrouper par apprenant\n",
    "nbre_total_session_dm = df_dm.groupby(\"actor\").session_uuid.nunique()\n",
    "#nbre_total_session_dm"
   ]
  },
  {
   "cell_type": "code",
   "execution_count": 22,
   "id": "0731f514-476e-4d36-8a61-167a34fdf81c",
   "metadata": {},
   "outputs": [],
   "source": [
    "# calcul du nombre total de temps pour le dernier module régroupé par apprenant\n",
    "nbre_total_temps_dm = df_dm.groupby(\"actor\").temps.sum()\n",
    "#nbre_total_temps_dm"
   ]
  },
  {
   "cell_type": "code",
   "execution_count": 23,
   "id": "7ba132f1-4243-4e41-a548-8c487619f5d4",
   "metadata": {},
   "outputs": [],
   "source": [
    "# calcul du score maximal pour le dernier modul régroupé par apprenant\n",
    "score_dm = df_dm.groupby(\"actor\").score.max()\n",
    "#score_dm"
   ]
  },
  {
   "cell_type": "code",
   "execution_count": 24,
   "id": "d8bb787b-46a5-45fc-b684-7d22f5636cb4",
   "metadata": {},
   "outputs": [],
   "source": [
    "# calcul de la colonne pour le résultat final (1 si score>=50 et 0 sinon)\n",
    "resultat_final_dm = score_dm.map(lambda x: resultat(x)) # la fonction joue sur les Series\n",
    "#resultat_final_dm"
   ]
  },
  {
   "cell_type": "code",
   "execution_count": 25,
   "id": "8658e9a6-334b-4c7c-b4e4-25a6a23e0796",
   "metadata": {},
   "outputs": [],
   "source": [
    "# creation du data frame final à partir des données precedemment calculer\n",
    "last_module_dict = {\"nbre_total_session\": nbre_total_session_dm, \"nbre_total_temps\": nbre_total_temps_dm, \"score\": score_dm, \"resulat\": resultat_final_dm}\n",
    "df_last_modul = pd.DataFrame(last_module_dict)\n",
    "#df_last_modul"
   ]
  },
  {
   "cell_type": "markdown",
   "id": "02faaa52-665e-4f08-bc8b-aecb6560fb4b",
   "metadata": {},
   "source": [
    "# Partie 3: Les graphes"
   ]
  },
  {
   "cell_type": "markdown",
   "id": "5d8fa84a-9171-4701-b48e-6fb8c48cf1f1",
   "metadata": {},
   "source": [
    "## Pour les 10 top module:\n",
    "- Représenter par une courbe ces derniers dans un même repère sur une figure unique. A chaque apprenant correspond un point dont l’abscisse est le temps en minutes de celui-ci. L’ordonné est déterminé par son score maximum.\n",
    "- Un diagramme en bâton avec le taux de réussite de chaque module.\n"
   ]
  },
  {
   "cell_type": "code",
   "execution_count": 26,
   "id": "fe8e74c4-a17d-44ee-8079-bfc3925c4e18",
   "metadata": {},
   "outputs": [],
   "source": [
    "# fonction pour obtenir le nom d'un module precis du top 10 des module\n",
    "def get_module_name(index):\n",
    "    return top_10.index[index]"
   ]
  },
  {
   "cell_type": "code",
   "execution_count": 27,
   "id": "6850ad8b-5f39-4d1e-a8d4-debbf3bafa4b",
   "metadata": {},
   "outputs": [],
   "source": [
    "# fonction pour obtenir le nom d'un module precis du data frame global\n",
    "def get_all_module_name(index):\n",
    "    return df.object_id[index]"
   ]
  },
  {
   "cell_type": "code",
   "execution_count": 28,
   "id": "120dfe2a-0f3e-436e-b629-1c919390964b",
   "metadata": {},
   "outputs": [],
   "source": [
    "# fonction pour obtenir la liste des noms des apprenants d'un module precis\n",
    "def get_list_learner_names(module_name):\n",
    "    learners_from_module = df.loc[df.object_id == module_name, [\"object_id\",\"actor\"]]\n",
    "    learner_names = learners_from_module.groupby(\"object_id\").actor.unique().values\n",
    "    return learner_names"
   ]
  },
  {
   "cell_type": "code",
   "execution_count": 29,
   "id": "098cbce4-0f8d-4179-9d6e-e8871c71ec0b",
   "metadata": {},
   "outputs": [],
   "source": [
    "def get_df_leaner_for_module(name_of_learner, module_name):\n",
    "     # obtention d'un data frame contenant la liste des score et leur temps pour un apprenant precis dans un module precis\n",
    "    df_learner = df[[\"actor\", \"object_id\", \"score\", \"temps\"]].where((df.actor == name_of_learner) & (df.object_id == module_name)).dropna(axis=0)\n",
    "    return df_learner\n"
   ]
  },
  {
   "cell_type": "code",
   "execution_count": 30,
   "id": "38c86978-7ed9-47f2-9f87-5d5abc745523",
   "metadata": {},
   "outputs": [],
   "source": [
    "# fonction pour obtenit le score maximal pour un apprenant dans un module precis\n",
    "def get_score_max(df_learner):\n",
    "    # obtention du score maximal\n",
    "    score_max = df_learner[\"score\"].max()\n",
    "    return score_max"
   ]
  },
  {
   "cell_type": "code",
   "execution_count": 31,
   "id": "60a9aad4-7d23-4538-9706-675898572362",
   "metadata": {},
   "outputs": [],
   "source": [
    "# fonction pour obtenir le data frame contenant uniquement le score maximal avec les differents temps\n",
    "def get_df_score_max(df_learner, score_max):\n",
    "    # obtention du data frame contenant uniquement le score maximal avec les differents temps\n",
    "    df_score_max = df_learner.loc[df_learner.score == score_max]\n",
    "    return df_score_max"
   ]
  },
  {
   "cell_type": "code",
   "execution_count": 32,
   "id": "7e979b81-f263-4005-ad4e-aa1c3972723d",
   "metadata": {},
   "outputs": [],
   "source": [
    "# fonction pour obtenir le temps minimal pour un score maximal donnée\n",
    "def get_time_min(df_score_max):\n",
    "    # obtention du temps minimal\n",
    "    time_series = df_score_max.groupby(\"score\").temps.min()\n",
    "    time_min = time_series.values[0]/60\n",
    "    return time_min"
   ]
  },
  {
   "cell_type": "code",
   "execution_count": 33,
   "id": "5681a755-3c22-4625-9f4c-06b69f3c9922",
   "metadata": {},
   "outputs": [],
   "source": [
    "# fonction pour obtenir le total des temps d'un apprenant dans un module\n",
    "def get_total_time(df_learner):\n",
    "    total_time = df_learner[\"temps\"].sum()\n",
    "    return total_time"
   ]
  },
  {
   "cell_type": "code",
   "execution_count": 34,
   "id": "9b06d4e2-af1a-4f2e-b952-107ba1916546",
   "metadata": {},
   "outputs": [],
   "source": [
    "# fonction pour obtenir le data frame des scores maximal et des temps minimal correspondant par apprenants pour un module precis\n",
    "def get_df_score_time_for_module(index):\n",
    "    score_list = []\n",
    "    time_list = []\n",
    "    # obtention du  nom du module,\n",
    "    module_name = get_module_name(index=index)\n",
    "    # obtention de la liste des apprenants d'un module precis\n",
    "    learner_names = get_list_learner_names(module_name=module_name)\n",
    "    # obtention du score et du temps pour un apprenant precis d'un module precis\n",
    "    for i in range(len(learner_names[0])):\n",
    "        df_learner = get_df_leaner_for_module(name_of_learner=learner_names[0][i], module_name=module_name)\n",
    "        score_max = get_score_max(df_learner=df_learner)\n",
    "        df_score_max = get_df_score_max(df_learner=df_learner, score_max=score_max)\n",
    "        time_min = get_time_min(df_score_max=df_score_max)\n",
    "        score_list.append(score_max)\n",
    "        time_list.append(time_min)\n",
    "    # creation et renvoi de notre data frame\n",
    "    df_final = pd.DataFrame({\"score\": score_list,\"temps\": time_list})\n",
    "    return df_final.sort_values(by=[\"score\", \"temps\"], ascending=[False,True])"
   ]
  },
  {
   "cell_type": "code",
   "execution_count": 35,
   "id": "c3e92199-99d7-4ccb-b8d9-9681967b6cd9",
   "metadata": {},
   "outputs": [],
   "source": [
    "# fonction pour obtenir le data frame des scores maximal, du temps total et du rang des apprenants pour un module precis\n",
    "def get_df_score_total_time_for_module(index):\n",
    "    score_list = []\n",
    "    time_list = []\n",
    "    # obtention du  nom du module\n",
    "    module_name = get_all_module_name(index=index)\n",
    "    # obtention de la liste des apprenants d'un module precis\n",
    "    learner_names = get_list_learner_names(module_name=module_name)\n",
    "    # obtention du score et du temps pour un apprenant precis d'un module precis\n",
    "    for i in range(len(learner_names[0])):\n",
    "        df_learner = get_df_leaner_for_module(name_of_learner=learner_names[0][i], module_name=module_name)\n",
    "        score_max = get_score_max(df_learner=df_learner)\n",
    "        total_time = get_total_time(df_learner=df_learner)\n",
    "        score_list.append(score_max)\n",
    "        time_list.append(total_time)\n",
    "    # creation et renvoi de notre data frame\n",
    "    df_final = pd.DataFrame({\"score_max\": score_list,\"temps_total\": time_list})\n",
    "    df_final.sort_values(by=[\"score_max\", \"temps_total\"], ascending=[False, True], inplace=True)\n",
    "    df_final[\"rang\"] = [i+1 for i in range(len(df_final))]\n",
    "    return df_final"
   ]
  },
  {
   "cell_type": "code",
   "execution_count": 36,
   "id": "7aac8c4e-749a-45a1-9a49-02c40fe366fa",
   "metadata": {},
   "outputs": [],
   "source": [
    "top_module_0 = get_df_score_time_for_module(0)\n",
    "top_module_1 = get_df_score_time_for_module(1)\n",
    "top_module_2 = get_df_score_time_for_module(2)\n",
    "top_module_3 = get_df_score_time_for_module(3)\n",
    "top_module_4 = get_df_score_time_for_module(4)\n",
    "top_module_5 = get_df_score_time_for_module(5)\n",
    "top_module_6 = get_df_score_time_for_module(6)\n",
    "top_module_7 = get_df_score_time_for_module(7)\n",
    "top_module_8 = get_df_score_time_for_module(8)\n",
    "top_module_9 = get_df_score_time_for_module(9)"
   ]
  },
  {
   "cell_type": "code",
   "execution_count": 37,
   "id": "b9dea27d-113d-476d-ac10-2e72b7ee01f0",
   "metadata": {},
   "outputs": [
    {
     "data": {
      "image/png": "[encoded data removed]",
      "text/plain": [
       "<Figure size 640x480 with 1 Axes>"
      ]
     },
     "metadata": {},
     "output_type": "display_data"
    }
   ],
   "source": [
    "def courbe():\n",
    "    fig, ax = plt.subplots()\n",
    "    for i in range(10):\n",
    "        ax.plot(get_df_score_time_for_module(i)[\"temps\"], get_df_score_time_for_module(i)[\"score\"], label='top {}'.format(i))\n",
    "    \n",
    "    ax.set_xlabel(\"Abscisses (temps)\")\n",
    "    ax.set_ylabel(\"Ordonnées (scores)\")\n",
    "    ax.legend()\n",
    "\n",
    "    plt.show()\n",
    "    \n",
    "courbe()"
   ]
  },
  {
   "cell_type": "code",
   "execution_count": 38,
   "id": "63fd6df0-aad1-48b1-b5bd-add85a03f094",
   "metadata": {},
   "outputs": [
    {
     "data": {
      "image/png": "[encoded data removed]",
      "text/plain": [
       "<Figure size 640x480 with 1 Axes>"
      ]
     },
     "metadata": {},
     "output_type": "display_data"
    }
   ],
   "source": [
    "# le positionnement par rapport à l'axe des abscisses\n",
    "x = [1,2,3,4,5,6,7,8,9,10]\n",
    "# le positionnement par rapport à l'axe des ordonnées\n",
    "height = top_10[\"taux_de_reussite\"]\n",
    "# la largeur de chaque bar\n",
    "width = 0.05\n",
    "\n",
    "# reglage sur les bars\n",
    "plt.bar(x, height, width, color=(0.65098041296005249, 0.80784314870834351, 0.89019608497619629, 1))\n",
    "# le reglage des point noir sur le bout des bars\n",
    "plt.scatter(x,height,color='k',s=40)\n",
    "\n",
    "# xlim determine la valeur maximal de la graduation. Si c'est 0.11 allors la valeur maximal est 11\n",
    "plt.xlim(0,11)\n",
    "# ylim determine la valeur maximal de la graduation. Si c'est 0.14 allors la valeur maximal est 14\n",
    "plt.ylim(1)\n",
    "plt.title('Diagramme en Batons')\n",
    "\n",
    "plt.show()"
   ]
  },
  {
   "cell_type": "markdown",
   "id": "cc552125-840f-466c-ab19-9639214af2eb",
   "metadata": {},
   "source": [
    "## Pour les 3 top module:\n",
    "Représenter par une courbe chacun dans un même repère différent sur une même figure horizontalement subdivisée en trois.\n",
    "A chaque apprenant correspond un point dont l’abscisse est le rang de celui-ci. \n",
    "L’ordonné est déterminé par son score maximum."
   ]
  },
  {
   "cell_type": "code",
   "execution_count": 39,
   "id": "ce0bb6e3-65b0-4355-b835-ba311511c632",
   "metadata": {},
   "outputs": [],
   "source": [
    "df_top_3 = top_10.head(3)"
   ]
  },
  {
   "cell_type": "code",
   "execution_count": 40,
   "id": "29f9298e-685e-41d2-a0c1-55d9de7cd564",
   "metadata": {},
   "outputs": [],
   "source": [
    "top_module_0[\"rang\"] = [i+1 for i in range(len(top_module_0))]\n",
    "top_module_1[\"rang\"] = [i+1 for i in range(len(top_module_1))]\n",
    "top_module_2[\"rang\"] = [i+1 for i in range(len(top_module_2))]"
   ]
  },
  {
   "cell_type": "code",
   "execution_count": 41,
   "id": "b1d91352-e837-43cc-8397-8151bb27b51d",
   "metadata": {},
   "outputs": [
    {
     "data": {
      "image/png": "[encoded data removed]",
      "text/plain": [
       "<Figure size 640x480 with 3 Axes>"
      ]
     },
     "metadata": {},
     "output_type": "display_data"
    }
   ],
   "source": [
    "fig, ax = plt.subplots(3, 1,sharex=True)\n",
    "fig.subplots_adjust(hspace=0)\n",
    "ax[0].plot(top_module_0[\"rang\"], top_module_0[\"score\"])\n",
    "ax[1].plot(top_module_1[\"rang\"], top_module_1[\"score\"])\n",
    "ax[2].plot(top_module_2[\"rang\"], top_module_2[\"score\"])\n",
    "\n",
    "ax[0].set_xlabel(\"Rang\")\n",
    "ax[1].set_xlabel(\"Rang\")\n",
    "ax[2].set_xlabel(\"Rang\")\n",
    "\n",
    "ax[0].set_ylabel(\"Score Max\")\n",
    "ax[1].set_ylabel(\"Score Max\")\n",
    "ax[2].set_ylabel(\"Score Max\")\n",
    "\n",
    "ax[0].set_title(df_top_3.index[0]);\n",
    "ax[1].set_title(df_top_3.index[1]);\n",
    "ax[2].set_title(df_top_3.index[2]);"
   ]
  },
  {
   "cell_type": "markdown",
   "id": "92a01c0a-8731-43c3-bd6a-bebf59349cb5",
   "metadata": {},
   "source": [
    "# Pour tous les modules:\n",
    "- Représenter l’ensemble par un nuage de points dans un même repère sur une même figure. A chaque apprenant correspond un point dont l’abscisse est le rang de celui-ci. L’ordonné est déterminé par le temps global sur le module.\n",
    "- Un camembert avec le taux des modules catégorisés en quatre classes: \n",
    "    - Classe A: taux de réussite > = 80%\n",
    "    - Classe B: taux de réussite > = 60%\n",
    "    - Classe C: taux de réussite > = 50%\n",
    "    - Classe D: taux de réussite < 50%\n"
   ]
  },
  {
   "cell_type": "code",
   "execution_count": 42,
   "id": "d7f9a1fe-8c9f-471d-868a-9d17be782ea1",
   "metadata": {},
   "outputs": [],
   "source": [
    "df_p3 = df[[\"id\", \"actor\", \"object_id\", \"score\", \"temps\"]]\n",
    "name_all_module = df_p3.groupby(\"object_id\").object_id.unique().index\n",
    "total_time_module = df_p3.groupby(\"object_id\").temps.sum()\n",
    "score_max_module = df_p3.groupby(\"object_id\").score.max()\n",
    "\n",
    "df_scatter = pd.DataFrame({\"score_max\": score_max_module, \"temps_total\": total_time_module/60})\n",
    "df_scatter.sort_values(by=[\"score_max\", \"temps_total\"], ascending=[False, True], inplace=True)\n",
    "df_scatter[\"rang\"] = [i+1 for i in range(len(df_scatter))]"
   ]
  },
  {
   "cell_type": "code",
   "execution_count": 43,
   "id": "39d70386-694c-4b57-8431-16f08333df4c",
   "metadata": {},
   "outputs": [
    {
     "data": {
      "image/png": "[encoded data removed]",
      "text/plain": [
       "<Figure size 500x270 with 1 Axes>"
      ]
     },
     "metadata": {},
     "output_type": "display_data"
    }
   ],
   "source": [
    "data = {'x':df_scatter[\"rang\"],\n",
    "        'c': np.random.randint(0, 50, len(df_scatter)),\n",
    "        'd': np.random.randn(len(df_scatter))}\n",
    "data['y'] = df_scatter[\"temps_total\"]\n",
    "data['d'] = np.abs(data['d']) * 100\n",
    "\n",
    "fig, ax = plt.subplots(figsize=(5, 2.7), layout='constrained')\n",
    "ax.scatter('x', 'y', c='c', s='d', data=data)\n",
    "\n",
    "plt.title('Nuage de points')\n",
    "plt.xlabel('x (Rang)')\n",
    "plt.ylabel('y (Temps global)');"
   ]
  },
  {
   "cell_type": "code",
   "execution_count": 44,
   "id": "b9b9df51-3846-4bc3-89bd-42f1d18e3c39",
   "metadata": {},
   "outputs": [],
   "source": [
    "df_camembert = df_tp2.copy()\n",
    "df_camembert[\"classe\"] = \"A\"\n",
    "df_camembert.loc[(df_camembert[\"taux_de_reussite\"]>=80), 'classe'] = 'A'\n",
    "df_camembert.loc[(df_camembert[\"taux_de_reussite\"]<80) & (df_camembert[\"taux_de_reussite\"]>=60), 'classe'] = 'B'\n",
    "df_camembert.loc[(df_camembert[\"taux_de_reussite\"]<60) & (df_camembert[\"taux_de_reussite\"]>=50), 'classe'] = 'C'\n",
    "df_camembert.loc[(df_camembert[\"taux_de_reussite\"]<50), 'classe'] = 'D'"
   ]
  },
  {
   "cell_type": "code",
   "execution_count": 45,
   "id": "1f9badfb-f0c0-4c3c-8f64-772ccbbc22e7",
   "metadata": {},
   "outputs": [
    {
     "data": {
      "image/png": "[encoded data removed]",
      "text/plain": [
       "<Figure size 640x480 with 1 Axes>"
      ]
     },
     "metadata": {},
     "output_type": "display_data"
    }
   ],
   "source": [
    "data_pie = df_camembert.groupby(\"classe\").classe.count()\n",
    "plt.pie(data_pie, autopct = '%1.2f%%');\n",
    "plt.show()"
   ]
  },
  {
   "cell_type": "code",
   "execution_count": null,
   "id": "80287a8a-c15f-4a4d-9a78-c6ceb5ed6c9f",
   "metadata": {},
   "outputs": [],
   "source": []
  }
 ],
 "metadata": {
  "kernelspec": {
   "display_name": "Python 3 (ipykernel)",
   "language": "python",
   "name": "python3"
  },
  "language_info": {
   "codemirror_mode": {
    "name": "ipython",
    "version": 3
   },
   "file_extension": ".py",
   "mimetype": "text/x-python",
   "name": "python",
   "nbconvert_exporter": "python",
   "pygments_lexer": "ipython3",
   "version": "3.9.13"
  }
 },
 "nbformat": 4,
 "nbformat_minor": 5
}
