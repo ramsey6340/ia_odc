{
 "cells": [
  {
   "cell_type": "markdown",
   "id": "01ac317b-5bdf-438d-b1f6-044192725da5",
   "metadata": {},
   "source": [
    "[Scikit Learn](https://scikit-learn.org/stable/user_guide.html)<br>\n",
    "[train_test_split](https://realpython.com/train-test-split-python-data/#:~:text=test_size%20is%20the%20number%20that,is%200.25%20%2C%20or%2025%20percent.)"
   ]
  },
  {
   "cell_type": "markdown",
   "id": "759ba924-d30a-4d7f-b0ef-89a78ae3463a",
   "metadata": {},
   "source": [
    "# Introduction à Scikit Learn\n",
    "## Apprentissage suppervisé: Nearest Neighbors (Les voisins les plus proches)\n",
    "### Les importations"
   ]
  },
  {
   "cell_type": "code",
   "execution_count": 2,
   "id": "96b6648f-cd47-4c60-92ef-e5aadc7281fb",
   "metadata": {},
   "outputs": [],
   "source": [
    "from sklearn.model_selection import train_test_split"
   ]
  },
  {
   "cell_type": "markdown",
   "id": "8ff09b1b-f135-42cc-a172-8bfd838faad4",
   "metadata": {},
   "source": [
    "```train_test_split``` permet de spliter ou diviser mon dataset en des données d'entrainement et des données de test."
   ]
  },
  {
   "cell_type": "markdown",
   "id": "fb154f58-7bed-4edd-9006-c51729beca77",
   "metadata": {},
   "source": [
    "Syntaxe:<br>\n",
    "train_test_split(```*arrays```, ```test_size```=None, ```train_size```=None, ```random_state```=None, ```shuffle```=True, ```stratify```=None) -> list\n"
   ]
  },
  {
   "cell_type": "markdown",
   "id": "f7507729-ded6-4eff-a577-fb601f654fdb",
   "metadata": {},
   "source": [
    "```arrays``` est une suite de liste, de tableaux Numpy ou tout autre objet similaire à ceux-ci.<br>\n",
    "Tous ces objets liste doivent avoir la même taille. Ce sont generalement les nos données d'entrée (les labels) et nos cible (target).<br>\n",
    "NB: il est primordial qu'ils aient la même taille (il s'agit du même nombre de ligne).\n",
    "NB: les données d'entré (nos X) ont une taille ```n_ligne x 2``` et les données de sortie (nos Y) ont une taille ```n_ligne x 1```."
   ]
  },
  {
   "cell_type": "markdown",
   "id": "f214ca22-13d5-4390-902a-b160217e2c97",
   "metadata": {},
   "source": [
    "```train_size``` est le nombre qui définit la taille de l'ensemble des donnés d'apprentissage.<br>\n",
    "Si c'est un flotant, sa valeur doit être compris entre 0.0 et 1.0, et définit, si on multiplie par 100, le pourcentage de données à utilisé.<br>\n",
    "Exemple: si train_size=0.2 alors les données d'entrainement répresente 20% de notre dataset complet.<br>\n",
    "Si c'est un entier, il répresente le nombre total d'echantillons d'apprentissage à utiliser."
   ]
  },
  {
   "cell_type": "markdown",
   "id": "f58bb4f5-3b8c-495f-a196-638d0640c9e7",
   "metadata": {},
   "source": [
    "```test_size``` est le nombre qui définit la taille de l'ensemble des donnés de test.<br>\n",
    "Si c'est un flotant, sa valeur doit être compris entre 0.0 et 1.0, et définit, si on multiplie par 100, le pourcentage de données à utilisé.<br>\n",
    "Exemple: si test_size=0.2 alors les données de test répresente 20% de notre dataset complet.<br>\n",
    "Si c'est un entier, il répresente le nombre total d'echantillons à utiliser pour le test."
   ]
  },
  {
   "cell_type": "markdown",
   "id": "f34a5a0e-4269-4554-8442-e9a0aaa84259",
   "metadata": {},
   "source": [
    "NB: si ni train_size et test_size ne sont renseigné alors la valeur par défaut de test_size est 0.25 soit 25%"
   ]
  },
  {
   "cell_type": "markdown",
   "id": "817d5461-989b-4608-9783-2d50e0be49cc",
   "metadata": {},
   "source": [
    "```random_state``` est l'objet qui contrôle la randomisation (processus qui rend quelque aléatoire) lors du fractionnement.<br>\n",
    "Il retourne aleatoirement des valeurs. Si on le fixe à 0 alors on aura à chaque fois la même valeur."
   ]
  },
  {
   "cell_type": "markdown",
   "id": "4b7afe59-1291-4e6b-b76e-979d5c37e3fb",
   "metadata": {},
   "source": [
    "```suffle``` est un booléen qui détermine s'il faut melanger les données avant d'appliquer la fraction."
   ]
  },
  {
   "cell_type": "markdown",
   "id": "d706e18c-8761-4be5-b22f-a98566b8e999",
   "metadata": {},
   "source": [
    "```stratify``` est un objet semblable à un tableau qui, s'il ne l'est pas None, détermine comment utiliser un fractionnement stratifié ."
   ]
  },
  {
   "cell_type": "markdown",
   "id": "ebe3ad46-65f1-42e5-8dba-462b0b4074f2",
   "metadata": {},
   "source": [
    "Voici par ordre les données envoyé par train_test_split:<br>\n",
    "<ol>\n",
    "    <li>x_train: La partie formation de la première séquence (x)</li>\n",
    "    <li>x_test: La partie test de la première séquence (x)</li>\n",
    "    <li>y_train: La partie formation de la deuxième séquence (y)</li>\n",
    "    <li>y_test: La partie test de la deuxième séquence (y)</li>\n",
    "<ol>"
   ]
  },
  {
   "cell_type": "markdown",
   "id": "16bd83a4-f674-4d54-b68f-97425f959a05",
   "metadata": {},
   "source": [
    "NB: ici, les séquences dont on parle sont nos X et Y ie nos données d'entrainement et de test."
   ]
  },
  {
   "cell_type": "markdown",
   "id": "ac720ffa-ce06-456b-9a04-25a9a3375606",
   "metadata": {},
   "source": [
    "Exemple:<br>\n",
    " x_train, x_test, y_train, y_test = train_test_split(x, y, test_size=4, random_state=0)"
   ]
  },
  {
   "cell_type": "code",
   "execution_count": null,
   "id": "1d751d0e-0f7b-4664-8be1-9bd61d1d3099",
   "metadata": {},
   "outputs": [],
   "source": []
  }
 ],
 "metadata": {
  "kernelspec": {
   "display_name": "Python 3 (ipykernel)",
   "language": "python",
   "name": "python3"
  },
  "language_info": {
   "codemirror_mode": {
    "name": "ipython",
    "version": 3
   },
   "file_extension": ".py",
   "mimetype": "text/x-python",
   "name": "python",
   "nbconvert_exporter": "python",
   "pygments_lexer": "ipython3",
   "version": "3.9.13"
  }
 },
 "nbformat": 4,
 "nbformat_minor": 5
}
