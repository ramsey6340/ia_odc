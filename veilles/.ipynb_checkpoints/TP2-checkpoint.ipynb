{
 "cells": [
  {
   "cell_type": "markdown",
   "id": "a7e9e557-7dcf-4057-9ad7-7fb5a4ba0ae6",
   "metadata": {},
   "source": [
    "# Prise en main de Numpy\n",
    "## Manipulation des tableaux à une dimension\n",
    "### 1-Quel est la difference entre un tableau Numpy et une liste Python ?"
   ]
  },
  {
   "cell_type": "markdown",
   "id": "48e4d09e-c262-4ee8-bdec-b8690f7dc542",
   "metadata": {},
   "source": [
    "A première vue les tableau Numpy sont similaire au liste python, la difference principale reside dans les operation arithetique.\n",
    "Les tableau Numpy sont plus puissant pour les calcules arithmetique, plus compacte et plus rapide lorsque la valeur dans le tableau sont de même type.\n",
    "\n"
   ]
  },
  {
   "cell_type": "markdown",
   "id": "f5459886-9bd5-4967-93a1-a9f3e9cd2df7",
   "metadata": {},
   "source": [
    "### 2-Comment crée un tableau Numpy\n",
    "Il existe plusieur façons de crée un tableau Numpy\n",
    "- crée à partir d'une liste Python:"
   ]
  },
  {
   "cell_type": "code",
   "execution_count": 23,
   "id": "f35db4d8-089d-4a7c-b142-2ef433bc9232",
   "metadata": {},
   "outputs": [
    {
     "name": "stdout",
     "output_type": "stream",
     "text": [
      "[12 21 45 56]\n"
     ]
    }
   ],
   "source": [
    "import numpy as np\n",
    "numpy_array = np.array([12, 21, 45, 56])\n",
    "print(numpy_array)"
   ]
  },
  {
   "cell_type": "markdown",
   "id": "ad9c2788-ddd1-4870-a9d2-e458a1706e0a",
   "metadata": {},
   "source": [
    "on utilise la fonction ```array()``` qui va prendre en paramètre une liste et elle va retourner un tableau Numpy tout beaux 😉"
   ]
  },
  {
   "cell_type": "markdown",
   "id": "f9f69511-b388-4993-b794-5d5ef7f7d925",
   "metadata": {},
   "source": [
    "NB: tu remarquera que les éléments du tableau ne sont pas separer par des virgule quand on l'a afficher contrairement au liste Python"
   ]
  },
  {
   "cell_type": "markdown",
   "id": "9dd990e0-12b3-4a9a-9823-8cf3f1478225",
   "metadata": {},
   "source": [
    "Pour afficher le type du tableau on utilise l'attribue ```dtype``` et pour connaitre la taille du tableau on utilise ```shape```"
   ]
  },
  {
   "cell_type": "code",
   "execution_count": 24,
   "id": "001ae1bb-1d52-4eab-b4d9-f1f12b42e574",
   "metadata": {},
   "outputs": [
    {
     "data": {
      "text/plain": [
       "dtype('int32')"
      ]
     },
     "execution_count": 24,
     "metadata": {},
     "output_type": "execute_result"
    }
   ],
   "source": [
    "numpy_array.dtype"
   ]
  },
  {
   "cell_type": "code",
   "execution_count": 25,
   "id": "6453da29-c98a-46c7-9202-82cf7ef64282",
   "metadata": {},
   "outputs": [
    {
     "data": {
      "text/plain": [
       "(4,)"
      ]
     },
     "execution_count": 25,
     "metadata": {},
     "output_type": "execute_result"
    }
   ],
   "source": [
    "numpy_array.shape"
   ]
  },
  {
   "cell_type": "markdown",
   "id": "2bc02b7c-a3dc-4693-8c71-ee619f860c2c",
   "metadata": {},
   "source": [
    "NB: Si le tableau contient des valeur de type different alors le type du tableau sera un peu bizarre 🙃"
   ]
  },
  {
   "cell_type": "code",
   "execution_count": 31,
   "id": "896d3c90-1994-45b1-a164-0cfe6a5e9ffc",
   "metadata": {},
   "outputs": [
    {
     "data": {
      "text/plain": [
       "dtype('<U11')"
      ]
     },
     "execution_count": 31,
     "metadata": {},
     "output_type": "execute_result"
    }
   ],
   "source": [
    "numpy_array = np.array([1, 'salut', 3])\n",
    "numpy_array.dtype"
   ]
  },
  {
   "cell_type": "markdown",
   "id": "345c049c-5879-46eb-a61f-2a0904e58952",
   "metadata": {},
   "source": [
    "🙋🏾‍♂️pour ajouter une element à la fin de mon tableau est-ce que j'utilise toujour append() ?"
   ]
  },
  {
   "cell_type": "markdown",
   "id": "a63a42f9-1442-464b-9d0a-b398bae7ac98",
   "metadata": {},
   "source": [
    "**NON**\n",
    "C'est un peu l'inconveniant avec les tableaux Numpy, on peut pas ajouter de valeur à la fin du tableau !\n",
    "\n",
    "Il faut donc soit: \n",
    "- être sûr que ta liste Python contient tout ce dont tu as besoin et ensuite tu la convertit en tableau Numpy\n",
    "- préallouer l'espace nécessaire"
   ]
  },
  {
   "cell_type": "markdown",
   "id": "cca6ea9d-31b2-463b-9e9f-cecdd69a1781",
   "metadata": {},
   "source": [
    "Décortiquons le deuxième point.\n",
    "Pour préallouer l'espace on a plusieurs choix. Voici les plus utilisé: ```zeros```, ```empty```, ```ones```, ```full```\n",
    "\n",
    "🙋🏾‍♂️mais quel est la difference ?"
   ]
  },
  {
   "cell_type": "markdown",
   "id": "263698cb-9568-41e6-8642-c5f336204a96",
   "metadata": {},
   "source": [
    "- ```zeros``` créait un tableau en le remplissant de 0 \n",
    "- ```ones``` créait un tableau en le remplissant de 1\n",
    "- ```empty``` créait un tableau et ne met rien dedans, le tableau peu donc contenir n'importe quoi, comme du chinois par exemple 😉\n",
    "- ```full``` créait un tableau en le remplissant de la valeur que tu lui donne"
   ]
  },
  {
   "cell_type": "markdown",
   "id": "6794a5a8-0755-4929-8343-5d7b20ed9a91",
   "metadata": {},
   "source": [
    "Assez de théorie, passons à la pratique !"
   ]
  },
  {
   "cell_type": "code",
   "execution_count": 7,
   "id": "e9033b98-55e4-4a5f-9656-97b6daeb139a",
   "metadata": {},
   "outputs": [
    {
     "name": "stdout",
     "output_type": "stream",
     "text": [
      "[0. 0. 0. 0.]\n"
     ]
    }
   ],
   "source": [
    "tab_zeros = np.zeros(4)\n",
    "print(tab_zeros)"
   ]
  },
  {
   "cell_type": "code",
   "execution_count": 9,
   "id": "c76d5b5b-d232-47ff-8bd6-42bbe0200a78",
   "metadata": {},
   "outputs": [
    {
     "name": "stdout",
     "output_type": "stream",
     "text": [
      "[1. 1. 1. 1.]\n"
     ]
    }
   ],
   "source": [
    "tab_ones = np.ones(4)\n",
    "print(tab_ones)"
   ]
  },
  {
   "cell_type": "code",
   "execution_count": 10,
   "id": "3144f1f1-c430-4553-9b21-5078de53656a",
   "metadata": {},
   "outputs": [
    {
     "name": "stdout",
     "output_type": "stream",
     "text": [
      "[1. 1. 1. 1.]\n"
     ]
    }
   ],
   "source": [
    "tab_empty = np.empty(4)\n",
    "print(tab_empty)"
   ]
  },
  {
   "cell_type": "markdown",
   "id": "b656eb68-6819-484d-9c59-b9f3a55919c5",
   "metadata": {},
   "source": [
    "NB: tu remarquera qu'avec empty le tableau est remplie avec les valeur de la dernière operation, 1 ici"
   ]
  },
  {
   "cell_type": "code",
   "execution_count": 12,
   "id": "b96cce4a-0bba-4100-80ea-86a9959d5b41",
   "metadata": {},
   "outputs": [
    {
     "name": "stdout",
     "output_type": "stream",
     "text": [
      "[5. 5. 5. 5.]\n"
     ]
    }
   ],
   "source": [
    "tab_full = np.full(4, 5.)\n",
    "print(tab_full)"
   ]
  },
  {
   "cell_type": "markdown",
   "id": "b05bd65b-311e-4cc2-b624-7d08301b7178",
   "metadata": {},
   "source": [
    "NB: tu remarquera que les valeurs qui remplisse nos tableaux sont des rééls, en effet c'est le comportement par défaut !<br>\n",
    "Pour empêcher cela il est possible de préciser le type que tu souhaite en ajoutant comme deuxième paramètre(comme troisième parametre si c'est ```full```) le type voulus"
   ]
  },
  {
   "cell_type": "code",
   "execution_count": 22,
   "id": "35d91ef5-96cb-4cca-a567-089d0403925f",
   "metadata": {},
   "outputs": [
    {
     "name": "stdout",
     "output_type": "stream",
     "text": [
      "[0 0 0 0]\n",
      "int32\n"
     ]
    }
   ],
   "source": [
    "tab_zeros = np.zeros(4, int)\n",
    "print(tab_zeros)\n",
    "print(tab_zeros.dtype)"
   ]
  },
  {
   "cell_type": "code",
   "execution_count": 21,
   "id": "8f09c532-aab4-4890-b072-a50201ebe7a4",
   "metadata": {},
   "outputs": [
    {
     "name": "stdout",
     "output_type": "stream",
     "text": [
      "[5. 5. 5. 5.]\n",
      "float64\n"
     ]
    }
   ],
   "source": [
    "tab_full = np.full(4, 5., float)\n",
    "print(tab_full)\n",
    "print(tab_full.dtype)"
   ]
  },
  {
   "cell_type": "markdown",
   "id": "4e24f88d-3c3a-41aa-b53b-7b606aa727fb",
   "metadata": {},
   "source": [
    "🙋🏾‍♂️C'est beaux tout ça mais sa marche uniquement si je connais à l'avence la taille du tableau donc Numpy n'est pas aussi puissant que ça en faite !"
   ]
  },
  {
   "cell_type": "markdown",
   "id": "dc51ff09-727f-4fcd-b024-198a4b0759cd",
   "metadata": {},
   "source": [
    "Et bien tu te trompe ! <br>\n",
    "Il est possible de créer des tableaux qui s'inspire d'un autre tableau déjà existant. Le nouveau tableau va prendre la taille et le type du tableau que tu lui aura fournie, il suffit d'ajouter ```_like``` au nom des fonctions.<br>\n",
    "Exemple:"
   ]
  },
  {
   "cell_type": "code",
   "execution_count": 24,
   "id": "9c0178ec-53da-497a-8b43-453135aa892e",
   "metadata": {},
   "outputs": [
    {
     "name": "stdout",
     "output_type": "stream",
     "text": [
      "[1 1]\n"
     ]
    }
   ],
   "source": [
    "a = np.array([1, 2])\n",
    "tab_ones = np.ones_like(a)\n",
    "print(tab_ones)"
   ]
  },
  {
   "cell_type": "markdown",
   "id": "1fccabc3-6be9-45a4-8021-7d3a61d397c7",
   "metadata": {},
   "source": [
    "tab_ones a gardé le type de a (int) et la taille de a (2) mais il n'a pas pris les valeurs de a, il continue de mettre ses 1"
   ]
  },
  {
   "cell_type": "markdown",
   "id": "7f883d6c-5f1a-4253-8257-dab2fd5f9dc2",
   "metadata": {},
   "source": [
    "🙋🏾‍♂️cool, je possède maintenant tous les fonctions pour créer des tableaux avec Numpy, on peut passer maintenant à la prochaine étape"
   ]
  },
  {
   "cell_type": "markdown",
   "id": "f4a48ef1-16ac-410a-bfec-50a5479bd252",
   "metadata": {},
   "source": [
    "En fait c'est pas toutes les fonctions pour créer des tableaux avec Numpy, il y'en a beaucoup d'autre et la plupart sont semblable au methode que tu as l'habitude d'utiliser avec Python.<br>\n",
    "Parmit ces fonction nous avons: <br>\n",
    "- ```numpy.arange(debut, fin, intervale_entre_valeur)```, seul le paramètre *fin* est obligatoire\n",
    "- ```numpy.linspace(debut, fin, nombre_de_valeur_a_avoir)```, tous les parametres sont obligatoire\n",
    "- ```numpy.random.randint(min, max, nombre_de_valeur_a_avoir)```, génère de valeurs entière aleatoires, le max n'étant pas compris\n",
    "- ```numpy.random.uniform(min, max, nombre_de_valeur_a_avoir)```, génère de valeurs réel aleatoires, le max n'étant pas compris\n",
    "- ```numpy.random.rand(nombre_de_valeur_a_avoir)```, génère des valeurs entre 0 et 1\n",
    "- ```numpy.random.randn(nombre_de_valeur_a_avoir)```, génère des valeurs dont la moyen est proche de 0 et l'ecart type proche de 1\n",
    "- ```numpy.random.normal(valeur_moyen, ecart_type, nombre_de_valeur_a_avoir)```, génère des valeur dont la moyen ne depasse pas valeur_moyen et l'ecart type ne depasse pas ecart_type"
   ]
  },
  {
   "cell_type": "markdown",
   "id": "cf0e4046-40a4-4fa4-b659-f1921769d9f7",
   "metadata": {},
   "source": [
    "<br>![Fonction pour générer des tableaux](https://miro.medium.com/max/720/1*NNCWBPDCPfLtNYDc_ul5SA.png)<br><br>\n",
    "![Fonction pour générer des tableaux](https://miro.medium.com/max/720/1*ps2PYTthKUdNbzynKjW4oQ.png)"
   ]
  },
  {
   "cell_type": "markdown",
   "id": "e0251ef3-856f-43ab-85d2-3d62a7d7c361",
   "metadata": {},
   "source": [
    "Il également une nouvelle interface pour la géneration de tableau aléatoire, il sont plus permorfat que les autres.<br>\n",
    "Parmet ces interface nous avons:<br>\n",
    "- ```integers(min, max, nombre_de_valeur_a_avoir)```, seul le paramètre *fin* est obligatoire. max n'est pas compris dans les valeurs générer\n",
    "- ```random(nombre_de_valeur_a_avoir)```, si on n'indique pas le nombre de valeur il va générer seulement une valeur\n",
    "- ```uniform(min, max, nombre_de_valeur_a_avoir)```, génère de valeurs réel aleatoires, le max n'étant pas compris\n",
    "- ```normal(valeur_moyen, ecart_type, nombre_de_valeur_a_avoir)```, génère des valeur dont la moyen ne depasse pas valeur_moyen et l'ecart type ne depasse pas ecart_type\n",
    "- ```standard_normal(nombre_de_valeur_a_avoir)```, génère des valeurs dont la moyen est proche de 0 et l'ecart type proche de 1"
   ]
  },
  {
   "cell_type": "markdown",
   "id": "7144c1cd-9856-4267-9e29-2033a9260d25",
   "metadata": {},
   "source": [
    "![Fonction pour générer des tableaux](https://miro.medium.com/max/720/1*oFoQ5Vw4s9mx7RyUi1wYOA.png)"
   ]
  },
  {
   "cell_type": "markdown",
   "id": "09ed8bef-c9d5-4562-ae46-8278c1b7f717",
   "metadata": {},
   "source": [
    "🙋🏾‍♂️mais attend, je vois double ou il y'a répetition avec les méthodes précedente ?"
   ]
  },
  {
   "cell_type": "markdown",
   "id": "b84293bb-dba0-49f0-8786-940b91019385",
   "metadata": {},
   "source": [
    "Non tu ne vois pas double, les methodes se ressemble belle et bien mais la différence est que ce n'est pas le même objet qu'il les appelle.<br>\n",
    "Pour les methodes précedente on passait directement par Numpy, mais ceux-ci on doit passer par un autre objet en plus de Numpy, c'est le ```numpy.random.default_rng()```.<br>\n",
    "Exemple:<br>"
   ]
  },
  {
   "cell_type": "code",
   "execution_count": 33,
   "id": "3439f3c5-21a6-49f1-b959-e4159b7e6e10",
   "metadata": {},
   "outputs": [
    {
     "name": "stdout",
     "output_type": "stream",
     "text": [
      "tab0 =  [3 4 2 4 3]\n",
      "tab1 =  [0.58960825 0.43301681 0.52418257 0.03344579 0.7237077 ]\n",
      "tab2 =  [2.06277397 3.0366042  2.43340847 3.86677233 4.75153473]\n",
      "tab3 =  [0.01380055 2.98251998 0.83017066 4.17354652 1.10652121]\n",
      "tab4 =  [-0.4454751   0.01771418  0.51935415 -0.29162876 -0.94538361]\n"
     ]
    }
   ],
   "source": [
    "rng = np.random.default_rng()\n",
    "tab0 = rng.integers(2, 5, 5)\n",
    "tab1 = rng.random(5)\n",
    "tab2 = rng.uniform(2,5,5)\n",
    "tab3 = rng.normal(2, 3, 5)\n",
    "tab4 = rng.standard_normal(5)\n",
    "print(\"tab0 = \",tab0)\n",
    "print(\"tab1 = \",tab1)\n",
    "print(\"tab2 = \",tab2)\n",
    "print(\"tab3 = \",tab3)\n",
    "print(\"tab4 = \",tab4)"
   ]
  },
  {
   "cell_type": "markdown",
   "id": "9ee0dda6-6638-4c06-b435-1893e1e06c1f",
   "metadata": {},
   "source": [
    "Une fois qu'on a notre tableau Numpy en main, il est facile d'accéder à ces éléments, on effectue les mêmes manipulations que pour accéder au élémént d'une liste Python<br>\n",
    "![Manipulation des éléments d'un tableau Numpy](https://miro.medium.com/max/720/1*4xpufyWZWcIbabsOHVlc4g.png)"
   ]
  },
  {
   "cell_type": "markdown",
   "id": "d60bdfab-2805-450b-aa41-e1fac546683a",
   "metadata": {},
   "source": [
    "NB: Il faut faire attention avec les tableaux Numpy, les opération du genre tab1 = tab2[:] ne crée pas une copie de tab2 dans tab1 comme avec les listes Python, cela fait plutôt de tab1 une réference de tab2.<br>\n",
    "Exemple:<br>"
   ]
  },
  {
   "cell_type": "code",
   "execution_count": 43,
   "id": "548496b9-b2e4-49d1-a3be-1e774c13589c",
   "metadata": {},
   "outputs": [
    {
     "name": "stdout",
     "output_type": "stream",
     "text": [
      "a avant:  [1 2 3]\n",
      "np_array avant:  [1 2 3]\n",
      "a après:  [6 2 3]\n",
      "np_array après:  [6 2 3]\n"
     ]
    }
   ],
   "source": [
    "np_array = np.array([1,2,3])\n",
    "a = np_array[:]\n",
    "print(\"a avant: \", a)\n",
    "print(\"np_array avant: \", np_array)\n",
    "a[0] = 6\n",
    "print(\"a après: \", a)\n",
    "print(\"np_array après: \", np_array)"
   ]
  },
  {
   "cell_type": "code",
   "execution_count": 101,
   "id": "64c63118-e24b-4242-9f78-724046455f35",
   "metadata": {},
   "outputs": [
    {
     "name": "stdout",
     "output_type": "stream",
     "text": [
      "[2 3]\n"
     ]
    }
   ],
   "source": [
    "a = np.array([2, 3, 4, 6, 7, 8])\n",
    "print(a[:2]) # affiche les valeur du tableau en commençant par le premier élément et s'arrêtant à l'indice 2-1"
   ]
  },
  {
   "cell_type": "markdown",
   "id": "209e699d-af65-48e4-bb5a-289b5a14f131",
   "metadata": {},
   "source": [
    "Il est aussi possible d'aller plus loin en utilisant 2 fois 2 point.<br>\n",
    "Pour un tableau a nous avons: a[debut:nbre_de_valeur_a_affucher:le_pas]"
   ]
  },
  {
   "cell_type": "code",
   "execution_count": 125,
   "id": "973e169f-4042-438a-8190-7a8a6e9b6c53",
   "metadata": {},
   "outputs": [
    {
     "name": "stdout",
     "output_type": "stream",
     "text": [
      "[2 4 7]\n"
     ]
    }
   ],
   "source": [
    "print(a[::2]) # affiche les valeurs en faisant un pas de 2"
   ]
  },
  {
   "cell_type": "code",
   "execution_count": 95,
   "id": "58c51c4c-f0c5-431f-b896-ac99645a77ca",
   "metadata": {},
   "outputs": [
    {
     "name": "stdout",
     "output_type": "stream",
     "text": [
      "[[6 5 4 3 2 1]]\n"
     ]
    },
    {
     "data": {
      "text/plain": [
       "array([[6, 5, 4, 3, 2, 1]])"
      ]
     },
     "execution_count": 95,
     "metadata": {},
     "output_type": "execute_result"
    }
   ],
   "source": [
    "print(a)\n",
    "a[::-1]"
   ]
  },
  {
   "cell_type": "markdown",
   "id": "239038b3-30e2-4ddf-9f57-1f43668be368",
   "metadata": {},
   "source": [
    "Une autre puissance des tableaux Numpy est qu'on peut appliquer des opérateurs logique pour avoir plus de flexibilité.<br>\n",
    "Comme une image vaut mieux qu'un long discours en voici un pour que vous puissiez mieux comprendre.<br>\n",
    "![Manipulation d'un tableau Numpy avec des opérateurs logique](https://miro.medium.com/max/720/1*nFGcXav_xxD7TXGiRYMpHg.png)"
   ]
  },
  {
   "cell_type": "markdown",
   "id": "1dcf4b9c-ba6e-4e54-adf4-94106a61e797",
   "metadata": {},
   "source": [
    "La fonction ```any``` permet d'obtenir uniquement les valeurs qui respecte la condition entre parenthèse contrairement à la fonction ```all``` qui permet d'obtenir tous les valeurs excepté ceux qui respecte la condition entre parenthèse. "
   ]
  },
  {
   "cell_type": "code",
   "execution_count": 128,
   "id": "8c2d06cf-e59c-4c81-bc9c-a95f66511a18",
   "metadata": {},
   "outputs": [
    {
     "name": "stdout",
     "output_type": "stream",
     "text": [
      "[2 3 4 6 7 8]\n"
     ]
    },
    {
     "data": {
      "text/plain": [
       "False"
      ]
     },
     "execution_count": 128,
     "metadata": {},
     "output_type": "execute_result"
    }
   ],
   "source": [
    "print(a)\n",
    "np.any(a > 9) # existe t-il une valeur supérieur à 9"
   ]
  },
  {
   "cell_type": "code",
   "execution_count": 135,
   "id": "47516e3a-ffa8-41fc-8aea-99951f27dc80",
   "metadata": {},
   "outputs": [
    {
     "data": {
      "text/plain": [
       "True"
      ]
     },
     "execution_count": 135,
     "metadata": {},
     "output_type": "execute_result"
    }
   ],
   "source": [
    "np.all(a > 1) # est ce que tous les valeurs sont strictement supérieur à 1"
   ]
  },
  {
   "cell_type": "code",
   "execution_count": 137,
   "id": "2206bfc1-d810-410d-83bd-d448c1da5a95",
   "metadata": {},
   "outputs": [
    {
     "name": "stdout",
     "output_type": "stream",
     "text": [
      "[2 3 4 1 1 8]\n"
     ]
    }
   ],
   "source": [
    "a[(a > 4) & (a < 8)] = 1 # tous les valeurs qui sont strictement supérieur à 4 et strictement inferieur à 8 remplace les par 1\n",
    "print(a)"
   ]
  },
  {
   "cell_type": "markdown",
   "id": "f92b94c3-5ca8-49b4-bbba-a5ed1faeb1aa",
   "metadata": {},
   "source": [
    "Numpy possède d'autre outils dans sa mache qui permettent aussi de manipuler les éléments d'un tableau.<br>\n",
    "Allez, comme vous aimez les images voici un autre<br>\n",
    "![Manipulation des élémént d'un tableau Numpy avec where et clip](https://miro.medium.com/max/720/1*fLUqfXDFbKtGVBl5VwuySQ.png)"
   ]
  },
  {
   "cell_type": "markdown",
   "id": "1870f764-548d-4ec0-a655-4a1748d6e920",
   "metadata": {},
   "source": [
    "La fonction ```where``` prend au minimum 3 paramètre. La prémière c'est une expréssion, la deuxième c'est la valeur qui remplace les autres valeur qui respecte la condition et la troisième c'est la valeur qui remplace les autres valeur qui ne respectent pas la condition"
   ]
  },
  {
   "cell_type": "code",
   "execution_count": 140,
   "id": "a6bb3204-e2bb-4e22-8ee5-8b024fd0a9d5",
   "metadata": {},
   "outputs": [
    {
     "name": "stdout",
     "output_type": "stream",
     "text": [
      "[2 3 4 1 1 8]\n",
      "[0 0 2 0 0 2]\n"
     ]
    }
   ],
   "source": [
    "print(a)\n",
    "a = np.where(a>3, 2, 0) # partout où a est superieur à 3, remplacer par 2 sinon remplacer par 0\n",
    "print(a)"
   ]
  },
  {
   "cell_type": "code",
   "execution_count": 151,
   "id": "8ad6cb6f-1bdd-4ba0-b935-a04899964ffe",
   "metadata": {},
   "outputs": [
    {
     "name": "stdout",
     "output_type": "stream",
     "text": [
      "[2 2 3 4 4]\n",
      "[2 2 3 4 4]\n"
     ]
    }
   ],
   "source": [
    "print(a)\n",
    "a = np.clip(a, 2, 4) # partout où a est strictement inferieur à 2, remplacer par 2 \n",
    "# et partout où a est strictement superieur à 4 remplacer par 4\n",
    "print(a)"
   ]
  },
  {
   "cell_type": "markdown",
   "id": "feae2928-00eb-4d6b-b70b-4bf46dea94e9",
   "metadata": {},
   "source": [
    "La plupart des fonction **math** de Python ont leur homologues Numpy qui peuvent gérer des vecteurs.<br>\n",
    "![Fonction homologue du module math dans Numpy](https://miro.medium.com/max/720/1*Pc4t0jilbHSM0sMwtVNGIA.png)"
   ]
  },
  {
   "cell_type": "markdown",
   "id": "a9c4777d-b883-431f-89e2-e396a856c5c7",
   "metadata": {},
   "source": [
    "Pour le produit scalaire:<br>\n",
    "![Le produit scalaire](https://miro.medium.com/max/720/1*rDUgKZO4bj9_SSRY6ddnfg.png)"
   ]
  },
  {
   "cell_type": "markdown",
   "id": "89fed756-f117-4b70-abf1-01e512a8f940",
   "metadata": {},
   "source": [
    "Pour les fonctions trigonometrique:<br>\n",
    "![Les fonction trigonometrique](https://miro.medium.com/max/720/1*wyHVvsoUdsHA0RedM6kdvQ.png)"
   ]
  },
  {
   "cell_type": "markdown",
   "id": "52ef815a-f5e0-4bda-9af9-bf439d2a78e3",
   "metadata": {},
   "source": [
    "On peut également arrondir les valeurs du tableau:<br>\n",
    "![Fonctions pour arrondir](https://miro.medium.com/max/720/1*GkjXtrFriVBXTQove8vEPw.png)"
   ]
  },
  {
   "cell_type": "markdown",
   "id": "d4cc6497-9f3e-448e-9711-c048c64f16c7",
   "metadata": {},
   "source": [
    "Il existe également des fonctions pour obtenir les valeurs maximal et minimal ainsi que leur indice, la somme, l'ecart type, la moyenne et aussi la variance.<br>\n",
    "![Obtenir le maximum et le minimum](https://miro.medium.com/max/720/1*TAB7WXfvTM7FxD1bJ7augQ.png)"
   ]
  },
  {
   "cell_type": "markdown",
   "id": "cb269321-1a33-436f-b446-f4744ff03491",
   "metadata": {},
   "source": [
    "Exemple:<br>"
   ]
  },
  {
   "cell_type": "code",
   "execution_count": 73,
   "id": "1caa17f8-07f5-4b6c-87a7-aebc81995fe3",
   "metadata": {},
   "outputs": [
    {
     "name": "stdout",
     "output_type": "stream",
     "text": [
      "7\n",
      "0\n",
      "1\n",
      "0\n",
      "3.0\n",
      "2.943920288775949\n",
      "9\n",
      "8.666666666666666\n"
     ]
    }
   ],
   "source": [
    "a = np.array([0,7,2])\n",
    "print(a.max()) # valeur maximal\n",
    "print(a.min()) # valeur minimal\n",
    "print(a.argmax()) # indice du valeur maximal\n",
    "print(a.argmin()) # indice du valeur minimal\n",
    "print(a.mean()) # la moyenne du tableau\n",
    "print(a.std()) # l'ecart type\n",
    "print(a.sum()) # la somme\n",
    "print(a.var()) # la variance"
   ]
  },
  {
   "cell_type": "markdown",
   "id": "3e21bb43-90b5-4550-a5d9-22a3c00cf189",
   "metadata": {},
   "source": [
    "Numpy permet aussi de trier le tableau.<br>\n",
    "![Fonction de trie](https://miro.medium.com/max/1400/1*mmS5_eCb8onu7MYjjdYpFw.png)"
   ]
  },
  {
   "cell_type": "code",
   "execution_count": 174,
   "id": "1ad24194-8c13-48e8-a79b-2372e9416baa",
   "metadata": {},
   "outputs": [
    {
     "name": "stdout",
     "output_type": "stream",
     "text": [
      "[2, 6, 5, 2, 3, 2, 2]\n",
      "[2 2 2 2 3 5 6]\n"
     ]
    }
   ],
   "source": [
    "a = [2, 6, 5, 2, 3, 2, 2]\n",
    "print(a)\n",
    "a = np.sort(a)\n",
    "print(a)"
   ]
  },
  {
   "cell_type": "code",
   "execution_count": 186,
   "id": "2fddec01-dc80-4337-98c3-62da149cb37f",
   "metadata": {},
   "outputs": [
    {
     "name": "stdout",
     "output_type": "stream",
     "text": [
      "[2 2 2 2 3 5 6]\n"
     ]
    },
    {
     "data": {
      "text/plain": [
       "0"
      ]
     },
     "execution_count": 186,
     "metadata": {},
     "output_type": "execute_result"
    }
   ],
   "source": [
    "print(a)\n",
    "np.where(a == 2)[0][0] # revoie l'indice d'une prémière occurence"
   ]
  },
  {
   "cell_type": "code",
   "execution_count": null,
   "id": "e0712d45-27c8-4ac6-b95b-76b9649259c8",
   "metadata": {},
   "outputs": [],
   "source": [
    "Il existe plusieurs façons pour acceder à l'indice d'une valeur, je vais vous montrez quelques un:<br>"
   ]
  },
  {
   "cell_type": "code",
   "execution_count": 191,
   "id": "470194ce-d863-4b69-8512-d83d7053f7ea",
   "metadata": {},
   "outputs": [
    {
     "data": {
      "text/plain": [
       "0"
      ]
     },
     "execution_count": 191,
     "metadata": {},
     "output_type": "execute_result"
    }
   ],
   "source": [
    "np.where(a == 2)[0][0]"
   ]
  },
  {
   "cell_type": "code",
   "execution_count": 192,
   "id": "4824d058-5313-4ddf-9e3f-b4695fa70078",
   "metadata": {},
   "outputs": [
    {
     "data": {
      "text/plain": [
       "0"
      ]
     },
     "execution_count": 192,
     "metadata": {},
     "output_type": "execute_result"
    }
   ],
   "source": [
    "next(i[0] for i, v in np.ndenumerate(a) if v==2)"
   ]
  },
  {
   "cell_type": "code",
   "execution_count": 193,
   "id": "be7a7f26-b0b8-4ad5-bf42-2ba39377107b",
   "metadata": {},
   "outputs": [
    {
     "data": {
      "text/plain": [
       "0"
      ]
     },
     "execution_count": 193,
     "metadata": {},
     "output_type": "execute_result"
    }
   ],
   "source": [
    "np.searchsorted(a, 2)"
   ]
  },
  {
   "cell_type": "markdown",
   "id": "d080bfa1-0e46-4041-978f-f6d359662ad7",
   "metadata": {},
   "source": [
    "🙋🏾‍♂️mais quel est la différence entre ces 3 possibilté ?"
   ]
  },
  {
   "cell_type": "markdown",
   "id": "5b47c55d-0786-4920-80d0-1dc469472cb8",
   "metadata": {},
   "source": [
    "La différence principale reside dans la rapidité d'éxecution.<br>\n",
    "Le troisième est plus rapide que le deuxième qui est plus rapide que le troisième"
   ]
  },
  {
   "cell_type": "markdown",
   "id": "bd307e9c-a4dc-42fb-b161-a3ccd2678605",
   "metadata": {},
   "source": [
    "### 3-Comparer les valeurs flottants\n",
    "Parmit les fonction de comparaison nous avons ```àllclose``` et ```isclose```<br>\n",
    "Voici une image explicatif:<br>\n",
    "![Fonction de comparaison de valeur flottant](https://miro.medium.com/max/720/1*LZWByfm3vyHXhNreHGy3hQ.png)"
   ]
  },
  {
   "cell_type": "markdown",
   "id": "a21661ec-1328-4ecf-86aa-2f176e226850",
   "metadata": {},
   "source": [
    "Exemple:"
   ]
  },
  {
   "cell_type": "code",
   "execution_count": 194,
   "id": "5c7a406d-909f-40ff-b493-d3e1f0249574",
   "metadata": {},
   "outputs": [
    {
     "data": {
      "text/plain": [
       "True"
      ]
     },
     "execution_count": 194,
     "metadata": {},
     "output_type": "execute_result"
    }
   ],
   "source": [
    "np.allclose(2.1+1.1, 3.2)"
   ]
  },
  {
   "cell_type": "code",
   "execution_count": 195,
   "id": "c4cb3c48-61d6-4cdd-bdef-02f767fa1718",
   "metadata": {},
   "outputs": [
    {
     "data": {
      "text/plain": [
       "True"
      ]
     },
     "execution_count": 195,
     "metadata": {},
     "output_type": "execute_result"
    }
   ],
   "source": [
    "np.isclose(2.1+1.1, 3.2)"
   ]
  },
  {
   "cell_type": "code",
   "execution_count": 196,
   "id": "56ccb4df-1e7d-4cff-810f-2dd04f37f2ca",
   "metadata": {},
   "outputs": [
    {
     "data": {
      "text/plain": [
       "True"
      ]
     },
     "execution_count": 196,
     "metadata": {},
     "output_type": "execute_result"
    }
   ],
   "source": [
    "2.1+1.1 == 3.2"
   ]
  },
  {
   "cell_type": "markdown",
   "id": "d96c647c-cf44-41f0-90d0-9041ba9225cf",
   "metadata": {},
   "source": [
    "## Manipulation des tableaux à double dimension\n",
    "La manipulation des tableaux à double dimension sont très similaire aux tableaux à une dimension de par les noms des fonctions et attribues.<br>\n",
    "Pour créer un tableau 2D c'est très simple, il suffit de separer les tableaux par des vigules.<br>\n",
    "Exemple:"
   ]
  },
  {
   "cell_type": "code",
   "execution_count": 4,
   "id": "058b2db5-3313-4cb7-b5da-2df96a0cf59c",
   "metadata": {},
   "outputs": [
    {
     "data": {
      "text/plain": [
       "array([[1, 2, 3],\n",
       "       [4, 5, 6]])"
      ]
     },
     "execution_count": 4,
     "metadata": {},
     "output_type": "execute_result"
    }
   ],
   "source": [
    "tab_2d = np.array([[1, 2, 3],[4, 5, 6]])\n",
    "tab_2d"
   ]
  },
  {
   "cell_type": "markdown",
   "id": "f02d2900-421b-498a-b50c-2dcaa02b8ee7",
   "metadata": {},
   "source": [
    "NB: il ne faut pas oublier de mettre les 2 tableau dans un grand crochet !<br>\n",
    "Pour connaitre le type et la taille on utilise les mêmes attribut, à savoir *dtype* et *shape*"
   ]
  },
  {
   "cell_type": "code",
   "execution_count": 6,
   "id": "a501be71-d6c5-4d68-b456-fceab320512a",
   "metadata": {},
   "outputs": [
    {
     "data": {
      "text/plain": [
       "dtype('int32')"
      ]
     },
     "execution_count": 6,
     "metadata": {},
     "output_type": "execute_result"
    }
   ],
   "source": [
    "tab_2d.dtype"
   ]
  },
  {
   "cell_type": "code",
   "execution_count": 7,
   "id": "e6e107be-abea-44fd-a0b0-81ef73c82e71",
   "metadata": {},
   "outputs": [
    {
     "data": {
      "text/plain": [
       "(2, 3)"
      ]
     },
     "execution_count": 7,
     "metadata": {},
     "output_type": "execute_result"
    }
   ],
   "source": [
    "tab_2d.shape"
   ]
  },
  {
   "cell_type": "markdown",
   "id": "4eb09830-397e-483c-aeaf-340b3b6c4e2e",
   "metadata": {},
   "source": [
    "Donc ici nous avons une matrice de 2 ligne et 3 colonnes"
   ]
  },
  {
   "cell_type": "code",
   "execution_count": 8,
   "id": "c6234db3-ce3b-4be7-bb2f-3b639a1b0ad7",
   "metadata": {},
   "outputs": [
    {
     "data": {
      "text/plain": [
       "2"
      ]
     },
     "execution_count": 8,
     "metadata": {},
     "output_type": "execute_result"
    }
   ],
   "source": [
    "len(tab_2d)"
   ]
  },
  {
   "cell_type": "markdown",
   "id": "76971191-feeb-4257-b0ce-50828f1b352b",
   "metadata": {},
   "source": [
    "On utilise également les fonctions *zeros*, *ones*, *full* et *empty* pour préallouer l'espace"
   ]
  },
  {
   "cell_type": "code",
   "execution_count": 9,
   "id": "18aefc35-ec7c-41b1-b6e3-3535c047ecec",
   "metadata": {},
   "outputs": [
    {
     "name": "stdout",
     "output_type": "stream",
     "text": [
      "[[0. 0. 0.]\n",
      " [0. 0. 0.]]\n",
      "[[1. 1. 1.]\n",
      " [1. 1. 1.]]\n",
      "[[7 7 7]\n",
      " [7 7 7]]\n",
      "[[0. 0. 0.]\n",
      " [0. 0. 0.]]\n"
     ]
    }
   ],
   "source": [
    "tab_2d_zeros = np.zeros((2,3))\n",
    "tab_2d_ones = np.ones((2,3))\n",
    "tab_2d_full = np.full((2,3),7)\n",
    "tab_2d_empty = np.empty((2,3))\n",
    "\n",
    "print(tab_2d_zeros)\n",
    "print(tab_2d_ones)\n",
    "print(tab_2d_full)\n",
    "print(tab_2d_empty)"
   ]
  },
  {
   "cell_type": "markdown",
   "id": "7e7965c9-b5bc-410f-936b-69424c1e3074",
   "metadata": {},
   "source": [
    "Les tableaux à 2D possèdent en plus une autre methode appellé *eye*, qui permet d'initialiser la diagonal par des 1. et les autres par des des 0."
   ]
  },
  {
   "cell_type": "code",
   "execution_count": 14,
   "id": "56c7fa93-3d8b-483d-8a36-76e558bc1313",
   "metadata": {},
   "outputs": [
    {
     "data": {
      "text/plain": [
       "array([[1., 0., 0.],\n",
       "       [0., 1., 0.],\n",
       "       [0., 0., 1.]])"
      ]
     },
     "execution_count": 14,
     "metadata": {},
     "output_type": "execute_result"
    }
   ],
   "source": [
    "np.eye(3, 3)"
   ]
  },
  {
   "cell_type": "markdown",
   "id": "5062a015-9b4b-4528-9254-30f06635f047",
   "metadata": {},
   "source": [
    "On peut également se limité à un seul argument"
   ]
  },
  {
   "cell_type": "code",
   "execution_count": 15,
   "id": "f9c07fa2-a1fc-43c4-9350-b68e00ea9de8",
   "metadata": {},
   "outputs": [
    {
     "data": {
      "text/plain": [
       "array([[1., 0., 0.],\n",
       "       [0., 1., 0.],\n",
       "       [0., 0., 1.]])"
      ]
     },
     "execution_count": 15,
     "metadata": {},
     "output_type": "execute_result"
    }
   ],
   "source": [
    "np.eye(3)"
   ]
  },
  {
   "cell_type": "markdown",
   "id": "8823a28e-97fc-4b5a-b120-b5e607be3a76",
   "metadata": {},
   "source": [
    "Voici une image pour mieux comprendre<br>\n",
    "![Fontion pour préallouer un tableau à 2D](https://miro.medium.com/max/720/1*aLMuXA81pDXaw0J0QdKvRQ.png)"
   ]
  },
  {
   "cell_type": "markdown",
   "id": "c5d24f5d-110f-4dab-ba10-a11e9fe22089",
   "metadata": {},
   "source": [
    "Les tableaux à 2D utilisent aussi le module *random* ainsi que les fonction qu'elle peut nous affrire<br>\n",
    "![Les tableaux 2D et le module random](https://miro.medium.com/max/720/1*O9bawffUMaZeQw1g0DuHrg.png)"
   ]
  },
  {
   "cell_type": "markdown",
   "id": "45f96b76-bae7-48bd-ab1a-26c5c6401e4e",
   "metadata": {},
   "source": [
    "NB: Tu aura sans doute remarqué que certaines fonctions prennent des tuples et d'autres des paramètres en plus, c'est tout à fait normal puisqu'on parle bien de tableau à **2D**."
   ]
  },
  {
   "cell_type": "markdown",
   "id": "73ebe79a-b18b-4972-86ad-d52fefc41c79",
   "metadata": {},
   "source": [
    "Nous pouvons aussi utilisé les fonctions *integers*, *random*, *uniform*, *normal*, *standard_normal*"
   ]
  },
  {
   "cell_type": "markdown",
   "id": "c13c1b10-5d7a-4059-b989-a00896d22aa8",
   "metadata": {},
   "source": [
    "On peut également éffectuer des operations d'indexation.<br>\n",
    "![Operation d'indexation](https://miro.medium.com/max/720/1*brbsl7QFZGWfmvgFHMwt9Q.png)"
   ]
  },
  {
   "cell_type": "code",
   "execution_count": 17,
   "id": "abef4db7-b83b-462b-af14-fc686cb2a3fa",
   "metadata": {},
   "outputs": [
    {
     "name": "stdout",
     "output_type": "stream",
     "text": [
      "[[1 2 3]\n",
      " [4 5 6]]\n"
     ]
    },
    {
     "data": {
      "text/plain": [
       "6"
      ]
     },
     "execution_count": 17,
     "metadata": {},
     "output_type": "execute_result"
    }
   ],
   "source": [
    "print(tab_2d)\n",
    "tab_2d[1,2] # 2ième ligne 3ième colonne (n'oublie que les indices commence à partir de 0)"
   ]
  },
  {
   "cell_type": "code",
   "execution_count": 23,
   "id": "ba9d96b5-c384-487d-a5fd-0428b7104dff",
   "metadata": {},
   "outputs": [
    {
     "data": {
      "text/plain": [
       "array([2, 5])"
      ]
     },
     "execution_count": 23,
     "metadata": {},
     "output_type": "execute_result"
    }
   ],
   "source": [
    "tab_2d[:,1] # toute les ligne mais uniquement la 2ième colonne"
   ]
  },
  {
   "cell_type": "markdown",
   "id": "ea4ade11-d5ff-49e0-8cbe-5c7893fb4bab",
   "metadata": {},
   "source": [
    "Le signe \"afficher\" signifie qu'aucune copie n'est réellement effectuée lors du découpage d'un tableau. Lorsque le tableau est modifié, les modifications sont également répercutées dans la tranche."
   ]
  },
  {
   "cell_type": "markdown",
   "id": "36bddca7-22e4-4421-9f71-35d7e882faa0",
   "metadata": {},
   "source": [
    "Du fait de sa double dimension, les tableaux 2D utilisent le principe de l'*axe*.<br>\n",
    "Pour pouvoir mieu comprendre utilisons la fonction **sum**<br>\n",
    "Notre objectif va être de calculer la somme des lignes et des colonnnes"
   ]
  },
  {
   "cell_type": "code",
   "execution_count": 24,
   "id": "f9926946-40ca-4965-a3e4-034aeb2975db",
   "metadata": {},
   "outputs": [
    {
     "name": "stdout",
     "output_type": "stream",
     "text": [
      "[[1 2 3]\n",
      " [4 5 6]]\n"
     ]
    },
    {
     "data": {
      "text/plain": [
       "array([5, 7, 9])"
      ]
     },
     "execution_count": 24,
     "metadata": {},
     "output_type": "execute_result"
    }
   ],
   "source": [
    "print(tab_2d)\n",
    "tab_2d.sum(axis=0) # fait la somme des valeurs en fonction de la colonne"
   ]
  },
  {
   "cell_type": "code",
   "execution_count": 25,
   "id": "91150b06-4f93-4f0f-93c7-fe9ce9c5b123",
   "metadata": {},
   "outputs": [
    {
     "name": "stdout",
     "output_type": "stream",
     "text": [
      "[[1 2 3]\n",
      " [4 5 6]]\n"
     ]
    },
    {
     "data": {
      "text/plain": [
       "array([ 6, 15])"
      ]
     },
     "execution_count": 25,
     "metadata": {},
     "output_type": "execute_result"
    }
   ],
   "source": [
    "print(tab_2d)\n",
    "tab_2d.sum(axis=1) # fait la somme des valeurs en fonction de la ligne"
   ]
  },
  {
   "cell_type": "markdown",
   "id": "5e40055c-bbde-4bac-808d-b618fc150e52",
   "metadata": {},
   "source": [
    "On peut egalement effectuer des operation ordinaire sur nos matrice en faisant comme dans l'image ci-dessous.<br>\n",
    "![Les operations arithmetique sur les matrices](https://miro.medium.com/max/720/1*z0vpti4m5rnRdG7tjFBAAA.png)"
   ]
  },
  {
   "cell_type": "markdown",
   "id": "00cebccf-546d-45a9-a3a4-8140a1373e7b",
   "metadata": {},
   "source": [
    "le **@** permet de faire le produit matriciel"
   ]
  },
  {
   "cell_type": "code",
   "execution_count": 37,
   "id": "b05128b8-df3c-44bf-9184-510805468428",
   "metadata": {},
   "outputs": [
    {
     "name": "stdout",
     "output_type": "stream",
     "text": [
      "[[1 2]\n",
      " [3 4]]\n",
      "[[4 3]\n",
      " [2 1]]\n"
     ]
    },
    {
     "data": {
      "text/plain": [
       "array([[13, 20],\n",
       "       [ 5,  8]])"
      ]
     },
     "execution_count": 37,
     "metadata": {},
     "output_type": "execute_result"
    }
   ],
   "source": [
    "tab_2d = np.array([[1, 2],[3, 4]])\n",
    "tab1_2d = np.array([[4, 3],[2, 1]])\n",
    "print(tab_2d)\n",
    "print(tab1_2d)\n",
    "tab1_2d@tab_2d"
   ]
  },
  {
   "cell_type": "markdown",
   "id": "49992541-5fb8-4119-b232-33c40b4d293a",
   "metadata": {},
   "source": [
    "Numpy permet de faire des calcules entre vecteur et matrice.<br>\n",
    "![Operation vecteur-matrice](https://miro.medium.com/max/720/1*qbi-kCjxBE9Wd6Y0cKHfaQ.png)"
   ]
  },
  {
   "cell_type": "code",
   "execution_count": 5,
   "id": "11c49936-7289-401d-826c-05659be071cf",
   "metadata": {},
   "outputs": [
    {
     "data": {
      "text/plain": [
       "array([[1., 1.],\n",
       "       [3., 2.]])"
      ]
     },
     "execution_count": 5,
     "metadata": {},
     "output_type": "execute_result"
    }
   ],
   "source": [
    "vecteur = np.array([1, 2])\n",
    "tab_2d / vecteur"
   ]
  },
  {
   "cell_type": "code",
   "execution_count": 6,
   "id": "44c52bf7-e32f-4a84-8d1e-4000601388f6",
   "metadata": {},
   "outputs": [
    {
     "data": {
      "text/plain": [
       "array([[1, 4],\n",
       "       [3, 8]])"
      ]
     },
     "execution_count": 6,
     "metadata": {},
     "output_type": "execute_result"
    }
   ],
   "source": [
    "tab_2d * vecteur"
   ]
  },
  {
   "cell_type": "code",
   "execution_count": 7,
   "id": "689f45c9-f4b7-4cb6-bc45-979b3583be7b",
   "metadata": {},
   "outputs": [
    {
     "data": {
      "text/plain": [
       "array([[ 5, 10],\n",
       "       [15, 20]])"
      ]
     },
     "execution_count": 7,
     "metadata": {},
     "output_type": "execute_result"
    }
   ],
   "source": [
    "nb = 5\n",
    "tab_2d * nb"
   ]
  },
  {
   "cell_type": "markdown",
   "id": "6f7e8bcc-d738-4ded-871e-6a03ddd84b2b",
   "metadata": {},
   "source": [
    "![Produit vectoriel](https://miro.medium.com/max/720/1*AxPMBAD67SbeXV4wEdcamQ.png)"
   ]
  },
  {
   "cell_type": "code",
   "execution_count": 10,
   "id": "81c62f9a-b419-4e27-89a6-3dcbcdab387d",
   "metadata": {},
   "outputs": [
    {
     "data": {
      "text/plain": [
       "44"
      ]
     },
     "execution_count": 10,
     "metadata": {},
     "output_type": "execute_result"
    }
   ],
   "source": [
    "vecteur1 = np.array([2,4,6])\n",
    "vecteur2 = np.array([1,3,5])\n",
    "vecteur1 @ vecteur2"
   ]
  },
  {
   "cell_type": "markdown",
   "id": "b0f2ad28-c4fc-4a3a-b127-4ffb459d3f55",
   "metadata": {},
   "source": [
    "Voyons maintenant comment passé de ligne en colonne et de colonne en ligne.<br>\n",
    "On utiliser généralement le technique de transposition pour effectuer les différentes conversion et pour cela nous utilisons courament la méthodes ```reshape```"
   ]
  },
  {
   "cell_type": "markdown",
   "id": "860bf927-9f2c-4884-a307-83349bb13c4c",
   "metadata": {},
   "source": [
    "Representation de la transposé<br>\n",
    "![Representation de la transposé](https://miro.medium.com/max/720/1*PYk9Ukt2OpnWXrlYqjXEBw.png)<br>\n",
    "\n",
    "La méthode reshape<br>\n",
    "![La méthode reshape](https://miro.medium.com/max/720/1*ettWjwGl17oyxeSvAHtbCQ.png)<br>\n",
    "\n",
    "Diagramme de conversion<br>\n",
    "![Diagramme de conversion](https://miro.medium.com/max/720/1*d9j1sDyzpBXLxK11vU-Mtw.png)<br>"
   ]
  },
  {
   "cell_type": "code",
   "execution_count": 14,
   "id": "2ffe754a-454d-45b1-a014-e6999c2882aa",
   "metadata": {},
   "outputs": [
    {
     "data": {
      "text/plain": [
       "array([[1],\n",
       "       [2],\n",
       "       [3],\n",
       "       [4],\n",
       "       [5],\n",
       "       [6]])"
      ]
     },
     "execution_count": 14,
     "metadata": {},
     "output_type": "execute_result"
    }
   ],
   "source": [
    "tab_2d = np.array([[1,2,3,4,5,6]])\n",
    "tab_2d.reshape(-1,1) # transposition de tab_2d"
   ]
  },
  {
   "cell_type": "code",
   "execution_count": 16,
   "id": "39e40fb3-f52d-44a0-887b-28904247db76",
   "metadata": {},
   "outputs": [
    {
     "data": {
      "text/plain": [
       "array([[1, 2, 3],\n",
       "       [4, 5, 6]])"
      ]
     },
     "execution_count": 16,
     "metadata": {},
     "output_type": "execute_result"
    }
   ],
   "source": [
    "tab_2d.reshape(2, 3) # transformation d'une ligne en 2 ligne et 3 colonnne"
   ]
  },
  {
   "cell_type": "code",
   "execution_count": 22,
   "id": "d498c3de-f757-4d6e-a0de-1e79e11fec52",
   "metadata": {},
   "outputs": [
    {
     "data": {
      "text/plain": [
       "array([[[1, 2, 3, 4, 5, 6]]])"
      ]
     },
     "execution_count": 22,
     "metadata": {},
     "output_type": "execute_result"
    }
   ],
   "source": [
    "tab_2d[:,None]"
   ]
  },
  {
   "cell_type": "code",
   "execution_count": 33,
   "id": "6ca6f6dd-8f8e-4bff-b589-92e756323854",
   "metadata": {},
   "outputs": [
    {
     "data": {
      "text/plain": [
       "array([1, 2])"
      ]
     },
     "execution_count": 33,
     "metadata": {},
     "output_type": "execute_result"
    }
   ],
   "source": [
    "r = np.array([[1,2]])\n",
    "r.flatten()\n",
    "r.reshape(-1)\n",
    "np.ravel(r)"
   ]
  },
  {
   "cell_type": "markdown",
   "id": "5244022b-5a50-4311-8154-188772e6f7c8",
   "metadata": {},
   "source": [
    "Il existe principalement 2 fonctions pour joindre les tableaux, ```hstack``` et ```vstack```<br>\n",
    "![Joindre des tableaux](https://miro.medium.com/max/720/1*SJbmp5_qJixVztVMJQn9sw.png)"
   ]
  },
  {
   "cell_type": "markdown",
   "id": "f496851a-7d5a-4b4e-9ce4-05c647af7bb9",
   "metadata": {},
   "source": [
    "Il y'a une contrainte pour chaque fonction.<br>\n",
    "Pour la fonction **hstack** il faut obligatoirement que les 2 tableaux aient le même nombre de **ligne**.<br>\n",
    "Pour la fonction **vstack** il faut obligatoirement que les 2 tableaux aient le même nombre de **colonne**."
   ]
  },
  {
   "cell_type": "code",
   "execution_count": 50,
   "id": "61f8f52d-cc48-4a01-a582-93a1cb91236a",
   "metadata": {},
   "outputs": [
    {
     "name": "stdout",
     "output_type": "stream",
     "text": [
      "[[ 7 22 16 11]\n",
      " [13  7 14 16]\n",
      " [11 22 10 15]]\n",
      "\n",
      "[[8 9 2 5 4 3]\n",
      " [8 5 8 5 3 4]\n",
      " [5 8 2 3 4 8]]\n"
     ]
    },
    {
     "data": {
      "text/plain": [
       "array([[ 7, 22, 16, 11,  8,  9,  2,  5,  4,  3],\n",
       "       [13,  7, 14, 16,  8,  5,  8,  5,  3,  4],\n",
       "       [11, 22, 10, 15,  5,  8,  2,  3,  4,  8]])"
      ]
     },
     "execution_count": 50,
     "metadata": {},
     "output_type": "execute_result"
    }
   ],
   "source": [
    "tab_2d = np.random.randint(5,25, (3,4)) # génération d'une matrice de 3 ligne et 4 colonne\n",
    "tab = np.random.randint(2,10,(3,6)) # génération d'une matrice de 3 ligne et 6 colonne\n",
    "print(tab_2d)\n",
    "print()\n",
    "print(tab)\n",
    "np.hstack((tab_2d,tab)) # jointure de 2 tableaux (tab_2d et tab)"
   ]
  },
  {
   "cell_type": "code",
   "execution_count": 54,
   "id": "179b3348-423d-4bc7-b534-30310390ca35",
   "metadata": {},
   "outputs": [
    {
     "name": "stdout",
     "output_type": "stream",
     "text": [
      "[[ 8 14 12  6]\n",
      " [ 7 14  6 20]\n",
      " [ 5 21 14  7]]\n",
      "\n",
      "[[3 8 3 7]\n",
      " [4 7 9 8]]\n"
     ]
    },
    {
     "data": {
      "text/plain": [
       "array([[ 8, 14, 12,  6],\n",
       "       [ 7, 14,  6, 20],\n",
       "       [ 5, 21, 14,  7],\n",
       "       [ 3,  8,  3,  7],\n",
       "       [ 4,  7,  9,  8]])"
      ]
     },
     "execution_count": 54,
     "metadata": {},
     "output_type": "execute_result"
    }
   ],
   "source": [
    "tab_2d = np.random.randint(5,25, (3,4)) # génération d'une matrice de 3 ligne et 4 colonne\n",
    "tab = np.random.randint(2,10,(2,4)) # génération d'une matrice de 2 ligne et 4 colonne\n",
    "print(tab_2d)\n",
    "print()\n",
    "print(tab)\n",
    "np.vstack((tab_2d,tab)) # jointure de 2 tableaux (tab_2d et tab)"
   ]
  },
  {
   "cell_type": "markdown",
   "id": "01e4a0d0-dfc3-4390-bb32-18e83b0647d3",
   "metadata": {},
   "source": [
    "Il est également possible d'utiliser la fonction *column_stack* à la place de *hstack*"
   ]
  },
  {
   "cell_type": "code",
   "execution_count": 55,
   "id": "693d394a-2e02-4c4b-a137-3e118269715c",
   "metadata": {},
   "outputs": [
    {
     "name": "stdout",
     "output_type": "stream",
     "text": [
      "[[17 12 14 17]\n",
      " [ 7 11 19 21]\n",
      " [ 9  7  7 15]]\n",
      "\n",
      "[[8 7 5 5 3 7]\n",
      " [7 4 5 9 3 2]\n",
      " [8 2 9 9 4 2]]\n"
     ]
    },
    {
     "data": {
      "text/plain": [
       "array([[17, 12, 14, 17,  8,  7,  5,  5,  3,  7],\n",
       "       [ 7, 11, 19, 21,  7,  4,  5,  9,  3,  2],\n",
       "       [ 9,  7,  7, 15,  8,  2,  9,  9,  4,  2]])"
      ]
     },
     "execution_count": 55,
     "metadata": {},
     "output_type": "execute_result"
    }
   ],
   "source": [
    "tab_2d = np.random.randint(5,25, (3,4)) # génération d'une matrice de 3 ligne et 4 colonne\n",
    "tab = np.random.randint(2,10,(3,6)) # génération d'une matrice de 3 ligne et 6 colonne\n",
    "print(tab_2d)\n",
    "print()\n",
    "print(tab)\n",
    "np.column_stack((tab_2d,tab)) # jointure de 2 tableaux (tab_2d et tab)"
   ]
  },
  {
   "cell_type": "markdown",
   "id": "cd9f1acc-8e46-4ad3-a56a-1e42f3b63052",
   "metadata": {},
   "source": [
    "A l'inverse, on peut détacher des tableaux, pour ce faire on utilise les fonction **hsplit** et **vsplit**."
   ]
  },
  {
   "cell_type": "markdown",
   "id": "9b797b23-c054-4a79-b49b-77624524844a",
   "metadata": {},
   "source": [
    "Là aussi il y'a une contrainte pour chaque fonction.<br>\n",
    "Pour la fonction **hsplit** il faut indiquer l'indice de la **colonne** à partir du quel on doit couper.<br>\n",
    "Pour la fonction **vsplit** il faut indiquer l'indice de la **ligne** à partir du quel on doit couper.<br><br>\n",
    "![La fonction hsplit et vsplit](https://miro.medium.com/max/720/1*ADtgaXz1wxze7c6K6kK9CQ.png)"
   ]
  },
  {
   "cell_type": "code",
   "execution_count": 74,
   "id": "c663fe46-97bf-4088-9165-90a59966cfe9",
   "metadata": {},
   "outputs": [
    {
     "name": "stdout",
     "output_type": "stream",
     "text": [
      "[[10 18 22 11 16 24]\n",
      " [17  5  8  8 11 17]\n",
      " [19 14 18 18 20  9]\n",
      " [ 6 14 13 15 22 20]\n",
      " [21 14 24  5  7 18]]\n"
     ]
    },
    {
     "data": {
      "text/plain": [
       "[array([[10, 18, 22, 11],\n",
       "        [17,  5,  8,  8],\n",
       "        [19, 14, 18, 18],\n",
       "        [ 6, 14, 13, 15],\n",
       "        [21, 14, 24,  5]]),\n",
       " array([[16, 24],\n",
       "        [11, 17],\n",
       "        [20,  9],\n",
       "        [22, 20],\n",
       "        [ 7, 18]])]"
      ]
     },
     "execution_count": 74,
     "metadata": {},
     "output_type": "execute_result"
    }
   ],
   "source": [
    "tab_2d = np.random.randint(5,25, (5,6)) # génération d'une matrice de 5 ligne et 6 colonne\n",
    "print(tab_2d)\n",
    "np.hsplit(tab_2d, [4])"
   ]
  },
  {
   "cell_type": "code",
   "execution_count": 79,
   "id": "76706b27-4635-49ed-8d4f-0c5a54fdadd2",
   "metadata": {},
   "outputs": [
    {
     "name": "stdout",
     "output_type": "stream",
     "text": [
      "[[24  6 19 22 15  7]\n",
      " [19 12 23  5  6  5]\n",
      " [18 22 22 15 21 14]\n",
      " [10  9 17 22  6  8]\n",
      " [ 7 18 19 19 17 21]]\n"
     ]
    },
    {
     "data": {
      "text/plain": [
       "[array([[24,  6, 19, 22, 15,  7],\n",
       "        [19, 12, 23,  5,  6,  5],\n",
       "        [18, 22, 22, 15, 21, 14]]),\n",
       " array([[10,  9, 17, 22,  6,  8],\n",
       "        [ 7, 18, 19, 19, 17, 21]])]"
      ]
     },
     "execution_count": 79,
     "metadata": {},
     "output_type": "execute_result"
    }
   ],
   "source": [
    "tab_2d = np.random.randint(5,25, (5,6)) # génération d'une matrice de 5 ligne et 6 colonne\n",
    "print(tab_2d)\n",
    "np.vsplit(tab_2d, [3])"
   ]
  },
  {
   "cell_type": "markdown",
   "id": "490a04b6-e50b-4045-98ac-20fe191d401f",
   "metadata": {},
   "source": [
    "🙋🏾‍♂️et si je souhaite diviser en 3 tableaux egale, je fais comment ?"
   ]
  },
  {
   "cell_type": "code",
   "execution_count": 80,
   "id": "358c4b05-43c4-4b39-9a1f-38876f33bed0",
   "metadata": {},
   "outputs": [
    {
     "name": "stdout",
     "output_type": "stream",
     "text": [
      "[[17 16 17 24]\n",
      " [16 11 11 12]\n",
      " [20  8 22 12]\n",
      " [14  6  9  8]\n",
      " [ 5 20  8 14]\n",
      " [13 24 22  5]]\n"
     ]
    },
    {
     "data": {
      "text/plain": [
       "[array([[17, 16, 17, 24],\n",
       "        [16, 11, 11, 12]]),\n",
       " array([[20,  8, 22, 12],\n",
       "        [14,  6,  9,  8]]),\n",
       " array([[ 5, 20,  8, 14],\n",
       "        [13, 24, 22,  5]])]"
      ]
     },
     "execution_count": 80,
     "metadata": {},
     "output_type": "execute_result"
    }
   ],
   "source": [
    "tab_2d = np.random.randint(5,25, (6,4)) # génération d'une matrice de 6 ligne et 4 colonne\n",
    "print(tab_2d)\n",
    "np.vsplit(tab_2d, [2,4])"
   ]
  },
  {
   "cell_type": "markdown",
   "id": "f62fd060-e20c-42a8-8e40-12744612fa83",
   "metadata": {},
   "source": [
    "On a ainsi 3 tableaux de même dimension"
   ]
  },
  {
   "cell_type": "markdown",
   "id": "63f5d09a-d77d-4c99-b4df-457fffe7affc",
   "metadata": {},
   "source": [
    "🙋🏾‍♂️pas très pratique ça, je souhaite juste avoir un nombre de tableau de même dimension. N'y a t'il un raccourcie ?"
   ]
  },
  {
   "cell_type": "markdown",
   "id": "bcb02600-7db9-4f0f-8a54-92a64b1b68f0",
   "metadata": {},
   "source": [
    "Et bien oui, il y'en a, il suffit de faire comme dans l'exemple suivant:<br>"
   ]
  },
  {
   "cell_type": "code",
   "execution_count": 81,
   "id": "1c38d041-e01b-47e2-80d7-16321d50276c",
   "metadata": {},
   "outputs": [
    {
     "name": "stdout",
     "output_type": "stream",
     "text": [
      "[[17 16 17 24]\n",
      " [16 11 11 12]\n",
      " [20  8 22 12]\n",
      " [14  6  9  8]\n",
      " [ 5 20  8 14]\n",
      " [13 24 22  5]]\n"
     ]
    },
    {
     "data": {
      "text/plain": [
       "[array([[17, 16, 17, 24],\n",
       "        [16, 11, 11, 12]]),\n",
       " array([[20,  8, 22, 12],\n",
       "        [14,  6,  9,  8]]),\n",
       " array([[ 5, 20,  8, 14],\n",
       "        [13, 24, 22,  5]])]"
      ]
     },
     "execution_count": 81,
     "metadata": {},
     "output_type": "execute_result"
    }
   ],
   "source": [
    "print(tab_2d)\n",
    "np.vsplit(tab_2d, 3)"
   ]
  },
  {
   "cell_type": "markdown",
   "id": "20b91a46-411b-46c1-9fe7-835f101c2b59",
   "metadata": {},
   "source": [
    "Ici j'ai indiqué le nombre de tableau que je souhaite avoir (ici 3).<br>\n",
    "**ATTENTION:** il faut que le nombre de tableau que tu souhaite avoir soit un diviseur de la dimension correspondante, c'est à dire qu'avec vsplit etant donné qu'on joue sur les lignes, il faut que le nombre de ligne soit un multiple du nombre de tableau que tu souhaite avoir.<br>Avec le hsplit c'est le nombre de colonne qui doit être un multiple du nombre de tableau que je souhaite avoir"
   ]
  },
  {
   "cell_type": "markdown",
   "id": "1b466923-857d-4491-8f4f-9cc1ab37da7a",
   "metadata": {},
   "source": [
    "On peut aussi multiplier les tableaux avec les méthode ````tile``` et ````repeat```.<br>\n",
    "tile agit comme un copier-coller et repeat comme une impression assemblée.<br>\n",
    "![Fonctions tile et repeat](https://miro.medium.com/max/720/1*kCClP8kiegtYZNyEdsCPbw.png)"
   ]
  },
  {
   "cell_type": "code",
   "execution_count": 84,
   "id": "ed3f24e6-332d-4afc-82ed-9d6776ace45b",
   "metadata": {},
   "outputs": [
    {
     "data": {
      "text/plain": [
       "array([[8, 2, 8, 2, 8, 2],\n",
       "       [3, 5, 3, 5, 3, 5],\n",
       "       [8, 2, 8, 2, 8, 2],\n",
       "       [3, 5, 3, 5, 3, 5]])"
      ]
     },
     "execution_count": 84,
     "metadata": {},
     "output_type": "execute_result"
    }
   ],
   "source": [
    "tab_2d = np.random.randint(2, 10, (2,2))\n",
    "np.tile(tab_2d, (2,3)) # copie de tab_2d en 2 lignes et 3 colonnes"
   ]
  },
  {
   "cell_type": "code",
   "execution_count": 87,
   "id": "0229a7b2-ad53-45b0-a57d-4b805e6e6776",
   "metadata": {},
   "outputs": [
    {
     "name": "stdout",
     "output_type": "stream",
     "text": [
      "[[8 8 8 2 2 2]\n",
      " [3 3 3 5 5 5]]\n"
     ]
    }
   ],
   "source": [
    "b = tab_2d.repeat(3, axis=1) # repetition sur la ligne\n",
    "print(b)"
   ]
  },
  {
   "cell_type": "code",
   "execution_count": 89,
   "id": "0ae08216-8d36-4fc7-88c0-0bca4773c303",
   "metadata": {},
   "outputs": [
    {
     "data": {
      "text/plain": [
       "array([[8, 8, 8, 2, 2, 2],\n",
       "       [8, 8, 8, 2, 2, 2],\n",
       "       [3, 3, 3, 5, 5, 5],\n",
       "       [3, 3, 3, 5, 5, 5]])"
      ]
     },
     "execution_count": 89,
     "metadata": {},
     "output_type": "execute_result"
    }
   ],
   "source": [
    "b.repeat(2, axis=0) # repetition sur la colonne"
   ]
  },
  {
   "cell_type": "markdown",
   "id": "424df208-0d58-456f-bf04-2628bc136d0d",
   "metadata": {},
   "source": [
    "![La fonction pad](https://miro.medium.com/max/720/1*nymIetfKC2vkbmNrxoSeGg.png)<br>\n",
    "La fonction ```pad``` permet d'ajouter des bordures de valeur a notre matrice.<br>\n",
    "```pad(matrice, ((top, bottom),(left, right)), constant_values=default_value)```"
   ]
  },
  {
   "cell_type": "code",
   "execution_count": null,
   "id": "0a6af262-d777-41b3-99aa-f98f68683924",
   "metadata": {},
   "outputs": [],
   "source": []
  }
 ],
 "metadata": {
  "kernelspec": {
   "display_name": "Python 3 (ipykernel)",
   "language": "python",
   "name": "python3"
  },
  "language_info": {
   "codemirror_mode": {
    "name": "ipython",
    "version": 3
   },
   "file_extension": ".py",
   "mimetype": "text/x-python",
   "name": "python",
   "nbconvert_exporter": "python",
   "pygments_lexer": "ipython3",
   "version": "3.9.13"
  }
 },
 "nbformat": 4,
 "nbformat_minor": 5
}
