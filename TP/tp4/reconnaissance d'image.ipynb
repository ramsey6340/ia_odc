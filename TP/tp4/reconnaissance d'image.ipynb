{
 "cells": [
  {
   "cell_type": "markdown",
   "id": "dec331ce-5f21-41e4-8cd4-8e90d008b831",
   "metadata": {},
   "source": [
    "# Reconnaissance de chiffre manuscrits"
   ]
  },
  {
   "cell_type": "markdown",
   "id": "2b143c2b-61cf-4be1-b13a-ced4b61f5ccb",
   "metadata": {},
   "source": [
    "## Problème d'apprentissage:\n",
    "L'objectif ici est de créer un model qui permet de reconnaitre les chiffres dans l'image qui lui a été founit.<br>\n",
    "Le model devra donc à la fin être capable de classifier correctement les images qu'on lui donne dans leurs classes respective. Il s'agit donc d'un problème de ```Classification```."
   ]
  },
  {
   "cell_type": "markdown",
   "id": "dc24ec56-e8a1-4fd0-91ce-87df5d67802f",
   "metadata": {},
   "source": [
    "## Importation des modules:"
   ]
  },
  {
   "cell_type": "code",
   "execution_count": 226,
   "id": "c7a2d6d2-0b3b-46db-bf6e-34e7af7311b2",
   "metadata": {},
   "outputs": [],
   "source": [
    "import pandas as pd\n",
    "import numpy as np\n",
    "import seaborn as sns\n",
    "import matplotlib.pyplot as plt\n",
    "# importation du module datatsets pour notre datatset\n",
    "from sklearn import datasets\n",
    "# importation du module pour l'utilisation de l'algorithme d'apprentissage SVM\n",
    "from sklearn import svm\n",
    "from sklearn.neighbors import KNeighborsClassifier\n",
    "# importation du module pour les différents metrique\n",
    "from sklearn import metrics\n",
    "# importation du module pour la division de nos données en données d'entrainement et de test\n",
    "from sklearn.model_selection import train_test_split"
   ]
  },
  {
   "cell_type": "markdown",
   "id": "bd046003-e101-466a-b981-54e7380e7de9",
   "metadata": {},
   "source": [
    "## Chargement du dataset:"
   ]
  },
  {
   "cell_type": "code",
   "execution_count": 200,
   "id": "5c28813b-7ba0-4767-a82e-967ef9611a41",
   "metadata": {},
   "outputs": [],
   "source": [
    "digits = datasets.load_digits()"
   ]
  },
  {
   "cell_type": "markdown",
   "id": "821d4a16-28ab-4d66-be59-bacd64fc19d8",
   "metadata": {},
   "source": [
    "## Exploration de données:"
   ]
  },
  {
   "cell_type": "markdown",
   "id": "a90e3012-bc89-4aea-afd0-964170f64372",
   "metadata": {},
   "source": [
    "### Bref description de l'ensemble de données:\n",
    "L'ensemble de données contient des images de chiffres écrits à la main : 10 classes où chaque classe fait référence à un chiffre.\n",
    "\n",
    "Les programmes de prétraitement mis à disposition par le NIST ont été utilisés pour extraire des bitmaps (Une image matricielle, ou « carte de points », est une image constituée d'une matrice de points colorés. C'est-à-dire, constituée d'un tableau, d'une grille, où chaque case possède une couleur qui lui est propre et est considérée comme un point) normalisés de chiffres manuscrits à partir d'un formulaire préimprimé. Sur un total de 43 personnes, 30 ont contribué à l'ensemble de formation et 13 autres à l'ensemble de test. Les bitmaps 32x32 sont divisés en blocs non superposés de 4x4 et le nombre de pixels est compté dans chaque bloc. Cela génère une matrice d'entrée de 8x8 où chaque élément est un entier dans la plage 0..16. Cela réduit la dimensionnalité et donne de l'invariance aux petites distorsions."
   ]
  },
  {
   "cell_type": "markdown",
   "id": "defb2ab6-ec75-4e15-b634-d5fe54f83cde",
   "metadata": {},
   "source": [
    "### Description des differents caracteristique du dataset:\n",
    "- ```digits.images```: il contient l'ensemble des images du dataset. Chaque image est répresenté sous forme de matrice de taile 8x8 pixels dont chaque valeur (valeur entière allant de 0 à 16) répresente le niveau de gris du pixel. En tout nous avons 1797 matrices, ie 1797 images. L'ensemble de ces 8x8 pixels donnent l'image d'un chiffre entre 0 et 9.\n",
    "- ```digits.data```: il contient l'ensemble des pixels d'une image sans tenir compte de l'horizontal ou de la vertical. Les 8 prémières valeur representent les 8 pixels de la prémière ligne de la matrice d'une image dans la colonne ```images```, et ainsi de suite.\n",
    "- ```digits.DESC```: la description du dataset.\n",
    "- ```digits.target_names```: nos different classe unique (de 0 à 9)\n",
    "- ```digits.target```: le target correspondant à chaque echantillon\n",
    "- ```digits.feature_names```: les noms donné à chaque valeur d'une ligne de la colonne \"data\"\n",
    "- ```digits.frame```: "
   ]
  },
  {
   "cell_type": "markdown",
   "id": "0d3b070d-904d-4632-990f-2c71cd43bc98",
   "metadata": {},
   "source": [
    "### Creation d'un data frame plus structuré:"
   ]
  },
  {
   "cell_type": "code",
   "execution_count": 201,
   "id": "34fbd991-6577-4eb7-86e7-bf21d5837970",
   "metadata": {},
   "outputs": [],
   "source": [
    "# on a pas besoin de la colonne DESC et la colonne target_names\n",
    "# DESC contient la description de l'ensemble de données\n",
    "# target_names contient nos 10 classes (0, 1, 2, 3, 4, 5, 6, 7, 8 et 9)\n",
    "\n",
    "df_digit = pd.DataFrame(\n",
    "    {\n",
    "        \"data\": [digits.data[i] for i in range(1797)], \n",
    "        \"target\": digits.target,\n",
    "        \"frame\": digits.frame,\n",
    "        \"feature_names\": [digits.feature_names for i in range(len(digits.data))],\n",
    "        \"images\": [digits.images[i] for i in range(1797)],\n",
    "    })\n"
   ]
  },
  {
   "cell_type": "code",
   "execution_count": 202,
   "id": "3826d97a-9353-42bf-bf3e-e700602151f2",
   "metadata": {},
   "outputs": [
    {
     "data": {
      "text/plain": [
       "(1797, 5)"
      ]
     },
     "execution_count": 202,
     "metadata": {},
     "output_type": "execute_result"
    }
   ],
   "source": [
    "# dimenssion du data frame\n",
    "df_digit.shape"
   ]
  },
  {
   "cell_type": "code",
   "execution_count": 203,
   "id": "313c233e-3b3d-4dd9-a323-38b1d7444d16",
   "metadata": {},
   "outputs": [
    {
     "data": {
      "text/plain": [
       "data                0\n",
       "target              0\n",
       "frame            1797\n",
       "feature_names       0\n",
       "images              0\n",
       "dtype: int64"
      ]
     },
     "execution_count": 203,
     "metadata": {},
     "output_type": "execute_result"
    }
   ],
   "source": [
    "# nombre de NaN dans chaque colonne\n",
    "df_digit.isna().sum()"
   ]
  },
  {
   "cell_type": "code",
   "execution_count": 204,
   "id": "f14c8739-b754-42cc-a9f6-c539ef1106c3",
   "metadata": {},
   "outputs": [
    {
     "data": {
      "text/plain": [
       "data                0\n",
       "target              0\n",
       "frame            1797\n",
       "feature_names       0\n",
       "images              0\n",
       "dtype: int64"
      ]
     },
     "execution_count": 204,
     "metadata": {},
     "output_type": "execute_result"
    }
   ],
   "source": [
    "# nombre de valeur null dans chaque colonne\n",
    "df_digit.isnull().sum()"
   ]
  },
  {
   "cell_type": "code",
   "execution_count": 205,
   "id": "3fb9796a-b3d6-426c-980d-98cb4dddb931",
   "metadata": {},
   "outputs": [
    {
     "data": {
      "text/plain": [
       "array([0, 1, 2, 3, 4, 5, 6, 7, 8, 9])"
      ]
     },
     "execution_count": 205,
     "metadata": {},
     "output_type": "execute_result"
    }
   ],
   "source": [
    "# nombre de classe\n",
    "df_digit.target.unique()"
   ]
  },
  {
   "cell_type": "markdown",
   "id": "cd48fc0e-391c-4656-ad4b-261843db790b",
   "metadata": {},
   "source": [
    "### Quelque manipulation du data frame:\n",
    "#### Affichage des differentes valeurs de la première ligne"
   ]
  },
  {
   "cell_type": "code",
   "execution_count": 206,
   "id": "ee22b1d9-fd3f-41af-b859-3581095b6f76",
   "metadata": {},
   "outputs": [
    {
     "data": {
      "text/plain": [
       "array([ 0.,  0.,  5., 13.,  9.,  1.,  0.,  0.,  0.,  0., 13., 15., 10.,\n",
       "       15.,  5.,  0.,  0.,  3., 15.,  2.,  0., 11.,  8.,  0.,  0.,  4.,\n",
       "       12.,  0.,  0.,  8.,  8.,  0.,  0.,  5.,  8.,  0.,  0.,  9.,  8.,\n",
       "        0.,  0.,  4., 11.,  0.,  1., 12.,  7.,  0.,  0.,  2., 14.,  5.,\n",
       "       10., 12.,  0.,  0.,  0.,  0.,  6., 13., 10.,  0.,  0.,  0.])"
      ]
     },
     "execution_count": 206,
     "metadata": {},
     "output_type": "execute_result"
    }
   ],
   "source": [
    "# les differents valeurs de pixel d'une image d'un digit rassemblé\n",
    "df_digit.loc[0,\"data\"]"
   ]
  },
  {
   "cell_type": "code",
   "execution_count": 207,
   "id": "b95cf2cb-6ad4-4a1a-a22f-63d56d238bc4",
   "metadata": {},
   "outputs": [
    {
     "data": {
      "text/plain": [
       "0"
      ]
     },
     "execution_count": 207,
     "metadata": {},
     "output_type": "execute_result"
    }
   ],
   "source": [
    "# la valeur réelle d'une image\n",
    "df_digit.loc[0,\"target\"]"
   ]
  },
  {
   "cell_type": "code",
   "execution_count": 208,
   "id": "e373c4f5-f936-4f7c-b400-c1a6ea412b50",
   "metadata": {},
   "outputs": [
    {
     "data": {
      "text/plain": [
       "array([[ 0.,  0.,  5., 13.,  9.,  1.,  0.,  0.],\n",
       "       [ 0.,  0., 13., 15., 10., 15.,  5.,  0.],\n",
       "       [ 0.,  3., 15.,  2.,  0., 11.,  8.,  0.],\n",
       "       [ 0.,  4., 12.,  0.,  0.,  8.,  8.,  0.],\n",
       "       [ 0.,  5.,  8.,  0.,  0.,  9.,  8.,  0.],\n",
       "       [ 0.,  4., 11.,  0.,  1., 12.,  7.,  0.],\n",
       "       [ 0.,  2., 14.,  5., 10., 12.,  0.,  0.],\n",
       "       [ 0.,  0.,  6., 13., 10.,  0.,  0.,  0.]])"
      ]
     },
     "execution_count": 208,
     "metadata": {},
     "output_type": "execute_result"
    }
   ],
   "source": [
    "# les differents valeurs de pixel d'une image d'un digit rassemblé de façon plus structuré (sous forme de matrice)\n",
    "df_digit.loc[0,\"images\"]"
   ]
  },
  {
   "cell_type": "code",
   "execution_count": 209,
   "id": "5f716c6d-4fe4-4432-b0e5-13f0bf9d59a1",
   "metadata": {},
   "outputs": [],
   "source": [
    "# les noms donné à chaque pixel de l'image du digit\n",
    "# df_digit.loc[0,\"feature_names\"]"
   ]
  },
  {
   "cell_type": "markdown",
   "id": "3cdeb4b9-8ebd-46c0-9972-d277edfda3ae",
   "metadata": {},
   "source": [
    "### Visualisation des 4 premières images: "
   ]
  },
  {
   "cell_type": "code",
   "execution_count": 210,
   "id": "2a554776-c706-406e-82d7-a25abbd57a22",
   "metadata": {},
   "outputs": [
    {
     "data": {
      "image/png": "[encoded data removed]",
      "text/plain": [
       "<Figure size 1000x300 with 4 Axes>"
      ]
     },
     "metadata": {},
     "output_type": "display_data"
    }
   ],
   "source": [
    "fig, axes = plt.subplots(nrows=1, ncols=4, figsize=(10, 3))\n",
    "for ax, image, label in zip(axes, df_digit[\"images\"], df_digit[\"target\"]):\n",
    "    ax.set_axis_off() # pour supprimer les graduations des axes\n",
    "    ax.imshow(image, cmap=plt.cm.gray_r, interpolation=\"nearest\") # pour afficher les données sous forme d'image\n",
    "    # cmap: definit la couleur\n",
    "    # interpolation: joue en quelque sorte sur la profondeur de la nuance de couleur ;)\n",
    "    ax.set_title(f\"Training: {label}\") # pour donner un titre à chaque image"
   ]
  },
  {
   "cell_type": "markdown",
   "id": "0dd9cd84-c143-4537-840e-97756c996ac7",
   "metadata": {},
   "source": [
    "### Différence avec nos autres dataset:\n",
    "- On différencie clairement nos X (données d'entrée) et nos Y (target)\n",
    "- Les donné sont déjà prétraité (l'encodage est fait, il n'y as pas de données manquante, etc.)\n",
    "- Les Caractéristique d'un echantillon sont en majeur partie des ensembles de données"
   ]
  },
  {
   "cell_type": "markdown",
   "id": "91fb1f46-535a-4ff7-904b-4e4de0131b61",
   "metadata": {},
   "source": [
    "## Classification:\n",
    "L'algorithme d'apprentissage qui sera utilsé est la ```SVM (Support Vector Machine)```"
   ]
  },
  {
   "cell_type": "markdown",
   "id": "9067b2d1-1a45-43e9-89e9-8f4eda6d5a81",
   "metadata": {},
   "source": [
    "### Creation du data frame contenant uniquement nos X et nos Y:\n",
    "Pour appliquer un classificateur sur ces données, nous allons recréer un data frame de taille ```n_samples x n_features```.<br>```n_samples``` est le nombre d'echantillons (1797) et ```n_features``` est le nombre de caracteristique de chaque echantillons (64 + 1, avec 1 qui correspond au target et 64 qui correspond au 8x8=64 pixel d'une image)."
   ]
  },
  {
   "cell_type": "code",
   "execution_count": 211,
   "id": "5f2a9198-c7a5-4adc-a2ef-706f49bde20a",
   "metadata": {},
   "outputs": [],
   "source": [
    "# Creation du data frame contenant les 64 colonnes pour les 8x8=64 pixels plus la target\n",
    "df_class = pd.DataFrame(data=digits.data, columns=df_digit.feature_names[0])\n",
    "df_class[\"taget\"] = df_digit.target"
   ]
  },
  {
   "cell_type": "code",
   "execution_count": 212,
   "id": "a6fd7052-4c62-4d96-ac6c-78818e11d4b8",
   "metadata": {},
   "outputs": [
    {
     "data": {
      "text/html": [
       "<div>\n",
       "<style scoped>\n",
       "    .dataframe tbody tr th:only-of-type {\n",
       "        vertical-align: middle;\n",
       "    }\n",
       "\n",
       "    .dataframe tbody tr th {\n",
       "        vertical-align: top;\n",
       "    }\n",
       "\n",
       "    .dataframe thead th {\n",
       "        text-align: right;\n",
       "    }\n",
       "</style>\n",
       "<table border=\"1\" class=\"dataframe\">\n",
       "  <thead>\n",
       "    <tr style=\"text-align: right;\">\n",
       "      <th></th>\n",
       "      <th>pixel_0_0</th>\n",
       "      <th>pixel_0_1</th>\n",
       "      <th>pixel_0_2</th>\n",
       "      <th>pixel_0_3</th>\n",
       "      <th>pixel_0_4</th>\n",
       "      <th>pixel_0_5</th>\n",
       "      <th>pixel_0_6</th>\n",
       "      <th>pixel_0_7</th>\n",
       "      <th>pixel_1_0</th>\n",
       "      <th>pixel_1_1</th>\n",
       "      <th>...</th>\n",
       "      <th>pixel_6_7</th>\n",
       "      <th>pixel_7_0</th>\n",
       "      <th>pixel_7_1</th>\n",
       "      <th>pixel_7_2</th>\n",
       "      <th>pixel_7_3</th>\n",
       "      <th>pixel_7_4</th>\n",
       "      <th>pixel_7_5</th>\n",
       "      <th>pixel_7_6</th>\n",
       "      <th>pixel_7_7</th>\n",
       "      <th>taget</th>\n",
       "    </tr>\n",
       "  </thead>\n",
       "  <tbody>\n",
       "    <tr>\n",
       "      <th>1794</th>\n",
       "      <td>0.0</td>\n",
       "      <td>0.0</td>\n",
       "      <td>1.0</td>\n",
       "      <td>11.0</td>\n",
       "      <td>15.0</td>\n",
       "      <td>1.0</td>\n",
       "      <td>0.0</td>\n",
       "      <td>0.0</td>\n",
       "      <td>0.0</td>\n",
       "      <td>0.0</td>\n",
       "      <td>...</td>\n",
       "      <td>0.0</td>\n",
       "      <td>0.0</td>\n",
       "      <td>0.0</td>\n",
       "      <td>2.0</td>\n",
       "      <td>9.0</td>\n",
       "      <td>13.0</td>\n",
       "      <td>6.0</td>\n",
       "      <td>0.0</td>\n",
       "      <td>0.0</td>\n",
       "      <td>8</td>\n",
       "    </tr>\n",
       "    <tr>\n",
       "      <th>1795</th>\n",
       "      <td>0.0</td>\n",
       "      <td>0.0</td>\n",
       "      <td>2.0</td>\n",
       "      <td>10.0</td>\n",
       "      <td>7.0</td>\n",
       "      <td>0.0</td>\n",
       "      <td>0.0</td>\n",
       "      <td>0.0</td>\n",
       "      <td>0.0</td>\n",
       "      <td>0.0</td>\n",
       "      <td>...</td>\n",
       "      <td>0.0</td>\n",
       "      <td>0.0</td>\n",
       "      <td>0.0</td>\n",
       "      <td>5.0</td>\n",
       "      <td>12.0</td>\n",
       "      <td>16.0</td>\n",
       "      <td>12.0</td>\n",
       "      <td>0.0</td>\n",
       "      <td>0.0</td>\n",
       "      <td>9</td>\n",
       "    </tr>\n",
       "    <tr>\n",
       "      <th>1796</th>\n",
       "      <td>0.0</td>\n",
       "      <td>0.0</td>\n",
       "      <td>10.0</td>\n",
       "      <td>14.0</td>\n",
       "      <td>8.0</td>\n",
       "      <td>1.0</td>\n",
       "      <td>0.0</td>\n",
       "      <td>0.0</td>\n",
       "      <td>0.0</td>\n",
       "      <td>2.0</td>\n",
       "      <td>...</td>\n",
       "      <td>0.0</td>\n",
       "      <td>0.0</td>\n",
       "      <td>1.0</td>\n",
       "      <td>8.0</td>\n",
       "      <td>12.0</td>\n",
       "      <td>14.0</td>\n",
       "      <td>12.0</td>\n",
       "      <td>1.0</td>\n",
       "      <td>0.0</td>\n",
       "      <td>8</td>\n",
       "    </tr>\n",
       "  </tbody>\n",
       "</table>\n",
       "<p>3 rows × 65 columns</p>\n",
       "</div>"
      ],
      "text/plain": [
       "      pixel_0_0  pixel_0_1  pixel_0_2  pixel_0_3  pixel_0_4  pixel_0_5  \\\n",
       "1794        0.0        0.0        1.0       11.0       15.0        1.0   \n",
       "1795        0.0        0.0        2.0       10.0        7.0        0.0   \n",
       "1796        0.0        0.0       10.0       14.0        8.0        1.0   \n",
       "\n",
       "      pixel_0_6  pixel_0_7  pixel_1_0  pixel_1_1  ...  pixel_6_7  pixel_7_0  \\\n",
       "1794        0.0        0.0        0.0        0.0  ...        0.0        0.0   \n",
       "1795        0.0        0.0        0.0        0.0  ...        0.0        0.0   \n",
       "1796        0.0        0.0        0.0        2.0  ...        0.0        0.0   \n",
       "\n",
       "      pixel_7_1  pixel_7_2  pixel_7_3  pixel_7_4  pixel_7_5  pixel_7_6  \\\n",
       "1794        0.0        2.0        9.0       13.0        6.0        0.0   \n",
       "1795        0.0        5.0       12.0       16.0       12.0        0.0   \n",
       "1796        1.0        8.0       12.0       14.0       12.0        1.0   \n",
       "\n",
       "      pixel_7_7  taget  \n",
       "1794        0.0      8  \n",
       "1795        0.0      9  \n",
       "1796        0.0      8  \n",
       "\n",
       "[3 rows x 65 columns]"
      ]
     },
     "execution_count": 212,
     "metadata": {},
     "output_type": "execute_result"
    }
   ],
   "source": [
    "df_class.tail(3)"
   ]
  },
  {
   "cell_type": "markdown",
   "id": "bea09d79-cc60-4904-9cd7-da53045f0213",
   "metadata": {},
   "source": [
    "#### Matrice de corrélation pour certaines colonne"
   ]
  },
  {
   "cell_type": "code",
   "execution_count": 213,
   "id": "705c9447-e9a1-4e79-b888-a3f855929e12",
   "metadata": {},
   "outputs": [
    {
     "data": {
      "image/png": "[encoded data removed]",
      "text/plain": [
       "<Figure size 800x600 with 2 Axes>"
      ]
     },
     "metadata": {},
     "output_type": "display_data"
    }
   ],
   "source": [
    "corr_df = df_class[[\"pixel_0_1\",\"pixel_0_2\",\"pixel_0_3\",\"pixel_0_4\"]].corr(method='pearson')\n",
    "\n",
    "plt.figure(figsize=(8, 6))\n",
    "sns.heatmap(corr_df, annot=True)\n",
    "plt.show()"
   ]
  },
  {
   "cell_type": "markdown",
   "id": "112e533b-c2d5-4848-863c-2d139ef74497",
   "metadata": {},
   "source": [
    "### Création des données X et Y:"
   ]
  },
  {
   "cell_type": "code",
   "execution_count": 214,
   "id": "1e8316cb-c6ce-46c0-bde8-c56b292e0992",
   "metadata": {},
   "outputs": [],
   "source": [
    "X = df_class.iloc[:, :64]\n",
    "Y = df_class.iloc[:, 64]"
   ]
  },
  {
   "cell_type": "code",
   "execution_count": 215,
   "id": "03f59166-4350-477e-abfd-76ea13662964",
   "metadata": {},
   "outputs": [],
   "source": [
    "# X\n",
    "# Y"
   ]
  },
  {
   "cell_type": "markdown",
   "id": "b5e71de7-c0e8-47b4-be4b-892858f7284b",
   "metadata": {},
   "source": [
    "### Creation du modèle:"
   ]
  },
  {
   "cell_type": "code",
   "execution_count": 237,
   "id": "380659a3-296f-4f6c-8695-1df61177a4c5",
   "metadata": {},
   "outputs": [],
   "source": [
    "# Création d'une instance de notre model\n",
    "model = svm.SVC(gamma=0.001)"
   ]
  },
  {
   "cell_type": "code",
   "execution_count": 238,
   "id": "8c8225a0-65da-4df9-b25b-f91cdc8b5538",
   "metadata": {},
   "outputs": [],
   "source": [
    "# model = KNeighborsClassifier(n_neighbors=5)"
   ]
  },
  {
   "cell_type": "code",
   "execution_count": 239,
   "id": "19fec1b6-f29a-4cf9-85a8-97c6aba46967",
   "metadata": {},
   "outputs": [],
   "source": [
    "# Séparation de notre data en données d'entrainement (80%) et de test (20%)\n",
    "x_train, x_test, y_train, y_test = train_test_split(X, Y, test_size=0.2, shuffle=False)"
   ]
  },
  {
   "cell_type": "code",
   "execution_count": 240,
   "id": "3ed8b38b-2e3c-46d1-bb6d-52ff0f54b44e",
   "metadata": {},
   "outputs": [
    {
     "data": {
      "text/html": [
       "<style>#sk-container-id-11 {color: black;background-color: white;}#sk-container-id-11 pre{padding: 0;}#sk-container-id-11 div.sk-toggleable {background-color: white;}#sk-container-id-11 label.sk-toggleable__label {cursor: pointer;display: block;width: 100%;margin-bottom: 0;padding: 0.3em;box-sizing: border-box;text-align: center;}#sk-container-id-11 label.sk-toggleable__label-arrow:before {content: \"▸\";float: left;margin-right: 0.25em;color: #696969;}#sk-container-id-11 label.sk-toggleable__label-arrow:hover:before {color: black;}#sk-container-id-11 div.sk-estimator:hover label.sk-toggleable__label-arrow:before {color: black;}#sk-container-id-11 div.sk-toggleable__content {max-height: 0;max-width: 0;overflow: hidden;text-align: left;background-color: #f0f8ff;}#sk-container-id-11 div.sk-toggleable__content pre {margin: 0.2em;color: black;border-radius: 0.25em;background-color: #f0f8ff;}#sk-container-id-11 input.sk-toggleable__control:checked~div.sk-toggleable__content {max-height: 200px;max-width: 100%;overflow: auto;}#sk-container-id-11 input.sk-toggleable__control:checked~label.sk-toggleable__label-arrow:before {content: \"▾\";}#sk-container-id-11 div.sk-estimator input.sk-toggleable__control:checked~label.sk-toggleable__label {background-color: #d4ebff;}#sk-container-id-11 div.sk-label input.sk-toggleable__control:checked~label.sk-toggleable__label {background-color: #d4ebff;}#sk-container-id-11 input.sk-hidden--visually {border: 0;clip: rect(1px 1px 1px 1px);clip: rect(1px, 1px, 1px, 1px);height: 1px;margin: -1px;overflow: hidden;padding: 0;position: absolute;width: 1px;}#sk-container-id-11 div.sk-estimator {font-family: monospace;background-color: #f0f8ff;border: 1px dotted black;border-radius: 0.25em;box-sizing: border-box;margin-bottom: 0.5em;}#sk-container-id-11 div.sk-estimator:hover {background-color: #d4ebff;}#sk-container-id-11 div.sk-parallel-item::after {content: \"\";width: 100%;border-bottom: 1px solid gray;flex-grow: 1;}#sk-container-id-11 div.sk-label:hover label.sk-toggleable__label {background-color: #d4ebff;}#sk-container-id-11 div.sk-serial::before {content: \"\";position: absolute;border-left: 1px solid gray;box-sizing: border-box;top: 0;bottom: 0;left: 50%;z-index: 0;}#sk-container-id-11 div.sk-serial {display: flex;flex-direction: column;align-items: center;background-color: white;padding-right: 0.2em;padding-left: 0.2em;position: relative;}#sk-container-id-11 div.sk-item {position: relative;z-index: 1;}#sk-container-id-11 div.sk-parallel {display: flex;align-items: stretch;justify-content: center;background-color: white;position: relative;}#sk-container-id-11 div.sk-item::before, #sk-container-id-11 div.sk-parallel-item::before {content: \"\";position: absolute;border-left: 1px solid gray;box-sizing: border-box;top: 0;bottom: 0;left: 50%;z-index: -1;}#sk-container-id-11 div.sk-parallel-item {display: flex;flex-direction: column;z-index: 1;position: relative;background-color: white;}#sk-container-id-11 div.sk-parallel-item:first-child::after {align-self: flex-end;width: 50%;}#sk-container-id-11 div.sk-parallel-item:last-child::after {align-self: flex-start;width: 50%;}#sk-container-id-11 div.sk-parallel-item:only-child::after {width: 0;}#sk-container-id-11 div.sk-dashed-wrapped {border: 1px dashed gray;margin: 0 0.4em 0.5em 0.4em;box-sizing: border-box;padding-bottom: 0.4em;background-color: white;}#sk-container-id-11 div.sk-label label {font-family: monospace;font-weight: bold;display: inline-block;line-height: 1.2em;}#sk-container-id-11 div.sk-label-container {text-align: center;}#sk-container-id-11 div.sk-container {/* jupyter's `normalize.less` sets `[hidden] { display: none; }` but bootstrap.min.css set `[hidden] { display: none !important; }` so we also need the `!important` here to be able to override the default hidden behavior on the sphinx rendered scikit-learn.org. See: https://github.com/scikit-learn/scikit-learn/issues/21755 */display: inline-block !important;position: relative;}#sk-container-id-11 div.sk-text-repr-fallback {display: none;}</style><div id=\"sk-container-id-11\" class=\"sk-top-container\"><div class=\"sk-text-repr-fallback\"><pre>SVC(gamma=0.001)</pre><b>In a Jupyter environment, please rerun this cell to show the HTML representation or trust the notebook. <br />On GitHub, the HTML representation is unable to render, please try loading this page with nbviewer.org.</b></div><div class=\"sk-container\" hidden><div class=\"sk-item\"><div class=\"sk-estimator sk-toggleable\"><input class=\"sk-toggleable__control sk-hidden--visually\" id=\"sk-estimator-id-11\" type=\"checkbox\" checked><label for=\"sk-estimator-id-11\" class=\"sk-toggleable__label sk-toggleable__label-arrow\">SVC</label><div class=\"sk-toggleable__content\"><pre>SVC(gamma=0.001)</pre></div></div></div></div></div>"
      ],
      "text/plain": [
       "SVC(gamma=0.001)"
      ]
     },
     "execution_count": 240,
     "metadata": {},
     "output_type": "execute_result"
    }
   ],
   "source": [
    "# Entrainement du model\n",
    "model.fit(x_train, y_train)"
   ]
  },
  {
   "cell_type": "code",
   "execution_count": 241,
   "id": "2e71fe25-67e3-4a2d-b882-0224b53d5c4d",
   "metadata": {},
   "outputs": [
    {
     "data": {
      "text/plain": [
       "0.9993041057759221"
      ]
     },
     "execution_count": 241,
     "metadata": {},
     "output_type": "execute_result"
    }
   ],
   "source": [
    "# Evaluation du score sur les données d'entrainement\n",
    "model.score(x_train, y_train)"
   ]
  },
  {
   "cell_type": "code",
   "execution_count": 242,
   "id": "553ba165-35bd-4eb7-a2a2-10e64914deaa",
   "metadata": {},
   "outputs": [],
   "source": [
    "# Prédiction\n",
    "predict  = model.predict(x_test)"
   ]
  },
  {
   "cell_type": "markdown",
   "id": "25deabd7-19fa-4c05-91bf-42a275e28ecc",
   "metadata": {},
   "source": [
    "#### Exemple de données predite"
   ]
  },
  {
   "cell_type": "code",
   "execution_count": 243,
   "id": "a0293f0b-da4f-4750-93d9-f10a983d09c9",
   "metadata": {},
   "outputs": [
    {
     "data": {
      "image/png": "[encoded data removed]",
      "text/plain": [
       "<Figure size 1000x300 with 4 Axes>"
      ]
     },
     "metadata": {},
     "output_type": "display_data"
    }
   ],
   "source": [
    "fig, axes = plt.subplots(nrows=1, ncols=4, figsize=(10, 3))\n",
    "for ax, image, label in zip(axes, x_test.values, predict):\n",
    "    image = image.reshape(8,8) # on fait un reshape à image pour passer d'un tableau de 1D de taille 64 à une matrice 2D de taille 8x8\n",
    "    ax.set_axis_off() # pour supprimer les graduations des axes\n",
    "    ax.imshow(image, cmap=plt.cm.gray_r, interpolation=\"nearest\") # pour afficher les données sous forme d'image\n",
    "    # cmap: definit la couleur\n",
    "    # interpolation: joue en quelque sorte sur la profondeur de la nuance de couleur ;)\n",
    "    ax.set_title(f\"Prédiction: {label}\") # pour donner un titre à chaque image"
   ]
  },
  {
   "cell_type": "markdown",
   "id": "e432152c-0678-43a1-a2f3-9aae91a8ed3e",
   "metadata": {},
   "source": [
    "### Métriques\n"
   ]
  },
  {
   "cell_type": "code",
   "execution_count": 244,
   "id": "abfe041f-6640-42d3-92d7-79f658950fbe",
   "metadata": {},
   "outputs": [
    {
     "data": {
      "text/plain": [
       "0.9583333333333334"
      ]
     },
     "execution_count": 244,
     "metadata": {},
     "output_type": "execute_result"
    }
   ],
   "source": [
    "metrics.accuracy_score(y_test, predict)"
   ]
  },
  {
   "cell_type": "code",
   "execution_count": 234,
   "id": "ba65ed9f-774f-4f5b-bf0f-fec5a5fa2262",
   "metadata": {},
   "outputs": [
    {
     "data": {
      "text/plain": [
       "360"
      ]
     },
     "execution_count": 234,
     "metadata": {},
     "output_type": "execute_result"
    }
   ],
   "source": [
    "len(y_test)"
   ]
  },
  {
   "cell_type": "code",
   "execution_count": 224,
   "id": "de19934d-5f79-40a0-b6e8-e9e1a895f349",
   "metadata": {},
   "outputs": [
    {
     "name": "stdout",
     "output_type": "stream",
     "text": [
      "Rapport des différents metrique du classificateur SVC(gamma=0.001) pour chacune de nos classe (0 à 9):\n",
      "              precision    recall  f1-score   support\n",
      "\n",
      "           0       1.00      0.97      0.99        35\n",
      "           1       0.97      1.00      0.99        36\n",
      "           2       1.00      1.00      1.00        35\n",
      "           3       0.97      0.81      0.88        37\n",
      "           4       0.97      0.92      0.94        37\n",
      "           5       0.93      1.00      0.96        37\n",
      "           6       1.00      1.00      1.00        37\n",
      "           7       0.97      1.00      0.99        36\n",
      "           8       0.84      0.94      0.89        33\n",
      "           9       0.95      0.95      0.95        37\n",
      "\n",
      "    accuracy                           0.96       360\n",
      "   macro avg       0.96      0.96      0.96       360\n",
      "weighted avg       0.96      0.96      0.96       360\n",
      "\n",
      "\n"
     ]
    }
   ],
   "source": [
    "print(\n",
    "    f\"Rapport des différents metrique du classificateur {model} pour chacune de nos classe (0 à 9):\\n\"\n",
    "    f\"{metrics.classification_report(y_test, predict)}\\n\"\n",
    ")"
   ]
  },
  {
   "cell_type": "code",
   "execution_count": 225,
   "id": "a630e371-4095-4deb-9add-91e0bf5ec5de",
   "metadata": {},
   "outputs": [
    {
     "name": "stdout",
     "output_type": "stream",
     "text": [
      "[[34  0  0  0  1  0  0  0  0  0]\n",
      " [ 0 36  0  0  0  0  0  0  0  0]\n",
      " [ 0  0 35  0  0  0  0  0  0  0]\n",
      " [ 0  0  0 30  0  2  0  1  4  0]\n",
      " [ 0  0  0  0 34  0  0  0  2  1]\n",
      " [ 0  0  0  0  0 37  0  0  0  0]\n",
      " [ 0  0  0  0  0  0 37  0  0  0]\n",
      " [ 0  0  0  0  0  0  0 36  0  0]\n",
      " [ 0  1  0  0  0  0  0  0 31  1]\n",
      " [ 0  0  0  1  0  1  0  0  0 35]]\n"
     ]
    },
    {
     "data": {
      "image/png": "[encoded data removed]",
      "text/plain": [
       "<Figure size 640x480 with 2 Axes>"
      ]
     },
     "metadata": {},
     "output_type": "display_data"
    }
   ],
   "source": [
    "# affichage de la matrice de confusion\n",
    "\n",
    "conf_matrix = metrics.ConfusionMatrixDisplay.from_predictions(y_test, predict)\n",
    "conf_matrix.figure_.suptitle(\"Matrice de confusion\")\n",
    "print(conf_matrix.confusion_matrix)\n",
    "plt.show()"
   ]
  },
  {
   "cell_type": "code",
   "execution_count": null,
   "id": "f6266c2e-1bc1-46e2-a9d6-0d7523b91fe0",
   "metadata": {},
   "outputs": [],
   "source": []
  }
 ],
 "metadata": {
  "kernelspec": {
   "display_name": "Python 3 (ipykernel)",
   "language": "python",
   "name": "python3"
  },
  "language_info": {
   "codemirror_mode": {
    "name": "ipython",
    "version": 3
   },
   "file_extension": ".py",
   "mimetype": "text/x-python",
   "name": "python",
   "nbconvert_exporter": "python",
   "pygments_lexer": "ipython3",
   "version": "3.9.13"
  }
 },
 "nbformat": 4,
 "nbformat_minor": 5
}
