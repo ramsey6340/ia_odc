{
 "cells": [
  {
   "cell_type": "markdown",
   "id": "a7c13804-d11e-4b3e-83a8-d1dab88a6c31",
   "metadata": {
    "tags": []
   },
   "source": [
    "# À propos de l'ensemble de données\n",
    "L'extraction a été effectuée par Barry Becker à partir de la base de données du recensement de 1994.\n",
    "La tâche de prédiction consiste à déterminer si une personne gagne plus de 50 000 par an.\n",
    "\n",
    " Les colonnes sont :\n",
    "- âge : continu. fnlwgt: final weight( poids final). En d'autres termes, c'est le nombre de personnes que le recensement estime\n",
    "- l'entrée représente\n",
    "- classe de travail : Privé, Auto-emploi-pas-inc, Auto-emploi-inc, Fédéral-gouv, Local-gouv, État-gouv, Sans salaire, Jamais travaillé.\n",
    "- fnlwgt : continu.\n",
    "- Scolarité : Licence, Some-collège, 11ème, HS-grad, Prof-école, Assoc-acdm, Assoc-voc, 9ème, 7ème-8ème, 12ème, Master, 1ère-4ème, 10ème, Doctorat, 5ème-6ème, Préscolaire.\n",
    "- education-num : continu.\n",
    "- état civil : Marié-civ-conjoint, Divorcé, Célibataire, Séparé, Veuf, Marié-conjoint-absent, Marié-AF-conjoint.\n",
    "- occupation : Support technique, Artisanat-réparation, Autre-service, Ventes, Cadre-cadre, Prof-spécialité, Manutentionnaires-nettoyeurs, Machine-op-inspct, Adm-clerical, Agriculture-pêche, Transport-déménagement, Priv-house- serv, Protecteur-serv, Armed-Forces.\n",
    "- lien de parenté : Épouse, Propre enfant, Époux, Hors famille, Autre parent, Célibataire.\n",
    "- race : Blanc, Asiatique-Pac-Insulaire, Amer-Indien-Esquimau, Autre, Noir.\n",
    "- sexe : Féminin, Masculin.\n",
    "- plus-value : continue.\n",
    "- moins-value : continue.\n",
    "- heures par semaine : continu.\n",
    "- pays d'origine : États-Unis, Cambodge, Angleterre, Porto-Rico, Canada, Allemagne, Outlying-US (Guam-USVI-etc), Inde, Japon, Grèce, Sud, Chine, Cuba, Iran, Honduras, Philippines, Italie , Pologne, Jamaïque, Vietnam, Mexique, Portugal, Irlande, France, République-Dominicaine, Laos, Equateur, Taïwan, Haïti, Colombie, Hongrie, Guatemala, Nicaragua, Ecosse, Thaïlande, Yougoslavie, El-Salvador, Trinadad&Tobago, Pérou, Hong , Hollande-Pays-Bas.\n",
    "- salaire : <=50K ou >50K\n",
    "\n",
    "## Lien du dataset:\n",
    "- Source : https://archive.ics.uci.edu/ml/datasets/Census+Income\n",
    "- Miniature : https://www.deskera.com/blog/net-salary/"
   ]
  },
  {
   "cell_type": "markdown",
   "id": "27978dc6-3503-47ad-94eb-68841b5fc4cf",
   "metadata": {},
   "source": [
    "Classification des prévisions salariales<br>\n",
    "Classification sur le salaire, qu'il soit inférieur à 50 000 ou supérieur à 50 000"
   ]
  },
  {
   "cell_type": "code",
   "execution_count": 6,
   "id": "e71e9c3a-2508-41e8-bf4d-ee9a9c59d964",
   "metadata": {},
   "outputs": [],
   "source": [
    "import numpy as np\n",
    "import pandas as pd\n",
    "import matplotlib.pyplot as plt\n",
    "import seaborn as sns\n",
    "from sklearn.model_selection import train_test_split\n",
    "from sklearn.neighbors import KNeighborsClassifier\n",
    "from sklearn.model_selection import train_test_split"
   ]
  },
  {
   "cell_type": "code",
   "execution_count": 7,
   "id": "e71c200e-37f7-4d06-ab97-070fcab06dfd",
   "metadata": {},
   "outputs": [],
   "source": [
    "data = pd.read_csv(\"../../datasets/salary.csv\")"
   ]
  },
  {
   "cell_type": "code",
   "execution_count": 8,
   "id": "794abd68-e4ed-456c-81be-1990a9e12647",
   "metadata": {},
   "outputs": [
    {
     "data": {
      "text/plain": [
       "(32561, 15)"
      ]
     },
     "execution_count": 8,
     "metadata": {},
     "output_type": "execute_result"
    }
   ],
   "source": [
    "data.shape"
   ]
  },
  {
   "cell_type": "code",
   "execution_count": 9,
   "id": "6bc8fe92-de67-4ad7-9656-af7b6bfb7b5e",
   "metadata": {},
   "outputs": [],
   "source": [
    "# for i in data.columns:\n",
    "#     print(\"Column : \",i)\n",
    "#     print(\"\\n\")\n",
    "#     print(data[i].value_counts())\n",
    "#     print(\"\\n\")"
   ]
  },
  {
   "cell_type": "code",
   "execution_count": 10,
   "id": "be1338b5-b852-42d2-a85d-f8d7ffbcd052",
   "metadata": {},
   "outputs": [],
   "source": [
    "# Data Preprocessing (Prétraitement des données)"
   ]
  },
  {
   "cell_type": "code",
   "execution_count": 11,
   "id": "db0c2bc1-f33c-4c98-b13d-7a1be5aa7fb2",
   "metadata": {},
   "outputs": [],
   "source": [
    "data['workclass'] = data['workclass'].replace(' ?', np.nan)\n",
    "data['occupation'] = data['occupation'].replace(\" ?\", np.nan)\n",
    "data['native-country'] = data['native-country'].replace(\" ?\", np.nan)"
   ]
  },
  {
   "cell_type": "code",
   "execution_count": 12,
   "id": "a915b22e-ffb5-4f71-8617-399b1e2c91f5",
   "metadata": {},
   "outputs": [],
   "source": [
    "# data.isna().sum()"
   ]
  },
  {
   "cell_type": "code",
   "execution_count": 13,
   "id": "596ecd4d-ae14-479d-a272-642684f025da",
   "metadata": {},
   "outputs": [],
   "source": [
    "data = data.dropna(how=\"any\")"
   ]
  },
  {
   "cell_type": "code",
   "execution_count": 14,
   "id": "132a0974-2d34-48ab-b194-693b834c4939",
   "metadata": {},
   "outputs": [],
   "source": [
    "# data.isna().sum()"
   ]
  },
  {
   "cell_type": "code",
   "execution_count": 15,
   "id": "32287bf7-cd7c-4b65-bb48-33377a026a1a",
   "metadata": {},
   "outputs": [],
   "source": [
    "# Exploratory Data Analysis"
   ]
  },
  {
   "cell_type": "code",
   "execution_count": 16,
   "id": "6f4acdee-b4b5-4e97-b24b-afb70d0ae49f",
   "metadata": {},
   "outputs": [],
   "source": [
    "# plt.figure(figsize=(10,10))\n",
    "# plt.style.use(\"fivethirtyeight\")\n",
    "# bins = range(0,100, 10)\n",
    "# plt.hist(data.age, bins=bins, edgecolor = \"black\", log = True)\n",
    "# plt.axvline(data.age.median(), color = \"red\")\n",
    "# plt.title(\"Age Distribution\")\n",
    "# plt.xlabel(\"Age\")\n",
    "# plt.show()"
   ]
  },
  {
   "cell_type": "code",
   "execution_count": 17,
   "id": "c0905ce9-9d87-4c7d-8445-249ea6d8111a",
   "metadata": {},
   "outputs": [],
   "source": [
    "# plt.figure(figsize=(10,10))\n",
    "# data.workclass.value_counts().plot(kind=\"bar\", color=\"blue\")\n",
    "# plt.xlabel(\"Workclass\")\n",
    "# plt.tight_layout()\n",
    "# plt.show()"
   ]
  },
  {
   "cell_type": "code",
   "execution_count": 18,
   "id": "fbc1b8e4-44ef-444c-a54f-85891d72ed98",
   "metadata": {},
   "outputs": [],
   "source": [
    "# plt.figure(figsize=(10,10))\n",
    "# plt.hist(data.fnlwgt, edgecolor=\"black\", color=\"red\", log=True)\n",
    "# plt.tight_layout()\n",
    "# plt.xlabel(\"fnlwgt\")\n",
    "# plt.show()"
   ]
  },
  {
   "cell_type": "code",
   "execution_count": 19,
   "id": "e2b16d6a-3b92-442e-b2d3-060636757c7e",
   "metadata": {},
   "outputs": [],
   "source": [
    "# plt.figure(figsize=(15,15))\n",
    "# data['education'].value_counts().plot(kind='bar', color = \"green\")\n",
    "# plt.xlabel(\"Education\")\n",
    "# plt.show()"
   ]
  },
  {
   "cell_type": "code",
   "execution_count": 20,
   "id": "998f305d-6470-4522-81f8-b6dcc87a8f44",
   "metadata": {},
   "outputs": [],
   "source": [
    "# plt.figure(figsize=(10,10))\n",
    "# bins = [1,2,3,4,5,6,7,8,9,10,11,12,13,14,15,16,17]\n",
    "# plt.hist(data[\"education-num\"], edgecolor=\"black\", bins = bins, color = \"orange\")\n",
    "# plt.axvline(data[\"education-num\"].median(), color=\"purple\")\n",
    "# plt.title(\"Education Number Distribution\")\n",
    "# plt.xlabel(\"Education Number\")\n",
    "# plt.show()"
   ]
  },
  {
   "cell_type": "code",
   "execution_count": 21,
   "id": "d5cb7679-2b15-4073-b571-6e7bf0893f67",
   "metadata": {},
   "outputs": [],
   "source": [
    "# plt.figure(figsize=(10,10))\n",
    "# data['occupation'].value_counts().plot(kind=\"bar\", color = \"cyan\", edgecolor=\"black\")\n",
    "# plt.title(\"Occupation\")\n",
    "# plt.show()"
   ]
  },
  {
   "cell_type": "code",
   "execution_count": 22,
   "id": "6e627e63-afc2-4389-9021-6a2af4279e5b",
   "metadata": {},
   "outputs": [],
   "source": [
    "# data[\"marital-status\"].value_counts()"
   ]
  },
  {
   "cell_type": "code",
   "execution_count": 23,
   "id": "09e026cd-ccc2-4035-8d60-e75cd840347a",
   "metadata": {},
   "outputs": [],
   "source": [
    "df = data[[\"age\",\"fnlwgt\",\"education-num\",\"marital-status\",\"sex\",\"capital-gain\",\"capital-loss\",\"hours-per-week\",\"salary\"]]"
   ]
  },
  {
   "cell_type": "code",
   "execution_count": 24,
   "id": "91def58e-cd17-43a8-918c-dce4034fa90f",
   "metadata": {},
   "outputs": [],
   "source": [
    "# df.head(2)"
   ]
  },
  {
   "cell_type": "code",
   "execution_count": 25,
   "id": "02fc0475-4648-4a5f-8f5e-f1a56e4da67f",
   "metadata": {},
   "outputs": [
    {
     "name": "stderr",
     "output_type": "stream",
     "text": [
      "C:\\Users\\USER\\AppData\\Local\\Temp\\ipykernel_14344\\1167040817.py:1: SettingWithCopyWarning: \n",
      "A value is trying to be set on a copy of a slice from a DataFrame\n",
      "\n",
      "See the caveats in the documentation: https://pandas.pydata.org/pandas-docs/stable/user_guide/indexing.html#returning-a-view-versus-a-copy\n",
      "  df[\"sex\"].replace([\"Male\", \"Female\"], [0,1], inplace = True, regex=True)\n",
      "C:\\Users\\USER\\AppData\\Local\\Temp\\ipykernel_14344\\1167040817.py:2: SettingWithCopyWarning: \n",
      "A value is trying to be set on a copy of a slice from a DataFrame\n",
      "\n",
      "See the caveats in the documentation: https://pandas.pydata.org/pandas-docs/stable/user_guide/indexing.html#returning-a-view-versus-a-copy\n",
      "  df[\"marital-status\"].replace([\"Never-married\",\"Divorced\",\"Separated\",\"Widowed\"],0, inplace = True, regex=True)\n",
      "C:\\Users\\USER\\AppData\\Local\\Temp\\ipykernel_14344\\1167040817.py:3: SettingWithCopyWarning: \n",
      "A value is trying to be set on a copy of a slice from a DataFrame\n",
      "\n",
      "See the caveats in the documentation: https://pandas.pydata.org/pandas-docs/stable/user_guide/indexing.html#returning-a-view-versus-a-copy\n",
      "  df[\"marital-status\"].replace([\"Married-civ-spouse\",\"Married-spouse-absent\",\"Married-AF-spouse\"],1, inplace = True, regex=True)\n"
     ]
    }
   ],
   "source": [
    "df[\"sex\"].replace([\"Male\", \"Female\"], [0,1], inplace = True, regex=True)\n",
    "df[\"marital-status\"].replace([\"Never-married\",\"Divorced\",\"Separated\",\"Widowed\"],0, inplace = True, regex=True)\n",
    "df[\"marital-status\"].replace([\"Married-civ-spouse\",\"Married-spouse-absent\",\"Married-AF-spouse\"],1, inplace = True, regex=True)"
   ]
  },
  {
   "cell_type": "code",
   "execution_count": 26,
   "id": "a13a6523-8204-4ec7-9632-46e00b5a14c5",
   "metadata": {},
   "outputs": [],
   "source": [
    "# df.info()"
   ]
  },
  {
   "cell_type": "code",
   "execution_count": 27,
   "id": "2cde4b17-f03e-47cc-9fd9-c924d400115f",
   "metadata": {},
   "outputs": [],
   "source": [
    "y = df[\"salary\"]\n",
    "df_x = df.drop(\"salary\", axis = 1)\n",
    "x_train , x_test , y_train , y_test = train_test_split(df_x,y,test_size = 0.2 , random_state = 42)"
   ]
  },
  {
   "cell_type": "code",
   "execution_count": 31,
   "id": "f2cadaba-5f56-4818-abf8-4b86a569d6e5",
   "metadata": {},
   "outputs": [
    {
     "data": {
      "text/html": [
       "<style>#sk-container-id-2 {color: black;background-color: white;}#sk-container-id-2 pre{padding: 0;}#sk-container-id-2 div.sk-toggleable {background-color: white;}#sk-container-id-2 label.sk-toggleable__label {cursor: pointer;display: block;width: 100%;margin-bottom: 0;padding: 0.3em;box-sizing: border-box;text-align: center;}#sk-container-id-2 label.sk-toggleable__label-arrow:before {content: \"▸\";float: left;margin-right: 0.25em;color: #696969;}#sk-container-id-2 label.sk-toggleable__label-arrow:hover:before {color: black;}#sk-container-id-2 div.sk-estimator:hover label.sk-toggleable__label-arrow:before {color: black;}#sk-container-id-2 div.sk-toggleable__content {max-height: 0;max-width: 0;overflow: hidden;text-align: left;background-color: #f0f8ff;}#sk-container-id-2 div.sk-toggleable__content pre {margin: 0.2em;color: black;border-radius: 0.25em;background-color: #f0f8ff;}#sk-container-id-2 input.sk-toggleable__control:checked~div.sk-toggleable__content {max-height: 200px;max-width: 100%;overflow: auto;}#sk-container-id-2 input.sk-toggleable__control:checked~label.sk-toggleable__label-arrow:before {content: \"▾\";}#sk-container-id-2 div.sk-estimator input.sk-toggleable__control:checked~label.sk-toggleable__label {background-color: #d4ebff;}#sk-container-id-2 div.sk-label input.sk-toggleable__control:checked~label.sk-toggleable__label {background-color: #d4ebff;}#sk-container-id-2 input.sk-hidden--visually {border: 0;clip: rect(1px 1px 1px 1px);clip: rect(1px, 1px, 1px, 1px);height: 1px;margin: -1px;overflow: hidden;padding: 0;position: absolute;width: 1px;}#sk-container-id-2 div.sk-estimator {font-family: monospace;background-color: #f0f8ff;border: 1px dotted black;border-radius: 0.25em;box-sizing: border-box;margin-bottom: 0.5em;}#sk-container-id-2 div.sk-estimator:hover {background-color: #d4ebff;}#sk-container-id-2 div.sk-parallel-item::after {content: \"\";width: 100%;border-bottom: 1px solid gray;flex-grow: 1;}#sk-container-id-2 div.sk-label:hover label.sk-toggleable__label {background-color: #d4ebff;}#sk-container-id-2 div.sk-serial::before {content: \"\";position: absolute;border-left: 1px solid gray;box-sizing: border-box;top: 0;bottom: 0;left: 50%;z-index: 0;}#sk-container-id-2 div.sk-serial {display: flex;flex-direction: column;align-items: center;background-color: white;padding-right: 0.2em;padding-left: 0.2em;position: relative;}#sk-container-id-2 div.sk-item {position: relative;z-index: 1;}#sk-container-id-2 div.sk-parallel {display: flex;align-items: stretch;justify-content: center;background-color: white;position: relative;}#sk-container-id-2 div.sk-item::before, #sk-container-id-2 div.sk-parallel-item::before {content: \"\";position: absolute;border-left: 1px solid gray;box-sizing: border-box;top: 0;bottom: 0;left: 50%;z-index: -1;}#sk-container-id-2 div.sk-parallel-item {display: flex;flex-direction: column;z-index: 1;position: relative;background-color: white;}#sk-container-id-2 div.sk-parallel-item:first-child::after {align-self: flex-end;width: 50%;}#sk-container-id-2 div.sk-parallel-item:last-child::after {align-self: flex-start;width: 50%;}#sk-container-id-2 div.sk-parallel-item:only-child::after {width: 0;}#sk-container-id-2 div.sk-dashed-wrapped {border: 1px dashed gray;margin: 0 0.4em 0.5em 0.4em;box-sizing: border-box;padding-bottom: 0.4em;background-color: white;}#sk-container-id-2 div.sk-label label {font-family: monospace;font-weight: bold;display: inline-block;line-height: 1.2em;}#sk-container-id-2 div.sk-label-container {text-align: center;}#sk-container-id-2 div.sk-container {/* jupyter's `normalize.less` sets `[hidden] { display: none; }` but bootstrap.min.css set `[hidden] { display: none !important; }` so we also need the `!important` here to be able to override the default hidden behavior on the sphinx rendered scikit-learn.org. See: https://github.com/scikit-learn/scikit-learn/issues/21755 */display: inline-block !important;position: relative;}#sk-container-id-2 div.sk-text-repr-fallback {display: none;}</style><div id=\"sk-container-id-2\" class=\"sk-top-container\"><div class=\"sk-text-repr-fallback\"><pre>KNeighborsClassifier(metric=&#x27;manhattan&#x27;, n_neighbors=25)</pre><b>In a Jupyter environment, please rerun this cell to show the HTML representation or trust the notebook. <br />On GitHub, the HTML representation is unable to render, please try loading this page with nbviewer.org.</b></div><div class=\"sk-container\" hidden><div class=\"sk-item\"><div class=\"sk-estimator sk-toggleable\"><input class=\"sk-toggleable__control sk-hidden--visually\" id=\"sk-estimator-id-2\" type=\"checkbox\" checked><label for=\"sk-estimator-id-2\" class=\"sk-toggleable__label sk-toggleable__label-arrow\">KNeighborsClassifier</label><div class=\"sk-toggleable__content\"><pre>KNeighborsClassifier(metric=&#x27;manhattan&#x27;, n_neighbors=25)</pre></div></div></div></div></div>"
      ],
      "text/plain": [
       "KNeighborsClassifier(metric='manhattan', n_neighbors=25)"
      ]
     },
     "execution_count": 31,
     "metadata": {},
     "output_type": "execute_result"
    }
   ],
   "source": [
    "model = KNeighborsClassifier(n_neighbors = 25, metric='manhattan')\n",
    "model.fit(x_train,y_train)"
   ]
  },
  {
   "cell_type": "code",
   "execution_count": 29,
   "id": "fb0d45b7-e970-4a47-ae06-dc9ef4681cba",
   "metadata": {},
   "outputs": [
    {
     "data": {
      "text/plain": [
       "0.7998259355961705"
      ]
     },
     "execution_count": 29,
     "metadata": {},
     "output_type": "execute_result"
    }
   ],
   "source": [
    "model.score(x_train,y_train)"
   ]
  },
  {
   "cell_type": "code",
   "execution_count": 32,
   "id": "a284a800-3dd7-4739-b8eb-b844ad9ba48f",
   "metadata": {},
   "outputs": [
    {
     "data": {
      "text/plain": [
       "0.7896568871208354"
      ]
     },
     "execution_count": 32,
     "metadata": {},
     "output_type": "execute_result"
    }
   ],
   "source": [
    "model.score(x_test,y_test)"
   ]
  },
  {
   "cell_type": "code",
   "execution_count": null,
   "id": "36de11b8-c324-432c-aef0-49cd15330a2a",
   "metadata": {},
   "outputs": [],
   "source": []
  }
 ],
 "metadata": {
  "kernelspec": {
   "display_name": "Python 3 (ipykernel)",
   "language": "python",
   "name": "python3"
  },
  "language_info": {
   "codemirror_mode": {
    "name": "ipython",
    "version": 3
   },
   "file_extension": ".py",
   "mimetype": "text/x-python",
   "name": "python",
   "nbconvert_exporter": "python",
   "pygments_lexer": "ipython3",
   "version": "3.9.13"
  }
 },
 "nbformat": 4,
 "nbformat_minor": 5
}
