{
 "cells": [
  {
   "cell_type": "markdown",
   "id": "a7c13804-d11e-4b3e-83a8-d1dab88a6c31",
   "metadata": {
    "tags": []
   },
   "source": [
    "# À propos de l'ensemble de données\n",
    "L'extraction a été effectuée par Barry Becker à partir de la base de données du recensement de 1994.\n",
    "La tâche de prédiction consiste à déterminer si une personne gagne plus de 50 000 par an.\n",
    "\n",
    " Les colonnes sont :\n",
    "- âge : continu. fnlwgt: final weight( poids final). En d'autres termes, c'est le nombre de personnes que le recensement estime\n",
    "- l'entrée représente\n",
    "- classe de travail : Privé, Auto-emploi-pas-inc, Auto-emploi-inc, Fédéral-gouv, Local-gouv, État-gouv, Sans salaire, Jamais travaillé.\n",
    "- fnlwgt : continu.\n",
    "- Scolarité : Licence, Some-collège, 11ème, HS-grad, Prof-école, Assoc-acdm, Assoc-voc, 9ème, 7ème-8ème, 12ème, Master, 1ère-4ème, 10ème, Doctorat, 5ème-6ème, Préscolaire.\n",
    "- education-num : continu.\n",
    "- état civil : Marié-civ-conjoint, Divorcé, Célibataire, Séparé, Veuf, Marié-conjoint-absent, Marié-AF-conjoint.\n",
    "- occupation : Support technique, Artisanat-réparation, Autre-service, Ventes, Cadre-cadre, Prof-spécialité, Manutentionnaires-nettoyeurs, Machine-op-inspct, Adm-clerical, Agriculture-pêche, Transport-déménagement, Priv-house- serv, Protecteur-serv, Armed-Forces.\n",
    "- lien de parenté : Épouse, Propre enfant, Époux, Hors famille, Autre parent, Célibataire.\n",
    "- race : Blanc, Asiatique-Pac-Insulaire, Amer-Indien-Esquimau, Autre, Noir.\n",
    "- sexe : Féminin, Masculin.\n",
    "- plus-value : continue.\n",
    "- moins-value : continue.\n",
    "- heures par semaine : continu.\n",
    "- pays d'origine : États-Unis, Cambodge, Angleterre, Porto-Rico, Canada, Allemagne, Outlying-US (Guam-USVI-etc), Inde, Japon, Grèce, Sud, Chine, Cuba, Iran, Honduras, Philippines, Italie , Pologne, Jamaïque, Vietnam, Mexique, Portugal, Irlande, France, République-Dominicaine, Laos, Equateur, Taïwan, Haïti, Colombie, Hongrie, Guatemala, Nicaragua, Ecosse, Thaïlande, Yougoslavie, El-Salvador, Trinadad&Tobago, Pérou, Hong , Hollande-Pays-Bas.\n",
    "- salaire : <=50K ou >50K\n",
    "\n",
    "## Lien du dataset:\n",
    "- Source : https://archive.ics.uci.edu/ml/datasets/Census+Income\n",
    "- Miniature : https://www.deskera.com/blog/net-salary/"
   ]
  },
  {
   "cell_type": "markdown",
   "id": "27978dc6-3503-47ad-94eb-68841b5fc4cf",
   "metadata": {},
   "source": [
    "Classification des prévisions salariales<br>\n",
    "Classification sur le salaire, qu'il soit inférieur à 50 000 ou supérieur à 50 000"
   ]
  },
  {
   "cell_type": "code",
   "execution_count": 1,
   "id": "e71e9c3a-2508-41e8-bf4d-ee9a9c59d964",
   "metadata": {},
   "outputs": [],
   "source": [
    "import numpy as np\n",
    "import pandas as pd\n",
    "import matplotlib.pyplot as plt\n",
    "import seaborn as sns\n",
    "from sklearn.preprocessing import LabelEncoder\n",
    "from sklearn.model_selection import train_test_split, cross_val_predict\n",
    "from sklearn.neighbors import KNeighborsRegressor, KNeighborsClassifier\n",
    "from sklearn.linear_model import LogisticRegression\n",
    "from sklearn.model_selection import train_test_split, cross_val_score, GridSearchCV,StratifiedKFold, KFold\n",
    "from sklearn.metrics import accuracy_score, confusion_matrix, recall_score, precision_score, mean_squared_error"
   ]
  },
  {
   "cell_type": "code",
   "execution_count": 3,
   "id": "e71c200e-37f7-4d06-ab97-070fcab06dfd",
   "metadata": {},
   "outputs": [],
   "source": [
    "data = pd.read_csv(\"../../datasets/salary.csv\")"
   ]
  },
  {
   "cell_type": "code",
   "execution_count": 1,
   "id": "794abd68-e4ed-456c-81be-1990a9e12647",
   "metadata": {},
   "outputs": [],
   "source": [
    "# data.head()"
   ]
  },
  {
   "cell_type": "code",
   "execution_count": 2,
   "id": "6bc8fe92-de67-4ad7-9656-af7b6bfb7b5e",
   "metadata": {},
   "outputs": [],
   "source": [
    "# for i in data.columns:\n",
    "#     print(\"Column : \",i)\n",
    "#     print(\"\\n\")\n",
    "#     print(data[i].value_counts())\n",
    "#     print(\"\\n\")"
   ]
  },
  {
   "cell_type": "code",
   "execution_count": 6,
   "id": "be1338b5-b852-42d2-a85d-f8d7ffbcd052",
   "metadata": {},
   "outputs": [],
   "source": [
    "# Data Preprocessing (Prétraitement des données)"
   ]
  },
  {
   "cell_type": "code",
   "execution_count": 3,
   "id": "db0c2bc1-f33c-4c98-b13d-7a1be5aa7fb2",
   "metadata": {},
   "outputs": [],
   "source": [
    "# data['workclass'] = data['workclass'].replace(' ?', np.nan)\n",
    "# data['occupation'] = data['occupation'].replace(\" ?\", np.nan)\n",
    "# data['native-country'] = data['native-country'].replace(\" ?\", np.nan)"
   ]
  },
  {
   "cell_type": "code",
   "execution_count": 4,
   "id": "a915b22e-ffb5-4f71-8617-399b1e2c91f5",
   "metadata": {},
   "outputs": [],
   "source": [
    "# data.isna().sum()"
   ]
  },
  {
   "cell_type": "code",
   "execution_count": 5,
   "id": "596ecd4d-ae14-479d-a272-642684f025da",
   "metadata": {},
   "outputs": [],
   "source": [
    "# data = data.dropna(how=\"any\")"
   ]
  },
  {
   "cell_type": "code",
   "execution_count": 6,
   "id": "132a0974-2d34-48ab-b194-693b834c4939",
   "metadata": {},
   "outputs": [],
   "source": [
    "# data.isna().sum()"
   ]
  },
  {
   "cell_type": "code",
   "execution_count": 11,
   "id": "32287bf7-cd7c-4b65-bb48-33377a026a1a",
   "metadata": {},
   "outputs": [],
   "source": [
    "# Exploratory Data Analysis"
   ]
  },
  {
   "cell_type": "code",
   "execution_count": 7,
   "id": "6f4acdee-b4b5-4e97-b24b-afb70d0ae49f",
   "metadata": {},
   "outputs": [],
   "source": [
    "# plt.figure(figsize=(10,10))\n",
    "# plt.style.use(\"fivethirtyeight\")\n",
    "# bins = range(0,100, 10)\n",
    "# plt.hist(data.age, bins=bins, edgecolor = \"black\", log = True)\n",
    "# plt.axvline(data.age.median(), color = \"red\")\n",
    "# plt.title(\"Age Distribution\")\n",
    "# plt.xlabel(\"Age\")\n",
    "# plt.show()"
   ]
  },
  {
   "cell_type": "code",
   "execution_count": 8,
   "id": "c0905ce9-9d87-4c7d-8445-249ea6d8111a",
   "metadata": {},
   "outputs": [],
   "source": [
    "# plt.figure(figsize=(10,10))\n",
    "# data.workclass.value_counts().plot(kind=\"bar\", color=\"blue\")\n",
    "# plt.xlabel(\"Workclass\")\n",
    "# plt.tight_layout()\n",
    "# plt.show()"
   ]
  },
  {
   "cell_type": "code",
   "execution_count": 9,
   "id": "fbc1b8e4-44ef-444c-a54f-85891d72ed98",
   "metadata": {},
   "outputs": [],
   "source": [
    "# plt.figure(figsize=(10,10))\n",
    "# plt.hist(data.fnlwgt, edgecolor=\"black\", color=\"red\", log=True)\n",
    "# plt.tight_layout()\n",
    "# plt.xlabel(\"fnlwgt\")\n",
    "# plt.show()"
   ]
  },
  {
   "cell_type": "code",
   "execution_count": 10,
   "id": "e2b16d6a-3b92-442e-b2d3-060636757c7e",
   "metadata": {},
   "outputs": [],
   "source": [
    "# plt.figure(figsize=(15,15))\n",
    "# data['education'].value_counts().plot(kind='bar', color = \"green\")\n",
    "# plt.xlabel(\"Education\")\n",
    "# plt.show()"
   ]
  },
  {
   "cell_type": "code",
   "execution_count": 11,
   "id": "998f305d-6470-4522-81f8-b6dcc87a8f44",
   "metadata": {},
   "outputs": [],
   "source": [
    "# plt.figure(figsize=(10,10))\n",
    "# bins = [1,2,3,4,5,6,7,8,9,10,11,12,13,14,15,16,17]\n",
    "# plt.hist(data[\"education-num\"], edgecolor=\"black\", bins = bins, color = \"orange\")\n",
    "# plt.axvline(data[\"education-num\"].median(), color=\"purple\")\n",
    "# plt.title(\"Education Number Distribution\")\n",
    "# plt.xlabel(\"Education Number\")\n",
    "# plt.show()"
   ]
  },
  {
   "cell_type": "code",
   "execution_count": 12,
   "id": "d5cb7679-2b15-4073-b571-6e7bf0893f67",
   "metadata": {},
   "outputs": [],
   "source": [
    "# plt.figure(figsize=(10,10))\n",
    "# data['occupation'].value_counts().plot(kind=\"bar\", color = \"cyan\", edgecolor=\"black\")\n",
    "# plt.title(\"Occupation\")\n",
    "# plt.show()"
   ]
  },
  {
   "cell_type": "code",
   "execution_count": 13,
   "id": "6e627e63-afc2-4389-9021-6a2af4279e5b",
   "metadata": {},
   "outputs": [],
   "source": [
    "# data[\"marital-status\"].value_counts()"
   ]
  },
  {
   "cell_type": "code",
   "execution_count": 14,
   "id": "09e026cd-ccc2-4035-8d60-e75cd840347a",
   "metadata": {},
   "outputs": [],
   "source": [
    "# df = data[[\"age\",\"fnlwgt\",\"education-num\",\"marital-status\",\"sex\",\"capital-gain\",\"capital-loss\",\"hours-per-week\",\"salary\"]]"
   ]
  },
  {
   "cell_type": "code",
   "execution_count": 15,
   "id": "91def58e-cd17-43a8-918c-dce4034fa90f",
   "metadata": {},
   "outputs": [],
   "source": [
    "# df.head(2)"
   ]
  },
  {
   "cell_type": "code",
   "execution_count": 16,
   "id": "02fc0475-4648-4a5f-8f5e-f1a56e4da67f",
   "metadata": {},
   "outputs": [],
   "source": [
    "# df[\"sex\"].replace([\"Male\", \"Female\"], [0,1], inplace = True, regex=True)\n",
    "# df[\"marital-status\"].replace([\"Never-married\",\"Divorced\",\"Separated\",\"Widowed\"],0, inplace = True, regex=True)\n",
    "# df[\"marital-status\"].replace([\"Married-civ-spouse\",\"Married-spouse-absent\",\"Married-AF-spouse\"],1, inplace = True, regex=True)"
   ]
  },
  {
   "cell_type": "code",
   "execution_count": 17,
   "id": "a13a6523-8204-4ec7-9632-46e00b5a14c5",
   "metadata": {},
   "outputs": [],
   "source": [
    "# df.info()"
   ]
  },
  {
   "cell_type": "code",
   "execution_count": 18,
   "id": "2cde4b17-f03e-47cc-9fd9-c924d400115f",
   "metadata": {},
   "outputs": [],
   "source": [
    "# y = df[\"salary\"]\n",
    "# df_x = df.drop(\"salary\", axis = 1)\n",
    "# x_train , x_test , y_train , y_test = train_test_split(df_x,y,test_size = 0.2 , random_state = 42)"
   ]
  },
  {
   "cell_type": "code",
   "execution_count": 19,
   "id": "f2cadaba-5f56-4818-abf8-4b86a569d6e5",
   "metadata": {},
   "outputs": [],
   "source": [
    "# model = KNeighborsClassifier(n_neighbors = 25)\n",
    "# model.fit(x_train,y_train)"
   ]
  },
  {
   "cell_type": "code",
   "execution_count": 20,
   "id": "a284a800-3dd7-4739-b8eb-b844ad9ba48f",
   "metadata": {},
   "outputs": [],
   "source": [
    "# model.score(x_test,y_test)"
   ]
  },
  {
   "cell_type": "code",
   "execution_count": null,
   "id": "36de11b8-c324-432c-aef0-49cd15330a2a",
   "metadata": {},
   "outputs": [],
   "source": []
  }
 ],
 "metadata": {
  "kernelspec": {
   "display_name": "Python 3 (ipykernel)",
   "language": "python",
   "name": "python3"
  },
  "language_info": {
   "codemirror_mode": {
    "name": "ipython",
    "version": 3
   },
   "file_extension": ".py",
   "mimetype": "text/x-python",
   "name": "python",
   "nbconvert_exporter": "python",
   "pygments_lexer": "ipython3",
   "version": "3.9.13"
  }
 },
 "nbformat": 4,
 "nbformat_minor": 5
}
