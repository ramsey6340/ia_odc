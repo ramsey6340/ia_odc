{
 "cells": [
  {
   "cell_type": "markdown",
   "id": "e7e98b24-1efd-4122-9a12-69c8fb66586a",
   "metadata": {},
   "source": [
    "# Nearest Neighbors: Regression"
   ]
  },
  {
   "cell_type": "markdown",
   "id": "346f4850-7a56-4216-bd96-d9f2c785db5d",
   "metadata": {},
   "source": [
    "## Objectif:\n",
    "Predire la ```temperature moyenne``` de la région de Jaipur en Inde à travers les prévisions météorologiques recolté depuis le 1er mai 2016 au 11 mars 2018."
   ]
  },
  {
   "cell_type": "markdown",
   "id": "9fcb9283-d45b-4a80-8399-b09df786e813",
   "metadata": {},
   "source": [
    "## Importation des modules:"
   ]
  },
  {
   "cell_type": "code",
   "execution_count": 2,
   "id": "d6e444f2-6a6e-46dd-a852-495455b99af0",
   "metadata": {},
   "outputs": [],
   "source": [
    "import numpy as np\n",
    "import pandas as pd\n",
    "import seaborn as sns\n",
    "import matplotlib.pyplot as plt\n",
    "from sklearn.neighbors import KNeighborsRegressor\n",
    "from sklearn.model_selection import train_test_split\n",
    "from sklearn.metrics import mean_absolute_error\n",
    "from sklearn.metrics import mean_squared_error\n",
    "from sklearn.metrics import median_absolute_error\n",
    "from sklearn.metrics import confusion_matrix\n",
    "from sklearn.metrics import r2_score"
   ]
  },
  {
   "cell_type": "code",
   "execution_count": 29,
   "id": "6a26f7be-68a2-4d87-bd83-87919ee75ad3",
   "metadata": {},
   "outputs": [],
   "source": [
    "%matplotlib tk"
   ]
  },
  {
   "cell_type": "markdown",
   "id": "2a1d98c4-129b-4eb2-8993-689539644036",
   "metadata": {},
   "source": [
    "## Chargement du dataset:"
   ]
  },
  {
   "cell_type": "code",
   "execution_count": 3,
   "id": "983f520d-9c12-4aa5-baf5-d1b363c08e96",
   "metadata": {},
   "outputs": [],
   "source": [
    "previsio_meteo = pd.read_csv(\"../../datasets/JaipurFinalCleanData.csv\")"
   ]
  },
  {
   "cell_type": "markdown",
   "id": "0e52aba6-1ba0-4ab5-b042-f6917b5d3f4b",
   "metadata": {},
   "source": [
    "## Exploration des données:"
   ]
  },
  {
   "cell_type": "markdown",
   "id": "fb1bfc71-0efa-4831-ae3b-6cc665b9b4ae",
   "metadata": {},
   "source": [
    "#### Les différents colonnes:\n",
    "- date: date à la quelle les données ont été prélevé\n",
    "- meantempm: temperature moyenne mesuré dans la journée\n",
    "- maxtempm: temperature maximal mesuré dans la journée\n",
    "- mintempm: temperature minimal mesuré dans la journée\n",
    "- meantempm_1: temperature moyenne mesuré dans une première partie de la journée\n",
    "- meantempm_2: temperature moyenne mesuré dans une deuxième partie de la journée\n",
    "- meantempm_3: temperature moyenne mesuré dans une troisième partie de la journée\n",
    "- meandewptm_1: mesure de rosée (point à laquelle l'air doit être refroidi pour que la vapeur d'eau présente dans l'air commence à se condenser) moyenne dans une première partie de la journée\n",
    "- meandewptm_2: mesure de rosée moyenne dans une deuxième partie de la journée\n",
    "- meandewptm_3: mesure de rosée moyenne dans une troisième partie de la journée\n",
    "- meanpressurem_1: mesure de la pression moyenne                                 \n",
    "- maxhumidity_1: humidité maximal mesuré dans une prémière partie de la journée\n",
    "- minhumidity_1: humidité minimal mesuré dans une prémière partie de la journée\n",
    "- maxtempm_1: temperature maximale mesuré dans une prémière partie de la journée\n",
    "- mintempm_1: temperature minimale mesuré dans une prémière partie de la journée\n",
    "- maxdewptm_1: mesure de profondeur maximale dans une première partie de la journée\n",
    "- mindewptm_1: mesure de profondeur minimale dans une première partie de la journée\n",
    "- precipm_1: mesure de précipitation dans une première partie de la journée\n",
    "- . . ."
   ]
  },
  {
   "cell_type": "code",
   "execution_count": 4,
   "id": "8853fc7d-bd2d-4af7-8d73-5608384f9f48",
   "metadata": {},
   "outputs": [
    {
     "data": {
      "text/html": [
       "<div>\n",
       "<style scoped>\n",
       "    .dataframe tbody tr th:only-of-type {\n",
       "        vertical-align: middle;\n",
       "    }\n",
       "\n",
       "    .dataframe tbody tr th {\n",
       "        vertical-align: top;\n",
       "    }\n",
       "\n",
       "    .dataframe thead th {\n",
       "        text-align: right;\n",
       "    }\n",
       "</style>\n",
       "<table border=\"1\" class=\"dataframe\">\n",
       "  <thead>\n",
       "    <tr style=\"text-align: right;\">\n",
       "      <th></th>\n",
       "      <th>date</th>\n",
       "      <th>meantempm</th>\n",
       "      <th>maxtempm</th>\n",
       "      <th>mintempm</th>\n",
       "      <th>meantempm_1</th>\n",
       "      <th>meantempm_2</th>\n",
       "      <th>meantempm_3</th>\n",
       "      <th>meandewptm_1</th>\n",
       "      <th>meandewptm_2</th>\n",
       "      <th>meandewptm_3</th>\n",
       "      <th>...</th>\n",
       "      <th>mindewptm_3</th>\n",
       "      <th>maxpressurem_1</th>\n",
       "      <th>maxpressurem_2</th>\n",
       "      <th>maxpressurem_3</th>\n",
       "      <th>minpressurem_1</th>\n",
       "      <th>minpressurem_2</th>\n",
       "      <th>minpressurem_3</th>\n",
       "      <th>precipm_1</th>\n",
       "      <th>precipm_2</th>\n",
       "      <th>precipm_3</th>\n",
       "    </tr>\n",
       "  </thead>\n",
       "  <tbody>\n",
       "    <tr>\n",
       "      <th>0</th>\n",
       "      <td>2016-05-04</td>\n",
       "      <td>34</td>\n",
       "      <td>41</td>\n",
       "      <td>27</td>\n",
       "      <td>35.0</td>\n",
       "      <td>36.0</td>\n",
       "      <td>34.0</td>\n",
       "      <td>6.0</td>\n",
       "      <td>4.0</td>\n",
       "      <td>-1.0</td>\n",
       "      <td>...</td>\n",
       "      <td>-10.0</td>\n",
       "      <td>1009.0</td>\n",
       "      <td>1008.0</td>\n",
       "      <td>1009.0</td>\n",
       "      <td>1000.0</td>\n",
       "      <td>1001.0</td>\n",
       "      <td>999.0</td>\n",
       "      <td>0.0</td>\n",
       "      <td>0.0</td>\n",
       "      <td>0.0</td>\n",
       "    </tr>\n",
       "    <tr>\n",
       "      <th>1</th>\n",
       "      <td>2016-05-05</td>\n",
       "      <td>31</td>\n",
       "      <td>38</td>\n",
       "      <td>24</td>\n",
       "      <td>34.0</td>\n",
       "      <td>35.0</td>\n",
       "      <td>36.0</td>\n",
       "      <td>7.0</td>\n",
       "      <td>6.0</td>\n",
       "      <td>4.0</td>\n",
       "      <td>...</td>\n",
       "      <td>-2.0</td>\n",
       "      <td>1008.0</td>\n",
       "      <td>1009.0</td>\n",
       "      <td>1008.0</td>\n",
       "      <td>1001.0</td>\n",
       "      <td>1000.0</td>\n",
       "      <td>1001.0</td>\n",
       "      <td>0.0</td>\n",
       "      <td>0.0</td>\n",
       "      <td>0.0</td>\n",
       "    </tr>\n",
       "    <tr>\n",
       "      <th>2</th>\n",
       "      <td>2016-05-06</td>\n",
       "      <td>28</td>\n",
       "      <td>34</td>\n",
       "      <td>21</td>\n",
       "      <td>31.0</td>\n",
       "      <td>34.0</td>\n",
       "      <td>35.0</td>\n",
       "      <td>11.0</td>\n",
       "      <td>7.0</td>\n",
       "      <td>6.0</td>\n",
       "      <td>...</td>\n",
       "      <td>-2.0</td>\n",
       "      <td>1011.0</td>\n",
       "      <td>1008.0</td>\n",
       "      <td>1009.0</td>\n",
       "      <td>1003.0</td>\n",
       "      <td>1001.0</td>\n",
       "      <td>1000.0</td>\n",
       "      <td>5.0</td>\n",
       "      <td>0.0</td>\n",
       "      <td>0.0</td>\n",
       "    </tr>\n",
       "    <tr>\n",
       "      <th>3</th>\n",
       "      <td>2016-05-07</td>\n",
       "      <td>30</td>\n",
       "      <td>38</td>\n",
       "      <td>23</td>\n",
       "      <td>28.0</td>\n",
       "      <td>31.0</td>\n",
       "      <td>34.0</td>\n",
       "      <td>13.0</td>\n",
       "      <td>11.0</td>\n",
       "      <td>7.0</td>\n",
       "      <td>...</td>\n",
       "      <td>0.0</td>\n",
       "      <td>1011.0</td>\n",
       "      <td>1011.0</td>\n",
       "      <td>1008.0</td>\n",
       "      <td>1004.0</td>\n",
       "      <td>1003.0</td>\n",
       "      <td>1001.0</td>\n",
       "      <td>0.0</td>\n",
       "      <td>5.0</td>\n",
       "      <td>0.0</td>\n",
       "    </tr>\n",
       "    <tr>\n",
       "      <th>4</th>\n",
       "      <td>2016-05-08</td>\n",
       "      <td>34</td>\n",
       "      <td>41</td>\n",
       "      <td>26</td>\n",
       "      <td>30.0</td>\n",
       "      <td>28.0</td>\n",
       "      <td>31.0</td>\n",
       "      <td>10.0</td>\n",
       "      <td>13.0</td>\n",
       "      <td>11.0</td>\n",
       "      <td>...</td>\n",
       "      <td>6.0</td>\n",
       "      <td>1010.0</td>\n",
       "      <td>1011.0</td>\n",
       "      <td>1011.0</td>\n",
       "      <td>1002.0</td>\n",
       "      <td>1004.0</td>\n",
       "      <td>1003.0</td>\n",
       "      <td>0.0</td>\n",
       "      <td>0.0</td>\n",
       "      <td>5.0</td>\n",
       "    </tr>\n",
       "  </tbody>\n",
       "</table>\n",
       "<p>5 rows × 40 columns</p>\n",
       "</div>"
      ],
      "text/plain": [
       "         date  meantempm  maxtempm  mintempm  meantempm_1  meantempm_2  \\\n",
       "0  2016-05-04         34        41        27         35.0         36.0   \n",
       "1  2016-05-05         31        38        24         34.0         35.0   \n",
       "2  2016-05-06         28        34        21         31.0         34.0   \n",
       "3  2016-05-07         30        38        23         28.0         31.0   \n",
       "4  2016-05-08         34        41        26         30.0         28.0   \n",
       "\n",
       "   meantempm_3  meandewptm_1  meandewptm_2  meandewptm_3  ...  mindewptm_3  \\\n",
       "0         34.0           6.0           4.0          -1.0  ...        -10.0   \n",
       "1         36.0           7.0           6.0           4.0  ...         -2.0   \n",
       "2         35.0          11.0           7.0           6.0  ...         -2.0   \n",
       "3         34.0          13.0          11.0           7.0  ...          0.0   \n",
       "4         31.0          10.0          13.0          11.0  ...          6.0   \n",
       "\n",
       "   maxpressurem_1  maxpressurem_2  maxpressurem_3  minpressurem_1  \\\n",
       "0          1009.0          1008.0          1009.0          1000.0   \n",
       "1          1008.0          1009.0          1008.0          1001.0   \n",
       "2          1011.0          1008.0          1009.0          1003.0   \n",
       "3          1011.0          1011.0          1008.0          1004.0   \n",
       "4          1010.0          1011.0          1011.0          1002.0   \n",
       "\n",
       "   minpressurem_2  minpressurem_3  precipm_1  precipm_2  precipm_3  \n",
       "0          1001.0           999.0        0.0        0.0        0.0  \n",
       "1          1000.0          1001.0        0.0        0.0        0.0  \n",
       "2          1001.0          1000.0        5.0        0.0        0.0  \n",
       "3          1003.0          1001.0        0.0        5.0        0.0  \n",
       "4          1004.0          1003.0        0.0        0.0        5.0  \n",
       "\n",
       "[5 rows x 40 columns]"
      ]
     },
     "execution_count": 4,
     "metadata": {},
     "output_type": "execute_result"
    }
   ],
   "source": [
    "previsio_meteo.head()"
   ]
  },
  {
   "cell_type": "code",
   "execution_count": 5,
   "id": "93abab43-1a89-46e1-b570-ae067129da18",
   "metadata": {},
   "outputs": [
    {
     "name": "stdout",
     "output_type": "stream",
     "text": [
      "<class 'pandas.core.frame.DataFrame'>\n",
      "RangeIndex: 676 entries, 0 to 675\n",
      "Data columns (total 40 columns):\n",
      " #   Column           Non-Null Count  Dtype  \n",
      "---  ------           --------------  -----  \n",
      " 0   date             676 non-null    object \n",
      " 1   meantempm        676 non-null    int64  \n",
      " 2   maxtempm         676 non-null    int64  \n",
      " 3   mintempm         676 non-null    int64  \n",
      " 4   meantempm_1      676 non-null    float64\n",
      " 5   meantempm_2      676 non-null    float64\n",
      " 6   meantempm_3      676 non-null    float64\n",
      " 7   meandewptm_1     676 non-null    float64\n",
      " 8   meandewptm_2     676 non-null    float64\n",
      " 9   meandewptm_3     676 non-null    float64\n",
      " 10  meanpressurem_1  676 non-null    float64\n",
      " 11  meanpressurem_2  676 non-null    float64\n",
      " 12  meanpressurem_3  676 non-null    float64\n",
      " 13  maxhumidity_1    676 non-null    float64\n",
      " 14  maxhumidity_2    676 non-null    float64\n",
      " 15  maxhumidity_3    676 non-null    float64\n",
      " 16  minhumidity_1    676 non-null    float64\n",
      " 17  minhumidity_2    676 non-null    float64\n",
      " 18  minhumidity_3    676 non-null    float64\n",
      " 19  maxtempm_1       676 non-null    float64\n",
      " 20  maxtempm_2       676 non-null    float64\n",
      " 21  maxtempm_3       676 non-null    float64\n",
      " 22  mintempm_1       676 non-null    float64\n",
      " 23  mintempm_2       676 non-null    float64\n",
      " 24  mintempm_3       676 non-null    float64\n",
      " 25  maxdewptm_1      676 non-null    float64\n",
      " 26  maxdewptm_2      676 non-null    float64\n",
      " 27  maxdewptm_3      676 non-null    float64\n",
      " 28  mindewptm_1      676 non-null    float64\n",
      " 29  mindewptm_2      676 non-null    float64\n",
      " 30  mindewptm_3      676 non-null    float64\n",
      " 31  maxpressurem_1   676 non-null    float64\n",
      " 32  maxpressurem_2   676 non-null    float64\n",
      " 33  maxpressurem_3   676 non-null    float64\n",
      " 34  minpressurem_1   676 non-null    float64\n",
      " 35  minpressurem_2   676 non-null    float64\n",
      " 36  minpressurem_3   676 non-null    float64\n",
      " 37  precipm_1        676 non-null    float64\n",
      " 38  precipm_2        676 non-null    float64\n",
      " 39  precipm_3        676 non-null    float64\n",
      "dtypes: float64(36), int64(3), object(1)\n",
      "memory usage: 211.4+ KB\n"
     ]
    }
   ],
   "source": [
    "# visualisation des colonnes\n",
    "previsio_meteo.info()"
   ]
  },
  {
   "cell_type": "code",
   "execution_count": 6,
   "id": "33ac92e8-4a79-438c-8154-bb50c2603a0d",
   "metadata": {},
   "outputs": [
    {
     "data": {
      "text/plain": [
       "date               0\n",
       "meantempm          0\n",
       "maxtempm           0\n",
       "mintempm           0\n",
       "meantempm_1        0\n",
       "meantempm_2        0\n",
       "meantempm_3        0\n",
       "meandewptm_1       0\n",
       "meandewptm_2       0\n",
       "meandewptm_3       0\n",
       "meanpressurem_1    0\n",
       "meanpressurem_2    0\n",
       "meanpressurem_3    0\n",
       "maxhumidity_1      0\n",
       "maxhumidity_2      0\n",
       "maxhumidity_3      0\n",
       "minhumidity_1      0\n",
       "minhumidity_2      0\n",
       "minhumidity_3      0\n",
       "maxtempm_1         0\n",
       "maxtempm_2         0\n",
       "maxtempm_3         0\n",
       "mintempm_1         0\n",
       "mintempm_2         0\n",
       "mintempm_3         0\n",
       "maxdewptm_1        0\n",
       "maxdewptm_2        0\n",
       "maxdewptm_3        0\n",
       "mindewptm_1        0\n",
       "mindewptm_2        0\n",
       "mindewptm_3        0\n",
       "maxpressurem_1     0\n",
       "maxpressurem_2     0\n",
       "maxpressurem_3     0\n",
       "minpressurem_1     0\n",
       "minpressurem_2     0\n",
       "minpressurem_3     0\n",
       "precipm_1          0\n",
       "precipm_2          0\n",
       "precipm_3          0\n",
       "dtype: int64"
      ]
     },
     "execution_count": 6,
     "metadata": {},
     "output_type": "execute_result"
    }
   ],
   "source": [
    "# virification pour voir le nombre de valeur manquante par colonne\n",
    "previsio_meteo.isnull().sum()"
   ]
  },
  {
   "cell_type": "code",
   "execution_count": 1,
   "id": "4b73cd3f-4288-4e8c-8d8b-bde4ae4095d7",
   "metadata": {},
   "outputs": [],
   "source": [
    "# # plt.cm.Accent\n",
    "# plt.figure(figsize=(200,200))\n",
    "# plt.title('Correlation', y=1.05, size=15)\n",
    "# sns.heatmap(previsio_meteo.corr(), annot=True)\n",
    "# plt.show()"
   ]
  },
  {
   "cell_type": "markdown",
   "id": "37dd5651-e1db-4f61-9d2f-55380475f1af",
   "metadata": {},
   "source": [
    "## Prétraitement des données:"
   ]
  },
  {
   "cell_type": "code",
   "execution_count": 2,
   "id": "c6c3828b-2388-41ae-96b4-64062f4c51a1",
   "metadata": {},
   "outputs": [
    {
     "ename": "NameError",
     "evalue": "name 'previsio_meteo' is not defined",
     "output_type": "error",
     "traceback": [
      "\u001b[1;31m---------------------------------------------------------------------------\u001b[0m",
      "\u001b[1;31mNameError\u001b[0m                                 Traceback (most recent call last)",
      "\u001b[1;32m~\\AppData\\Local\\Temp\\ipykernel_10012\\2452512644.py\u001b[0m in \u001b[0;36m<module>\u001b[1;34m\u001b[0m\n\u001b[0;32m      1\u001b[0m \u001b[1;31m# on va convertir la colonne \"date\" en entier, pour cela on va d'abords supprimé le symbole \"-\" dans les valeurs\u001b[0m\u001b[1;33m\u001b[0m\u001b[1;33m\u001b[0m\u001b[0m\n\u001b[1;32m----> 2\u001b[1;33m \u001b[1;32mfor\u001b[0m \u001b[0mi\u001b[0m \u001b[1;32min\u001b[0m \u001b[0mrange\u001b[0m\u001b[1;33m(\u001b[0m\u001b[0mlen\u001b[0m\u001b[1;33m(\u001b[0m\u001b[0mprevisio_meteo\u001b[0m\u001b[1;33m[\u001b[0m\u001b[1;34m\"date\"\u001b[0m\u001b[1;33m]\u001b[0m\u001b[1;33m)\u001b[0m\u001b[1;33m)\u001b[0m\u001b[1;33m:\u001b[0m\u001b[1;33m\u001b[0m\u001b[1;33m\u001b[0m\u001b[0m\n\u001b[0m\u001b[0;32m      3\u001b[0m     \u001b[0mprevisio_meteo\u001b[0m\u001b[1;33m[\u001b[0m\u001b[1;34m\"date\"\u001b[0m\u001b[1;33m]\u001b[0m\u001b[1;33m[\u001b[0m\u001b[0mi\u001b[0m\u001b[1;33m]\u001b[0m \u001b[1;33m=\u001b[0m \u001b[0mprevisio_meteo\u001b[0m\u001b[1;33m[\u001b[0m\u001b[1;34m\"date\"\u001b[0m\u001b[1;33m]\u001b[0m\u001b[1;33m[\u001b[0m\u001b[0mi\u001b[0m\u001b[1;33m]\u001b[0m\u001b[1;33m.\u001b[0m\u001b[0mreplace\u001b[0m\u001b[1;33m(\u001b[0m\u001b[1;34m\"-\"\u001b[0m\u001b[1;33m,\u001b[0m \u001b[1;34m\"\"\u001b[0m\u001b[1;33m)\u001b[0m\u001b[1;33m\u001b[0m\u001b[1;33m\u001b[0m\u001b[0m\n",
      "\u001b[1;31mNameError\u001b[0m: name 'previsio_meteo' is not defined"
     ]
    }
   ],
   "source": [
    "# on va convertir la colonne \"date\" en entier, pour cela on va d'abords supprimé le symbole \"-\" dans les valeurs\n",
    "for i in range(len(previsio_meteo[\"date\"])):\n",
    "    previsio_meteo[\"date\"][i] = previsio_meteo[\"date\"][i].replace(\"-\", \"\")"
   ]
  },
  {
   "cell_type": "code",
   "execution_count": 9,
   "id": "5d8aab15-9a85-4247-84d9-c57b624ed5cf",
   "metadata": {},
   "outputs": [
    {
     "data": {
      "text/plain": [
       "0      20160504\n",
       "1      20160505\n",
       "2      20160506\n",
       "3      20160507\n",
       "4      20160508\n",
       "         ...   \n",
       "671    20180307\n",
       "672    20180308\n",
       "673    20180309\n",
       "674    20180310\n",
       "675    20180311\n",
       "Name: date, Length: 676, dtype: int32"
      ]
     },
     "execution_count": 9,
     "metadata": {},
     "output_type": "execute_result"
    }
   ],
   "source": [
    "previsio_meteo[\"date\"].astype('int')"
   ]
  },
  {
   "cell_type": "code",
   "execution_count": 10,
   "id": "2ae175ab-8d6b-4d6e-ad85-81923e76c89a",
   "metadata": {},
   "outputs": [],
   "source": [
    "# Changement de la position de notre colonne Cible (le target)\n",
    "Y = previsio_meteo[\"meantempm\"]\n",
    "previsio_meteo.drop(columns=\"meantempm\", inplace=True)\n",
    "# previsio_meteo[\"meantempm\"] = Y"
   ]
  },
  {
   "cell_type": "markdown",
   "id": "8bf62f20-ba70-40ca-b6b5-d946526a9369",
   "metadata": {},
   "source": [
    "### Subdivision du dataset"
   ]
  },
  {
   "cell_type": "code",
   "execution_count": 11,
   "id": "9e0c7693-b844-4f2c-adf1-0421e64993f9",
   "metadata": {},
   "outputs": [],
   "source": [
    "X = previsio_meteo.iloc[:, 0:39]\n",
    "# Y = previsio_meteo.iloc[:, 39]"
   ]
  },
  {
   "cell_type": "code",
   "execution_count": 12,
   "id": "5da856d6-a42e-4440-b24f-3df2ae6aa03c",
   "metadata": {},
   "outputs": [],
   "source": [
    "x_train, x_test, y_train, y_test = train_test_split(X, Y, test_size=0.20, random_state=0)"
   ]
  },
  {
   "cell_type": "markdown",
   "id": "e5a716ff-f4ed-42f4-ac28-dee65cc0e4d5",
   "metadata": {},
   "source": [
    "### Selection du model"
   ]
  },
  {
   "cell_type": "code",
   "execution_count": 24,
   "id": "4a4de908-9734-409c-843d-8bda2acbc48e",
   "metadata": {},
   "outputs": [
    {
     "data": {
      "image/png": "[encoded data removed]",
      "text/plain": [
       "<Figure size 640x480 with 1 Axes>"
      ]
     },
     "metadata": {},
     "output_type": "display_data"
    }
   ],
   "source": [
    "k_optimal = dict()\n",
    "models = dict()\n",
    "for i in range(50): # 50 est une valeur arbitraire\n",
    "    regression = KNeighborsRegressor(n_neighbors=i+1, p=2, metric='euclidean') # p: c'est l'hyper paramètre qui definit la metric qu'on veut utiliser. Si c'est 1 c'est Manhattan, si c'est 2 c'est Euclidienne.\n",
    "    models[i+1] = regression.fit(x_train, y_train)\n",
    "    k_optimal[i+1] = regression.score(x_test, y_test)\n",
    "    \n",
    "df_score = pd.DataFrame({\"k\": k_optimal.keys(),\"score\": k_optimal.values()})\n",
    "# df_score\n",
    "plt.plot(df_score[\"k\"], df_score[\"score\"])\n",
    "plt.xlabel(\"k\")\n",
    "plt.ylabel(\"score\")\n",
    "plt.show()"
   ]
  },
  {
   "cell_type": "code",
   "execution_count": 25,
   "id": "9f1e3773-82b9-4bee-bc18-7050423fe9c6",
   "metadata": {},
   "outputs": [
    {
     "data": {
      "text/html": [
       "<div>\n",
       "<style scoped>\n",
       "    .dataframe tbody tr th:only-of-type {\n",
       "        vertical-align: middle;\n",
       "    }\n",
       "\n",
       "    .dataframe tbody tr th {\n",
       "        vertical-align: top;\n",
       "    }\n",
       "\n",
       "    .dataframe thead th {\n",
       "        text-align: right;\n",
       "    }\n",
       "</style>\n",
       "<table border=\"1\" class=\"dataframe\">\n",
       "  <thead>\n",
       "    <tr style=\"text-align: right;\">\n",
       "      <th></th>\n",
       "      <th>k</th>\n",
       "      <th>score</th>\n",
       "    </tr>\n",
       "  </thead>\n",
       "  <tbody>\n",
       "    <tr>\n",
       "      <th>3</th>\n",
       "      <td>4</td>\n",
       "      <td>0.921034</td>\n",
       "    </tr>\n",
       "  </tbody>\n",
       "</table>\n",
       "</div>"
      ],
      "text/plain": [
       "   k     score\n",
       "3  4  0.921034"
      ]
     },
     "execution_count": 25,
     "metadata": {},
     "output_type": "execute_result"
    }
   ],
   "source": [
    "df_score.loc[df_score.score == df_score.score.max()]"
   ]
  },
  {
   "cell_type": "code",
   "execution_count": 26,
   "id": "41ad1e2c-152d-4b0f-9f06-93638059e576",
   "metadata": {},
   "outputs": [],
   "source": [
    "model = models[4]"
   ]
  },
  {
   "cell_type": "markdown",
   "id": "c0efb607-90f2-4eda-9af8-0863715aa6b6",
   "metadata": {},
   "source": [
    "### Evaluation du model"
   ]
  },
  {
   "cell_type": "code",
   "execution_count": 27,
   "id": "6e022c61-fc37-4fc3-bbff-6f6d89eb3261",
   "metadata": {},
   "outputs": [
    {
     "data": {
      "text/plain": [
       "0.921033670244213"
      ]
     },
     "execution_count": 27,
     "metadata": {},
     "output_type": "execute_result"
    }
   ],
   "source": [
    "model.score(x_test, y_test) # score utilise le coefficient de determination: score = 1 - (MSE / variance); variance = sum((y_test - np.mean(y_test))**2)"
   ]
  },
  {
   "cell_type": "markdown",
   "id": "5d21142a-bf43-4a43-8de3-6369f7e8bd0c",
   "metadata": {},
   "source": [
    "### Prediction"
   ]
  },
  {
   "cell_type": "code",
   "execution_count": 28,
   "id": "a6907931-f8f9-438a-8a7b-f179fa90afc2",
   "metadata": {},
   "outputs": [],
   "source": [
    "y_predict = model.predict(x_test)"
   ]
  },
  {
   "cell_type": "markdown",
   "id": "8b83024a-ec0e-4f12-8ae6-09d2f66027fe",
   "metadata": {},
   "source": [
    "### Metrics"
   ]
  },
  {
   "cell_type": "markdown",
   "id": "a274793a-0b26-42ea-8619-855f23caadfb",
   "metadata": {},
   "source": [
    "#### MSE (Mean Squared Error)"
   ]
  },
  {
   "cell_type": "code",
   "execution_count": 17,
   "id": "74fe5c85-9ea7-4f4a-b1e2-b2773327d4f3",
   "metadata": {},
   "outputs": [
    {
     "name": "stdout",
     "output_type": "stream",
     "text": [
      "Erreur MSE:  3.0041360294117645\n"
     ]
    }
   ],
   "source": [
    "print(\"Erreur MSE: \",mean_squared_error(y_test, y_predict)) # MSE = sum((y_test - y_predict)**2) / n, n est la taille du dataset"
   ]
  },
  {
   "cell_type": "markdown",
   "id": "3d560e33-37ec-4f9c-91fa-9313d8466752",
   "metadata": {},
   "source": [
    "#### RMSE (Root Mean Squared Error)"
   ]
  },
  {
   "cell_type": "code",
   "execution_count": 18,
   "id": "863bde8c-cc27-4cc4-bd1b-736da479ae06",
   "metadata": {},
   "outputs": [
    {
     "name": "stdout",
     "output_type": "stream",
     "text": [
      "Erreur RMSE:  1.1023037373663236\n"
     ]
    }
   ],
   "source": [
    "print(\"Erreur RMSE: \",np.sqrt(mean_absolute_error(y_test, y_predict))) # RMSE = sqrt(MSE)"
   ]
  },
  {
   "cell_type": "markdown",
   "id": "bf352576-63ca-4110-93c3-b566f4f0cde4",
   "metadata": {},
   "source": [
    "#### MAE (Mean Absolute Error)"
   ]
  },
  {
   "cell_type": "code",
   "execution_count": 19,
   "id": "9345936a-8d42-45bf-925e-f08ac25f7eb7",
   "metadata": {},
   "outputs": [
    {
     "name": "stdout",
     "output_type": "stream",
     "text": [
      "Erreur MAE:  1.2150735294117647\n"
     ]
    }
   ],
   "source": [
    "print(\"Erreur MAE: \",mean_absolute_error(y_test, y_predict)) # MAE = sum(abs(y_test - y_predict)) / n, n est la taille du dataset"
   ]
  },
  {
   "cell_type": "markdown",
   "id": "ebf96a62-c6a6-4905-94f9-2cc0aea513d3",
   "metadata": {},
   "source": [
    "#### Median Absolute Error"
   ]
  },
  {
   "cell_type": "code",
   "execution_count": 20,
   "id": "acb1ad9b-6b05-46cf-86ca-aeaed8db3d9e",
   "metadata": {},
   "outputs": [
    {
     "name": "stdout",
     "output_type": "stream",
     "text": [
      "Median Absolute Error:  1.0\n"
     ]
    }
   ],
   "source": [
    "print(\"Median Absolute Error: \",median_absolute_error(y_test, y_predict)) # Median Absolute Error = np.median(abs(y_test - y_predict))"
   ]
  },
  {
   "cell_type": "code",
   "execution_count": 21,
   "id": "24401de6-705d-4c9a-9141-a64bd57258aa",
   "metadata": {},
   "outputs": [],
   "source": [
    "# # error = np.abs(y_test-y_predict)\n",
    "# plt.scatter(x_test.values[:, 0], y_predict, label='y_predict')\n",
    "# plt.scatter(x_test.values[:, 0], y_test, label='y_test')\n",
    "# plt.xlabel('Jours')\n",
    "# plt.ylabel('Temperatures moyenne')\n",
    "# plt.legend();"
   ]
  },
  {
   "cell_type": "code",
   "execution_count": null,
   "id": "a4a49bd9-c065-4f0c-a6be-7ffc42bd5a4f",
   "metadata": {},
   "outputs": [],
   "source": []
  }
 ],
 "metadata": {
  "kernelspec": {
   "display_name": "Python 3 (ipykernel)",
   "language": "python",
   "name": "python3"
  },
  "language_info": {
   "codemirror_mode": {
    "name": "ipython",
    "version": 3
   },
   "file_extension": ".py",
   "mimetype": "text/x-python",
   "name": "python",
   "nbconvert_exporter": "python",
   "pygments_lexer": "ipython3",
   "version": "3.9.13"
  }
 },
 "nbformat": 4,
 "nbformat_minor": 5
}
