{
 "cells": [
  {
   "cell_type": "code",
   "execution_count": 1,
   "id": "971835de-6a59-49fb-aafc-1a209ef5e2f9",
   "metadata": {},
   "outputs": [],
   "source": [
    "import numpy as np\n",
    "from tensorflow.keras import optimizers\n",
    "from tensorflow.keras.models import Sequential\n",
    "from tensorflow.keras.layers import Dense\n",
    "from tensorflow.keras.datasets import mnist\n",
    "from tensorflow.keras.utils import to_categorical"
   ]
  },
  {
   "cell_type": "markdown",
   "id": "91203823-4cdc-4820-9d00-7b12c57fb122",
   "metadata": {},
   "source": [
    "### Partie A - Les données"
   ]
  },
  {
   "cell_type": "code",
   "execution_count": 2,
   "id": "f6fd7373-7669-4bf3-989d-24bdbd9372a2",
   "metadata": {},
   "outputs": [],
   "source": [
    "# Téléchargement des données\n",
    "(X_train_data,Y_train_data),(X_test_data,Y_test_data) = mnist.load_data()\n",
    "N = X_train_data.shape[0] # N = 60 000 données"
   ]
  },
  {
   "cell_type": "code",
   "execution_count": 3,
   "id": "7d641677-09f9-4b46-a6ed-865ebd7c0a43",
   "metadata": {},
   "outputs": [],
   "source": [
    "# Données d'apprentissage X\n",
    "X_train = np.reshape(X_train_data,(N,784)) # vecteur image\n",
    "X_train = X_train/255 # normalisation"
   ]
  },
  {
   "cell_type": "code",
   "execution_count": 4,
   "id": "2bec0d58-f55d-4ff2-b01a-cdad6949652c",
   "metadata": {},
   "outputs": [],
   "source": [
    "# Données d'apprentissage Y vers une liste de taille 10\n",
    "Y_train = to_categorical(Y_train_data, num_classes=10)"
   ]
  },
  {
   "cell_type": "code",
   "execution_count": 5,
   "id": "8a96dd35-2eba-46bb-90e2-65f974e6535c",
   "metadata": {},
   "outputs": [],
   "source": [
    "# Données de test\n",
    "X_test = np.reshape(X_test_data,(X_test_data.shape[0],784))\n",
    "X_test = X_test/255\n",
    "Y_test = to_categorical(Y_test_data, num_classes=10)"
   ]
  },
  {
   "cell_type": "markdown",
   "id": "7da4b3e2-2abe-48bb-b59b-e4c58745a14b",
   "metadata": {},
   "source": [
    "### Partie B - Le réseau de neurones"
   ]
  },
  {
   "cell_type": "code",
   "execution_count": 6,
   "id": "5d4b1ab7-d66d-418d-a200-20eef6e2b674",
   "metadata": {},
   "outputs": [],
   "source": [
    "p = 8\n",
    "modele = Sequential()"
   ]
  },
  {
   "cell_type": "code",
   "execution_count": 7,
   "id": "c1871a48-ae79-43ed-8abc-f1280f5ceee5",
   "metadata": {},
   "outputs": [],
   "source": [
    "# Première couche : p neurones (entrée de dimension 784 = 28x28)\n",
    "modele.add(Dense(p, input_dim=784, activation='sigmoid'))"
   ]
  },
  {
   "cell_type": "code",
   "execution_count": 8,
   "id": "bde18adc-2290-4d70-abd3-3d89e2b014f5",
   "metadata": {},
   "outputs": [],
   "source": [
    "# Deuxième couche : p neurones\n",
    "modele.add(Dense(p, activation='sigmoid'))"
   ]
  },
  {
   "cell_type": "code",
   "execution_count": 9,
   "id": "8444d5fc-c981-46a8-ad60-005d33fa0900",
   "metadata": {},
   "outputs": [],
   "source": [
    "# Couche de sortie : 1O neurones (un par chiffre)\n",
    "modele.add(Dense(10, activation='softmax'))"
   ]
  },
  {
   "cell_type": "code",
   "execution_count": 10,
   "id": "8566810b-6418-4327-a6ee-074097fbf2f1",
   "metadata": {},
   "outputs": [
    {
     "name": "stdout",
     "output_type": "stream",
     "text": [
      "Model: \"sequential\"\n",
      "_________________________________________________________________\n",
      " Layer (type)                Output Shape              Param #   \n",
      "=================================================================\n",
      " dense (Dense)               (None, 8)                 6280      \n",
      "                                                                 \n",
      " dense_1 (Dense)             (None, 8)                 72        \n",
      "                                                                 \n",
      " dense_2 (Dense)             (None, 10)                90        \n",
      "                                                                 \n",
      "=================================================================\n",
      "Total params: 6,442\n",
      "Trainable params: 6,442\n",
      "Non-trainable params: 0\n",
      "_________________________________________________________________\n",
      "None\n"
     ]
    }
   ],
   "source": [
    "# Choix de la méthode de descente de gradient\n",
    "modele.compile(loss='categorical_crossentropy',\n",
    "optimizer='sgd',\n",
    "metrics=['accuracy'])\n",
    "print(modele.summary())"
   ]
  },
  {
   "cell_type": "markdown",
   "id": "e759fec4-2022-43da-baa2-74bf525027ff",
   "metadata": {},
   "source": [
    "### Partie C - Calcul des poids par descente de gradient"
   ]
  },
  {
   "cell_type": "code",
   "execution_count": 11,
   "id": "4d7907f1-0ffc-401f-a7fe-2cf08c3d05bb",
   "metadata": {},
   "outputs": [
    {
     "name": "stdout",
     "output_type": "stream",
     "text": [
      "Epoch 1/40\n",
      "1875/1875 [==============================] - 5s 2ms/step - loss: 2.2747 - accuracy: 0.1661\n",
      "Epoch 2/40\n",
      "1875/1875 [==============================] - 3s 2ms/step - loss: 2.1522 - accuracy: 0.2836\n",
      "Epoch 3/40\n",
      "1875/1875 [==============================] - 3s 2ms/step - loss: 1.9568 - accuracy: 0.3449\n",
      "Epoch 4/40\n",
      "1875/1875 [==============================] - 3s 2ms/step - loss: 1.7299 - accuracy: 0.4123\n",
      "Epoch 5/40\n",
      "1875/1875 [==============================] - 3s 2ms/step - loss: 1.5339 - accuracy: 0.4915\n",
      "Epoch 6/40\n",
      "1875/1875 [==============================] - 4s 2ms/step - loss: 1.3705 - accuracy: 0.5870\n",
      "Epoch 7/40\n",
      "1875/1875 [==============================] - 3s 2ms/step - loss: 1.2240 - accuracy: 0.6453\n",
      "Epoch 8/40\n",
      "1875/1875 [==============================] - 3s 2ms/step - loss: 1.0944 - accuracy: 0.6903\n",
      "Epoch 9/40\n",
      "1875/1875 [==============================] - 3s 2ms/step - loss: 0.9849 - accuracy: 0.7334\n",
      "Epoch 10/40\n",
      "1875/1875 [==============================] - 3s 2ms/step - loss: 0.8934 - accuracy: 0.7688\n",
      "Epoch 11/40\n",
      "1875/1875 [==============================] - 4s 2ms/step - loss: 0.8160 - accuracy: 0.7981\n",
      "Epoch 12/40\n",
      "1875/1875 [==============================] - 3s 2ms/step - loss: 0.7503 - accuracy: 0.8209\n",
      "Epoch 13/40\n",
      "1875/1875 [==============================] - 3s 2ms/step - loss: 0.6951 - accuracy: 0.8393\n",
      "Epoch 14/40\n",
      "1875/1875 [==============================] - 3s 2ms/step - loss: 0.6488 - accuracy: 0.8511\n",
      "Epoch 15/40\n",
      "1875/1875 [==============================] - 3s 2ms/step - loss: 0.6103 - accuracy: 0.8586\n",
      "Epoch 16/40\n",
      "1875/1875 [==============================] - 4s 2ms/step - loss: 0.5781 - accuracy: 0.8650\n",
      "Epoch 17/40\n",
      "1875/1875 [==============================] - 3s 2ms/step - loss: 0.5510 - accuracy: 0.8694\n",
      "Epoch 18/40\n",
      "1875/1875 [==============================] - 3s 2ms/step - loss: 0.5279 - accuracy: 0.8735\n",
      "Epoch 19/40\n",
      "1875/1875 [==============================] - 3s 2ms/step - loss: 0.5079 - accuracy: 0.8760\n",
      "Epoch 20/40\n",
      "1875/1875 [==============================] - 4s 2ms/step - loss: 0.4907 - accuracy: 0.8791\n",
      "Epoch 21/40\n",
      "1875/1875 [==============================] - 4s 2ms/step - loss: 0.4752 - accuracy: 0.8807\n",
      "Epoch 22/40\n",
      "1875/1875 [==============================] - 3s 2ms/step - loss: 0.4618 - accuracy: 0.8830\n",
      "Epoch 23/40\n",
      "1875/1875 [==============================] - 3s 2ms/step - loss: 0.4497 - accuracy: 0.8851\n",
      "Epoch 24/40\n",
      "1875/1875 [==============================] - 3s 2ms/step - loss: 0.4389 - accuracy: 0.8877\n",
      "Epoch 25/40\n",
      "1875/1875 [==============================] - 5s 2ms/step - loss: 0.4290 - accuracy: 0.8890\n",
      "Epoch 26/40\n",
      "1875/1875 [==============================] - 4s 2ms/step - loss: 0.4201 - accuracy: 0.8911\n",
      "Epoch 27/40\n",
      "1875/1875 [==============================] - 3s 2ms/step - loss: 0.4121 - accuracy: 0.8921\n",
      "Epoch 28/40\n",
      "1875/1875 [==============================] - 3s 2ms/step - loss: 0.4047 - accuracy: 0.8938\n",
      "Epoch 29/40\n",
      "1875/1875 [==============================] - 3s 2ms/step - loss: 0.3979 - accuracy: 0.8949\n",
      "Epoch 30/40\n",
      "1875/1875 [==============================] - 4s 2ms/step - loss: 0.3915 - accuracy: 0.8959\n",
      "Epoch 31/40\n",
      "1875/1875 [==============================] - 3s 2ms/step - loss: 0.3857 - accuracy: 0.8973\n",
      "Epoch 32/40\n",
      "1875/1875 [==============================] - 3s 2ms/step - loss: 0.3803 - accuracy: 0.8983\n",
      "Epoch 33/40\n",
      "1875/1875 [==============================] - 3s 2ms/step - loss: 0.3753 - accuracy: 0.9002\n",
      "Epoch 34/40\n",
      "1875/1875 [==============================] - 4s 2ms/step - loss: 0.3705 - accuracy: 0.9009\n",
      "Epoch 35/40\n",
      "1875/1875 [==============================] - 4s 2ms/step - loss: 0.3660 - accuracy: 0.9022\n",
      "Epoch 36/40\n",
      "1875/1875 [==============================] - 3s 2ms/step - loss: 0.3620 - accuracy: 0.9028\n",
      "Epoch 37/40\n",
      "1875/1875 [==============================] - 3s 2ms/step - loss: 0.3577 - accuracy: 0.9036\n",
      "Epoch 38/40\n",
      "1875/1875 [==============================] - 3s 2ms/step - loss: 0.3540 - accuracy: 0.9046\n",
      "Epoch 39/40\n",
      "1875/1875 [==============================] - 4s 2ms/step - loss: 0.3504 - accuracy: 0.9054\n",
      "Epoch 40/40\n",
      "1875/1875 [==============================] - 4s 2ms/step - loss: 0.3470 - accuracy: 0.9060\n"
     ]
    },
    {
     "data": {
      "text/plain": [
       "<keras.callbacks.History at 0x1d75f407340>"
      ]
     },
     "execution_count": 11,
     "metadata": {},
     "output_type": "execute_result"
    }
   ],
   "source": [
    "modele.fit(X_train, Y_train, batch_size=32, epochs=40)"
   ]
  },
  {
   "cell_type": "markdown",
   "id": "1891b3e4-ce87-481a-98e2-a070a7ffa3cb",
   "metadata": {},
   "source": [
    "### Partie D - Résultats"
   ]
  },
  {
   "cell_type": "code",
   "execution_count": 12,
   "id": "4d1ef3ef-8221-4d1b-8efa-cbd7706f3f04",
   "metadata": {},
   "outputs": [
    {
     "name": "stdout",
     "output_type": "stream",
     "text": [
      "Valeur de lerreur sur les données de test (loss): 0.34659385681152344\n",
      "Précision sur les données de test (accuracy): 0.9067000150680542\n"
     ]
    }
   ],
   "source": [
    "resultat = modele.evaluate(X_test, Y_test, verbose=0)\n",
    "print('Valeur de l''erreur sur les données de test (loss):', resultat[0])\n",
    "print('Précision sur les données de test (accuracy):', resultat[1])"
   ]
  }
 ],
 "metadata": {
  "kernelspec": {
   "display_name": "Python 3.9.13 ('base')",
   "language": "python",
   "name": "python3"
  },
  "language_info": {
   "codemirror_mode": {
    "name": "ipython",
    "version": 3
   },
   "file_extension": ".py",
   "mimetype": "text/x-python",
   "name": "python",
   "nbconvert_exporter": "python",
   "pygments_lexer": "ipython3",
   "version": "3.9.13"
  },
  "vscode": {
   "interpreter": {
    "hash": "263930470851f494f0ed2879c35b57985588df20f9e529b86e97dd5eb9ddc466"
   }
  }
 },
 "nbformat": 4,
 "nbformat_minor": 5
}
